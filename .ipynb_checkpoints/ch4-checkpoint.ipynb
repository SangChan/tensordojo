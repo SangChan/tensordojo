{
 "cells": [
  {
   "cell_type": "code",
   "execution_count": 2,
   "metadata": {},
   "outputs": [
    {
     "name": "stdout",
     "output_type": "stream",
     "text": [
      "WARNING:tensorflow:From /Users/sangchan/Library/Python/3.7/lib/python/site-packages/tensorflow/python/ops/math_ops.py:3066: to_int32 (from tensorflow.python.ops.math_ops) is deprecated and will be removed in a future version.\n",
      "Instructions for updating:\n",
      "Use tf.cast instead.\n",
      "10 1.188052\n",
      "20 1.176768\n",
      "30 1.1650602\n",
      "40 1.1539673\n",
      "50 1.1433178\n",
      "60 1.1332185\n",
      "70 1.1235662\n",
      "80 1.1143843\n",
      "90 1.1055735\n",
      "100 1.0971862\n",
      "예측값: [2 2 2 2 2 0]\n",
      "실제값: [0 1 2 0 0 2]\n",
      "정확도: 16.67\n"
     ]
    }
   ],
   "source": [
    "import tensorflow as tf\n",
    "import numpy as np\n",
    "\n",
    "x_data = np.array([\n",
    "    [0,0],[1,0],[1,1],[0,0],[0,0],[0,1]\n",
    "])\n",
    "y_data = np.array([\n",
    "    [1,0,0],\n",
    "    [0,1,0],\n",
    "    [0,0,1],\n",
    "    [1,0,0],\n",
    "    [1,0,0],\n",
    "    [0,0,1]\n",
    "])\n",
    "\n",
    "X = tf.placeholder(tf.float32)\n",
    "Y = tf.placeholder(tf.float32)\n",
    "\n",
    "W = tf.Variable(tf.random_uniform([2,3], -1.,1.))\n",
    "b = tf.Variable(tf.zeros([3]))\n",
    "\n",
    "L = tf.add(tf.matmul(X,W),b)\n",
    "L = tf.nn.relu(L)\n",
    "\n",
    "model = tf.nn.softmax(L)\n",
    "cost = tf.reduce_mean(-tf.reduce_sum(Y * tf.log(model), axis = 1))\n",
    "\n",
    "optimizer = tf.train.GradientDescentOptimizer(learning_rate = 0.01)\n",
    "train_op = optimizer.minimize(cost)\n",
    "\n",
    "init = tf.global_variables_initializer()\n",
    "sess = tf.Session()\n",
    "sess.run(init)\n",
    "\n",
    "for step in range(100) : \n",
    "    sess.run(train_op, feed_dict = {X : x_data, Y : y_data})\n",
    "    \n",
    "    if (step+1) % 10 == 0 :\n",
    "        print(step+1, sess.run(cost, feed_dict = {X : x_data, Y : y_data}))\n",
    "        \n",
    "prediction = tf.argmax(model, axis = 1)\n",
    "target = tf.argmax(Y, axis = 1)\n",
    "print(\"예측값:\", sess.run(prediction, feed_dict = {X : x_data}))\n",
    "print(\"실제값:\", sess.run(target, feed_dict = {Y : y_data}))\n",
    "\n",
    "is_correct = tf.equal(prediction, target)\n",
    "accuracy = tf.reduce_mean(tf.cast(is_correct, tf.float32))\n",
    "print(\"정확도: %.2f\" % sess.run(accuracy * 100, feed_dict = {X : x_data, Y : y_data}))"
   ]
  },
  {
   "cell_type": "code",
   "execution_count": null,
   "metadata": {},
   "outputs": [],
   "source": []
  }
 ],
 "metadata": {
  "kernelspec": {
   "display_name": "Python 3",
   "language": "python",
   "name": "python3"
  },
  "language_info": {
   "codemirror_mode": {
    "name": "ipython",
    "version": 3
   },
   "file_extension": ".py",
   "mimetype": "text/x-python",
   "name": "python",
   "nbconvert_exporter": "python",
   "pygments_lexer": "ipython3",
   "version": "3.7.3"
  }
 },
 "nbformat": 4,
 "nbformat_minor": 2
}
