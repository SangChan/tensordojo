{
 "cells": [
  {
   "cell_type": "code",
   "execution_count": 14,
   "metadata": {},
   "outputs": [
    {
     "name": "stdout",
     "output_type": "stream",
     "text": [
      "100\n"
     ]
    }
   ],
   "source": [
    "fred = 100\n",
    "print(fred)"
   ]
  },
  {
   "cell_type": "code",
   "execution_count": 15,
   "metadata": {},
   "outputs": [
    {
     "name": "stdout",
     "output_type": "stream",
     "text": [
      "I've got 100 point\n"
     ]
    }
   ],
   "source": [
    "myscore = 100\n",
    "mystring = \"I've got %s point\"\n",
    "print(mystring % myscore)\n"
   ]
  },
  {
   "cell_type": "code",
   "execution_count": 16,
   "metadata": {},
   "outputs": [
    {
     "name": "stdout",
     "output_type": "stream",
     "text": [
      "first number = 1, second one = 2\n"
     ]
    }
   ],
   "source": [
    "nums = \"first number = %s, second one = %s\"\n",
    "print(nums %(1,2))"
   ]
  },
  {
   "cell_type": "code",
   "execution_count": 17,
   "metadata": {},
   "outputs": [
    {
     "name": "stdout",
     "output_type": "stream",
     "text": [
      "                          12 butts wynd \n"
     ]
    }
   ],
   "source": [
    "spaces = \" \" * 25\n",
    "print(\"%s 12 butts wynd \" %spaces )"
   ]
  },
  {
   "cell_type": "code",
   "execution_count": 18,
   "metadata": {},
   "outputs": [
    {
     "name": "stdout",
     "output_type": "stream",
     "text": [
      "snrlsnrlsnrlsnrlsnrlsnrlsnrlsnrlsnrlsnrlsnrlsnrlsnrlsnrlsnrlsnrlsnrlsnrlsnrlsnrlsnrlsnrlsnrlsnrlsnrlsnrlsnrlsnrlsnrlsnrlsnrlsnrlsnrlsnrlsnrlsnrlsnrlsnrlsnrlsnrlsnrlsnrlsnrlsnrlsnrlsnrlsnrlsnrlsnrlsnrlsnrlsnrlsnrlsnrlsnrlsnrlsnrlsnrlsnrlsnrlsnrlsnrlsnrlsnrlsnrlsnrlsnrlsnrlsnrlsnrlsnrlsnrlsnrlsnrlsnrlsnrlsnrlsnrlsnrlsnrlsnrlsnrlsnrlsnrlsnrlsnrlsnrlsnrlsnrlsnrlsnrlsnrlsnrlsnrlsnrlsnrlsnrlsnrlsnrlsnrlsnrlsnrlsnrlsnrlsnrlsnrlsnrlsnrlsnrlsnrlsnrlsnrlsnrlsnrlsnrlsnrlsnrlsnrlsnrlsnrlsnrlsnrlsnrlsnrlsnrlsnrlsnrlsnrlsnrlsnrlsnrlsnrlsnrlsnrlsnrlsnrlsnrlsnrlsnrlsnrlsnrlsnrlsnrlsnrlsnrlsnrlsnrlsnrlsnrlsnrlsnrlsnrlsnrlsnrlsnrlsnrlsnrlsnrlsnrlsnrlsnrlsnrlsnrlsnrlsnrlsnrlsnrlsnrlsnrlsnrlsnrlsnrlsnrlsnrlsnrlsnrlsnrlsnrlsnrlsnrlsnrlsnrlsnrlsnrlsnrlsnrlsnrlsnrlsnrlsnrlsnrlsnrlsnrlsnrlsnrlsnrlsnrlsnrlsnrlsnrlsnrlsnrlsnrlsnrlsnrlsnrlsnrlsnrlsnrlsnrlsnrlsnrlsnrlsnrlsnrlsnrlsnrlsnrlsnrlsnrlsnrlsnrlsnrlsnrlsnrlsnrlsnrlsnrlsnrlsnrlsnrlsnrlsnrlsnrlsnrlsnrlsnrlsnrlsnrlsnrlsnrlsnrlsnrlsnrlsnrlsnrlsnrlsnrlsnrlsnrlsnrlsnrlsnrlsnrlsnrlsnrlsnrlsnrlsnrlsnrlsnrlsnrlsnrlsnrlsnrlsnrlsnrlsnrlsnrlsnrlsnrlsnrlsnrlsnrlsnrlsnrlsnrlsnrlsnrlsnrlsnrlsnrlsnrlsnrlsnrlsnrlsnrlsnrlsnrlsnrlsnrlsnrlsnrlsnrlsnrlsnrlsnrlsnrlsnrlsnrlsnrlsnrlsnrlsnrlsnrlsnrlsnrlsnrlsnrlsnrlsnrlsnrlsnrlsnrlsnrlsnrlsnrlsnrlsnrlsnrlsnrlsnrlsnrlsnrlsnrlsnrlsnrlsnrlsnrlsnrlsnrlsnrlsnrlsnrlsnrlsnrlsnrlsnrlsnrlsnrlsnrlsnrlsnrlsnrlsnrlsnrlsnrlsnrlsnrlsnrlsnrlsnrlsnrlsnrlsnrlsnrlsnrlsnrlsnrlsnrlsnrlsnrlsnrlsnrlsnrlsnrlsnrlsnrlsnrlsnrlsnrlsnrlsnrlsnrlsnrlsnrlsnrlsnrlsnrlsnrlsnrlsnrlsnrlsnrlsnrlsnrlsnrlsnrlsnrlsnrlsnrlsnrlsnrlsnrlsnrlsnrlsnrlsnrlsnrlsnrlsnrlsnrlsnrlsnrlsnrlsnrlsnrlsnrlsnrlsnrlsnrlsnrlsnrlsnrlsnrlsnrlsnrlsnrlsnrlsnrlsnrlsnrlsnrlsnrlsnrlsnrlsnrlsnrlsnrlsnrlsnrlsnrlsnrlsnrlsnrlsnrlsnrlsnrlsnrlsnrlsnrlsnrlsnrlsnrlsnrlsnrlsnrlsnrlsnrlsnrlsnrlsnrlsnrlsnrlsnrlsnrlsnrlsnrlsnrlsnrlsnrlsnrlsnrlsnrlsnrlsnrlsnrlsnrlsnrlsnrlsnrlsnrlsnrlsnrlsnrlsnrlsnrlsnrlsnrlsnrlsnrlsnrlsnrlsnrlsnrlsnrlsnrlsnrlsnrlsnrlsnrlsnrlsnrlsnrlsnrlsnrlsnrlsnrlsnrlsnrlsnrlsnrlsnrlsnrlsnrlsnrlsnrlsnrlsnrlsnrlsnrlsnrlsnrlsnrlsnrlsnrlsnrlsnrlsnrlsnrlsnrlsnrlsnrlsnrlsnrlsnrlsnrlsnrlsnrlsnrlsnrlsnrlsnrlsnrlsnrlsnrlsnrlsnrlsnrlsnrlsnrlsnrlsnrlsnrlsnrlsnrlsnrlsnrlsnrlsnrlsnrlsnrlsnrlsnrlsnrlsnrlsnrlsnrlsnrlsnrlsnrlsnrlsnrlsnrlsnrlsnrlsnrlsnrlsnrlsnrlsnrlsnrlsnrlsnrlsnrlsnrlsnrlsnrlsnrlsnrlsnrlsnrlsnrlsnrlsnrlsnrlsnrlsnrlsnrlsnrlsnrlsnrlsnrlsnrlsnrlsnrlsnrlsnrlsnrlsnrlsnrlsnrlsnrlsnrlsnrlsnrlsnrlsnrlsnrlsnrlsnrlsnrlsnrlsnrlsnrlsnrlsnrlsnrlsnrlsnrlsnrlsnrlsnrlsnrlsnrlsnrlsnrlsnrlsnrlsnrlsnrlsnrlsnrlsnrlsnrlsnrlsnrlsnrlsnrlsnrlsnrlsnrlsnrlsnrlsnrlsnrlsnrlsnrlsnrlsnrlsnrlsnrlsnrlsnrlsnrlsnrlsnrlsnrlsnrlsnrlsnrlsnrlsnrlsnrlsnrlsnrlsnrlsnrlsnrlsnrlsnrlsnrlsnrlsnrlsnrlsnrlsnrlsnrlsnrlsnrlsnrlsnrlsnrlsnrlsnrlsnrlsnrlsnrlsnrlsnrlsnrlsnrlsnrlsnrlsnrlsnrlsnrlsnrlsnrlsnrlsnrlsnrlsnrlsnrlsnrlsnrlsnrlsnrlsnrlsnrlsnrlsnrlsnrlsnrlsnrlsnrlsnrlsnrlsnrlsnrlsnrlsnrlsnrlsnrlsnrlsnrlsnrlsnrlsnrlsnrlsnrlsnrlsnrlsnrlsnrlsnrlsnrlsnrlsnrlsnrlsnrlsnrlsnrlsnrlsnrlsnrlsnrlsnrlsnrlsnrlsnrlsnrlsnrlsnrlsnrlsnrlsnrlsnrlsnrlsnrlsnrlsnrlsnrlsnrlsnrlsnrlsnrlsnrlsnrlsnrlsnrlsnrlsnrlsnrlsnrlsnrlsnrlsnrlsnrlsnrlsnrlsnrlsnrlsnrlsnrlsnrlsnrlsnrlsnrlsnrlsnrlsnrlsnrlsnrlsnrlsnrlsnrlsnrlsnrlsnrlsnrlsnrlsnrlsnrlsnrlsnrlsnrlsnrlsnrlsnrlsnrlsnrlsnrlsnrlsnrlsnrlsnrlsnrlsnrlsnrlsnrlsnrlsnrlsnrlsnrlsnrlsnrlsnrlsnrlsnrlsnrlsnrlsnrlsnrlsnrlsnrlsnrlsnrlsnrlsnrlsnrlsnrlsnrlsnrlsnrlsnrlsnrlsnrlsnrlsnrlsnrlsnrlsnrlsnrlsnrlsnrlsnrlsnrlsnrlsnrlsnrlsnrlsnrlsnrlsnrlsnrlsnrlsnrlsnrlsnrlsnrlsnrlsnrlsnrlsnrlsnrlsnrlsnrlsnrlsnrlsnrlsnrlsnrlsnrlsnrlsnrlsnrlsnrlsnrlsnrlsnrlsnrlsnrlsnrlsnrlsnrlsnrlsnrlsnrlsnrlsnrlsnrlsnrlsnrlsnrlsnrlsnrlsnrlsnrlsnrlsnrlsnrlsnrlsnrlsnrlsnrlsnrlsnrlsnrlsnrlsnrlsnrlsnrlsnrlsnrlsnrlsnrlsnrlsnrlsnrlsnrlsnrlsnrlsnrlsnrlsnrlsnrlsnrlsnrlsnrlsnrlsnrlsnrlsnrlsnrlsnrlsnrlsnrlsnrlsnrlsnrlsnrlsnrlsnrlsnrlsnrlsnrlsnrlsnrlsnrlsnrlsnrlsnrlsnrlsnrlsnrlsnrlsnrlsnrlsnrlsnrlsnrlsnrlsnrlsnrlsnrlsnrlsnrlsnrlsnrlsnrlsnrlsnrlsnrlsnrlsnrlsnrlsnrlsnrlsnrlsnrlsnrlsnrlsnrlsnrlsnrlsnrlsnrlsnrlsnrl\n"
     ]
    }
   ],
   "source": [
    "print(\"snrl\" * 1000)"
   ]
  },
  {
   "cell_type": "code",
   "execution_count": 19,
   "metadata": {},
   "outputs": [
    {
     "name": "stdout",
     "output_type": "stream",
     "text": [
      "['spider legs', 'eye of frog', 'eye of newt', 'bat wing', 'slug butter']\n",
      "eye of newt\n",
      "['eye of newt', 'bat wing']\n"
     ]
    }
   ],
   "source": [
    "wizard_list = [\"spider legs\",\"eye of frog\",\"eye of newt\", \"bat wing\", \"slug butter\"]\n",
    "print(wizard_list)\n",
    "print(wizard_list[2])\n",
    "print(wizard_list[2:4])\n",
    "wizard_list.append(\"baear burp\")\n",
    "del wizard_list[5]"
   ]
  },
  {
   "cell_type": "code",
   "execution_count": 20,
   "metadata": {},
   "outputs": [
    {
     "name": "stdout",
     "output_type": "stream",
     "text": [
      "1\n"
     ]
    }
   ],
   "source": [
    "fibs = (0,1,2,3,4)\n",
    "print(fibs[1])\n",
    "#fibs[0] = 4"
   ]
  },
  {
   "cell_type": "code",
   "execution_count": 22,
   "metadata": {},
   "outputs": [
    {
     "name": "stdout",
     "output_type": "stream",
     "text": [
      "Football\n",
      "Ice hockey\n"
     ]
    }
   ],
   "source": [
    "favorite_sports = {\"ralph\" : \"Football\",\n",
    "                  \"michael\" : \"Basketball\",\n",
    "                  \"Edward\" : \"Basketball\"}\n",
    "print(favorite_sports[\"ralph\"])\n",
    "favorite_sports[\"ralph\"] = \"Ice hockey\"\n",
    "print(favorite_sports[\"ralph\"])"
   ]
  },
  {
   "cell_type": "code",
   "execution_count": null,
   "metadata": {},
   "outputs": [],
   "source": []
  }
 ],
 "metadata": {
  "kernelspec": {
   "display_name": "Python 3",
   "language": "python",
   "name": "python3"
  },
  "language_info": {
   "codemirror_mode": {
    "name": "ipython",
    "version": 3
   },
   "file_extension": ".py",
   "mimetype": "text/x-python",
   "name": "python",
   "nbconvert_exporter": "python",
   "pygments_lexer": "ipython3",
   "version": "3.7.3"
  }
 },
 "nbformat": 4,
 "nbformat_minor": 2
}
