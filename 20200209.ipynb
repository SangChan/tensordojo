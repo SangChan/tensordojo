{
 "cells": [
  {
   "cell_type": "code",
   "execution_count": 1,
   "metadata": {},
   "outputs": [
    {
     "name": "stdout",
     "output_type": "stream",
     "text": [
      "2.0.0\n"
     ]
    }
   ],
   "source": [
    "from __future__ import absolute_import, division, print_function, unicode_literals, unicode_literals\n",
    "\n",
    "import tensorflow as tf\n",
    "from tensorflow import keras\n",
    "\n",
    "import numpy as np\n",
    "import matplotlib.pyplot as plt\n",
    "\n",
    "print(tf.__version__)"
   ]
  },
  {
   "cell_type": "code",
   "execution_count": 2,
   "metadata": {},
   "outputs": [],
   "source": [
    "NUM_WORDS = 10000\n",
    "\n",
    "(train_data, train_labels), (test_data, test_labels) = keras.datasets.imdb.load_data(num_words=NUM_WORDS)\n",
    "\n",
    "def multi_hot_sequences(sequences, dimension):\n",
    "    # 0으로 채워진 (len(sequences), dimension) 크기의 행렬을 만듭니다\n",
    "    results = np.zeros((len(sequences), dimension))\n",
    "    for i, word_indices in enumerate(sequences):\n",
    "        results[i, word_indices] = 1.0  # results[i]의 특정 인덱스만 1로 설정합니다\n",
    "    return results\n",
    "\n",
    "\n",
    "train_data = multi_hot_sequences(train_data, dimension=NUM_WORDS)\n",
    "test_data = multi_hot_sequences(test_data, dimension=NUM_WORDS)"
   ]
  },
  {
   "cell_type": "code",
   "execution_count": 3,
   "metadata": {},
   "outputs": [
    {
     "data": {
      "text/plain": [
       "[<matplotlib.lines.Line2D at 0x7fe36b989438>]"
      ]
     },
     "execution_count": 3,
     "metadata": {},
     "output_type": "execute_result"
    },
    {
     "data": {
      "image/png": "[encoded data removed]",
      "text/plain": [
       "<Figure size 432x288 with 1 Axes>"
      ]
     },
     "metadata": {
      "needs_background": "light"
     },
     "output_type": "display_data"
    }
   ],
   "source": [
    "plt.plot(train_data[0])"
   ]
  },
  {
   "cell_type": "code",
   "execution_count": 4,
   "metadata": {},
   "outputs": [
    {
     "name": "stdout",
     "output_type": "stream",
     "text": [
      "Model: \"sequential\"\n",
      "_________________________________________________________________\n",
      "Layer (type)                 Output Shape              Param #   \n",
      "=================================================================\n",
      "dense (Dense)                (None, 16)                160016    \n",
      "_________________________________________________________________\n",
      "dense_1 (Dense)              (None, 16)                272       \n",
      "_________________________________________________________________\n",
      "dense_2 (Dense)              (None, 1)                 17        \n",
      "=================================================================\n",
      "Total params: 160,305\n",
      "Trainable params: 160,305\n",
      "Non-trainable params: 0\n",
      "_________________________________________________________________\n"
     ]
    }
   ],
   "source": [
    "baseline_model = keras.Sequential([\n",
    "    # `.summary` 메서드 때문에 `input_shape`가 필요합니다\n",
    "    keras.layers.Dense(16, activation='relu', input_shape=(NUM_WORDS,)),\n",
    "    keras.layers.Dense(16, activation='relu'),\n",
    "    keras.layers.Dense(1, activation='sigmoid')\n",
    "])\n",
    "\n",
    "baseline_model.compile(optimizer='adam',\n",
    "                       loss='binary_crossentropy',\n",
    "                       metrics=['accuracy', 'binary_crossentropy'])\n",
    "\n",
    "baseline_model.summary()"
   ]
  },
  {
   "cell_type": "code",
   "execution_count": 5,
   "metadata": {},
   "outputs": [
    {
     "name": "stdout",
     "output_type": "stream",
     "text": [
      "Train on 25000 samples, validate on 25000 samples\n",
      "Epoch 1/20\n",
      "25000/25000 - 54s - loss: 0.4999 - accuracy: 0.7994 - binary_crossentropy: 0.4999 - val_loss: 0.3535 - val_accuracy: 0.8738 - val_binary_crossentropy: 0.3535\n",
      "Epoch 2/20\n",
      "25000/25000 - 24s - loss: 0.2632 - accuracy: 0.9084 - binary_crossentropy: 0.2632 - val_loss: 0.2864 - val_accuracy: 0.8890 - val_binary_crossentropy: 0.2864\n",
      "Epoch 3/20\n",
      "25000/25000 - 17s - loss: 0.1927 - accuracy: 0.9322 - binary_crossentropy: 0.1927 - val_loss: 0.2847 - val_accuracy: 0.8865 - val_binary_crossentropy: 0.2847\n",
      "Epoch 4/20\n",
      "25000/25000 - 13s - loss: 0.1552 - accuracy: 0.9474 - binary_crossentropy: 0.1552 - val_loss: 0.3017 - val_accuracy: 0.8807 - val_binary_crossentropy: 0.3017\n",
      "Epoch 5/20\n",
      "25000/25000 - 18s - loss: 0.1290 - accuracy: 0.9574 - binary_crossentropy: 0.1290 - val_loss: 0.3261 - val_accuracy: 0.8758 - val_binary_crossentropy: 0.3261\n",
      "Epoch 6/20\n",
      "25000/25000 - 14s - loss: 0.1099 - accuracy: 0.9646 - binary_crossentropy: 0.1099 - val_loss: 0.3527 - val_accuracy: 0.8739 - val_binary_crossentropy: 0.3527\n",
      "Epoch 7/20\n",
      "25000/25000 - 13s - loss: 0.0930 - accuracy: 0.9707 - binary_crossentropy: 0.0930 - val_loss: 0.3844 - val_accuracy: 0.8697 - val_binary_crossentropy: 0.3844\n",
      "Epoch 8/20\n",
      "25000/25000 - 17s - loss: 0.0783 - accuracy: 0.9770 - binary_crossentropy: 0.0783 - val_loss: 0.4192 - val_accuracy: 0.8661 - val_binary_crossentropy: 0.4192\n",
      "Epoch 9/20\n",
      "25000/25000 - 15s - loss: 0.0672 - accuracy: 0.9822 - binary_crossentropy: 0.0672 - val_loss: 0.4590 - val_accuracy: 0.8616 - val_binary_crossentropy: 0.4590\n",
      "Epoch 10/20\n",
      "25000/25000 - 14s - loss: 0.0565 - accuracy: 0.9864 - binary_crossentropy: 0.0565 - val_loss: 0.4978 - val_accuracy: 0.8600 - val_binary_crossentropy: 0.4978\n",
      "Epoch 11/20\n",
      "25000/25000 - 15s - loss: 0.0476 - accuracy: 0.9898 - binary_crossentropy: 0.0476 - val_loss: 0.5422 - val_accuracy: 0.8565 - val_binary_crossentropy: 0.5422\n",
      "Epoch 12/20\n",
      "25000/25000 - 14s - loss: 0.0393 - accuracy: 0.9923 - binary_crossentropy: 0.0393 - val_loss: 0.5791 - val_accuracy: 0.8559 - val_binary_crossentropy: 0.5791\n",
      "Epoch 13/20\n",
      "25000/25000 - 18s - loss: 0.0332 - accuracy: 0.9943 - binary_crossentropy: 0.0332 - val_loss: 0.6212 - val_accuracy: 0.8537 - val_binary_crossentropy: 0.6212\n",
      "Epoch 14/20\n",
      "25000/25000 - 15s - loss: 0.0274 - accuracy: 0.9959 - binary_crossentropy: 0.0274 - val_loss: 0.6630 - val_accuracy: 0.8520 - val_binary_crossentropy: 0.6630\n",
      "Epoch 15/20\n",
      "25000/25000 - 16s - loss: 0.0224 - accuracy: 0.9970 - binary_crossentropy: 0.0224 - val_loss: 0.7049 - val_accuracy: 0.8507 - val_binary_crossentropy: 0.7049\n",
      "Epoch 16/20\n",
      "25000/25000 - 16s - loss: 0.0177 - accuracy: 0.9982 - binary_crossentropy: 0.0177 - val_loss: 0.7478 - val_accuracy: 0.8497 - val_binary_crossentropy: 0.7478\n",
      "Epoch 17/20\n",
      "25000/25000 - 15s - loss: 0.0142 - accuracy: 0.9990 - binary_crossentropy: 0.0142 - val_loss: 0.7855 - val_accuracy: 0.8495 - val_binary_crossentropy: 0.7855\n",
      "Epoch 18/20\n",
      "25000/25000 - 14s - loss: 0.0111 - accuracy: 0.9994 - binary_crossentropy: 0.0111 - val_loss: 0.8257 - val_accuracy: 0.8481 - val_binary_crossentropy: 0.8257\n",
      "Epoch 19/20\n",
      "25000/25000 - 13s - loss: 0.0085 - accuracy: 0.9998 - binary_crossentropy: 0.0085 - val_loss: 0.8601 - val_accuracy: 0.8477 - val_binary_crossentropy: 0.8601\n",
      "Epoch 20/20\n",
      "25000/25000 - 15s - loss: 0.0068 - accuracy: 0.9999 - binary_crossentropy: 0.0068 - val_loss: 0.8963 - val_accuracy: 0.8474 - val_binary_crossentropy: 0.8963\n"
     ]
    }
   ],
   "source": [
    "baseline_history = baseline_model.fit(train_data,\n",
    "                                      train_labels,\n",
    "                                      epochs=20,\n",
    "                                      batch_size=512,\n",
    "                                      validation_data=(test_data, test_labels),\n",
    "                                      verbose=2)"
   ]
  },
  {
   "cell_type": "code",
   "execution_count": 6,
   "metadata": {},
   "outputs": [
    {
     "name": "stdout",
     "output_type": "stream",
     "text": [
      "Model: \"sequential_1\"\n",
      "_________________________________________________________________\n",
      "Layer (type)                 Output Shape              Param #   \n",
      "=================================================================\n",
      "dense_3 (Dense)              (None, 4)                 40004     \n",
      "_________________________________________________________________\n",
      "dense_4 (Dense)              (None, 4)                 20        \n",
      "_________________________________________________________________\n",
      "dense_5 (Dense)              (None, 1)                 5         \n",
      "=================================================================\n",
      "Total params: 40,029\n",
      "Trainable params: 40,029\n",
      "Non-trainable params: 0\n",
      "_________________________________________________________________\n"
     ]
    }
   ],
   "source": [
    "smaller_model = keras.Sequential([\n",
    "    keras.layers.Dense(4, activation='relu', input_shape=(NUM_WORDS,)),\n",
    "    keras.layers.Dense(4, activation='relu'),\n",
    "    keras.layers.Dense(1, activation='sigmoid')\n",
    "])\n",
    "\n",
    "smaller_model.compile(optimizer='adam',\n",
    "                      loss='binary_crossentropy',\n",
    "                      metrics=['accuracy', 'binary_crossentropy'])\n",
    "\n",
    "smaller_model.summary()"
   ]
  },
  {
   "cell_type": "code",
   "execution_count": null,
   "metadata": {},
   "outputs": [
    {
     "name": "stdout",
     "output_type": "stream",
     "text": [
      "Train on 25000 samples, validate on 25000 samples\n",
      "Epoch 1/20\n",
      "25000/25000 - 56s - loss: 0.5679 - accuracy: 0.7668 - binary_crossentropy: 0.5679 - val_loss: 0.4553 - val_accuracy: 0.8557 - val_binary_crossentropy: 0.4553\n",
      "Epoch 2/20\n",
      "25000/25000 - 8s - loss: 0.3660 - accuracy: 0.8888 - binary_crossentropy: 0.3660 - val_loss: 0.3506 - val_accuracy: 0.8793 - val_binary_crossentropy: 0.3506\n",
      "Epoch 3/20\n",
      "25000/25000 - 8s - loss: 0.2793 - accuracy: 0.9108 - binary_crossentropy: 0.2793 - val_loss: 0.3109 - val_accuracy: 0.8841 - val_binary_crossentropy: 0.3109\n",
      "Epoch 4/20\n",
      "25000/25000 - 32s - loss: 0.2323 - accuracy: 0.9251 - binary_crossentropy: 0.2323 - val_loss: 0.2920 - val_accuracy: 0.8881 - val_binary_crossentropy: 0.2920\n",
      "Epoch 5/20\n",
      "25000/25000 - 72s - loss: 0.2017 - accuracy: 0.9337 - binary_crossentropy: 0.2017 - val_loss: 0.2851 - val_accuracy: 0.8880 - val_binary_crossentropy: 0.2851\n",
      "Epoch 6/20\n",
      "25000/25000 - 24s - loss: 0.1787 - accuracy: 0.9411 - binary_crossentropy: 0.1787 - val_loss: 0.2847 - val_accuracy: 0.8874 - val_binary_crossentropy: 0.2847\n",
      "Epoch 7/20\n",
      "25000/25000 - 7s - loss: 0.1613 - accuracy: 0.9472 - binary_crossentropy: 0.1613 - val_loss: 0.2878 - val_accuracy: 0.8863 - val_binary_crossentropy: 0.2878\n",
      "Epoch 8/20\n",
      "25000/25000 - 8s - loss: 0.1463 - accuracy: 0.9538 - binary_crossentropy: 0.1463 - val_loss: 0.2937 - val_accuracy: 0.8831 - val_binary_crossentropy: 0.2937\n",
      "Epoch 9/20\n",
      "25000/25000 - 7s - loss: 0.1337 - accuracy: 0.9585 - binary_crossentropy: 0.1337 - val_loss: 0.3023 - val_accuracy: 0.8805 - val_binary_crossentropy: 0.3023\n",
      "Epoch 10/20\n",
      "25000/25000 - 8s - loss: 0.1233 - accuracy: 0.9622 - binary_crossentropy: 0.1233 - val_loss: 0.3149 - val_accuracy: 0.8775 - val_binary_crossentropy: 0.3149\n",
      "Epoch 11/20\n",
      "25000/25000 - 7s - loss: 0.1138 - accuracy: 0.9654 - binary_crossentropy: 0.1138 - val_loss: 0.3212 - val_accuracy: 0.8774 - val_binary_crossentropy: 0.3212\n",
      "Epoch 12/20\n",
      "25000/25000 - 8s - loss: 0.1049 - accuracy: 0.9692 - binary_crossentropy: 0.1049 - val_loss: 0.3345 - val_accuracy: 0.8739 - val_binary_crossentropy: 0.3345\n",
      "Epoch 13/20\n",
      "25000/25000 - 7s - loss: 0.0971 - accuracy: 0.9718 - binary_crossentropy: 0.0971 - val_loss: 0.3443 - val_accuracy: 0.8749 - val_binary_crossentropy: 0.3443\n",
      "Epoch 14/20\n",
      "25000/25000 - 8s - loss: 0.0897 - accuracy: 0.9752 - binary_crossentropy: 0.0897 - val_loss: 0.3589 - val_accuracy: 0.8716 - val_binary_crossentropy: 0.3589\n",
      "Epoch 15/20\n",
      "25000/25000 - 8s - loss: 0.0832 - accuracy: 0.9782 - binary_crossentropy: 0.0832 - val_loss: 0.3726 - val_accuracy: 0.8697 - val_binary_crossentropy: 0.3726\n",
      "Epoch 16/20\n",
      "25000/25000 - 8s - loss: 0.0774 - accuracy: 0.9809 - binary_crossentropy: 0.0774 - val_loss: 0.3865 - val_accuracy: 0.8683 - val_binary_crossentropy: 0.3865\n",
      "Epoch 17/20\n",
      "25000/25000 - 8s - loss: 0.0716 - accuracy: 0.9828 - binary_crossentropy: 0.0716 - val_loss: 0.4008 - val_accuracy: 0.8678 - val_binary_crossentropy: 0.4008\n",
      "Epoch 18/20\n",
      "25000/25000 - 8s - loss: 0.0668 - accuracy: 0.9842 - binary_crossentropy: 0.0668 - val_loss: 0.4180 - val_accuracy: 0.8644 - val_binary_crossentropy: 0.4180\n",
      "Epoch 19/20\n"
     ]
    }
   ],
   "source": [
    "smaller_history = smaller_model.fit(train_data,\n",
    "                                    train_labels,\n",
    "                                    epochs=20,\n",
    "                                    batch_size=512,\n",
    "                                    validation_data=(test_data, test_labels),\n",
    "                                    verbose=2)"
   ]
  },
  {
   "cell_type": "code",
   "execution_count": null,
   "metadata": {},
   "outputs": [],
   "source": [
    "bigger_model = keras.models.Sequential([\n",
    "    keras.layers.Dense(512, activation='relu', input_shape=(NUM_WORDS,)),\n",
    "    keras.layers.Dense(512, activation='relu'),\n",
    "    keras.layers.Dense(1, activation='sigmoid')\n",
    "])\n",
    "\n",
    "bigger_model.compile(optimizer='adam',\n",
    "                     loss='binary_crossentropy',\n",
    "                     metrics=['accuracy','binary_crossentropy'])\n",
    "\n",
    "bigger_model.summary()"
   ]
  },
  {
   "cell_type": "code",
   "execution_count": null,
   "metadata": {},
   "outputs": [],
   "source": [
    "bigger_history = bigger_model.fit(train_data, train_labels,\n",
    "                                  epochs=20,\n",
    "                                  batch_size=512,\n",
    "                                  validation_data=(test_data, test_labels),\n",
    "                                  verbose=2)"
   ]
  },
  {
   "cell_type": "code",
   "execution_count": null,
   "metadata": {},
   "outputs": [],
   "source": [
    "def plot_history(histories, key='binary_crossentropy'):\n",
    "  plt.figure(figsize=(16,10))\n",
    "\n",
    "  for name, history in histories:\n",
    "    val = plt.plot(history.epoch, history.history['val_'+key],\n",
    "                   '--', label=name.title()+' Val')\n",
    "    plt.plot(history.epoch, history.history[key], color=val[0].get_color(),\n",
    "             label=name.title()+' Train')\n",
    "\n",
    "  plt.xlabel('Epochs')\n",
    "  plt.ylabel(key.replace('_',' ').title())\n",
    "  plt.legend()\n",
    "\n",
    "  plt.xlim([0,max(history.epoch)])\n",
    "\n",
    "\n",
    "plot_history([('baseline', baseline_history),\n",
    "              ('smaller', smaller_history),\n",
    "              ('bigger', bigger_history)])"
   ]
  },
  {
   "cell_type": "code",
   "execution_count": null,
   "metadata": {},
   "outputs": [],
   "source": [
    "l2_model = keras.models.Sequential([\n",
    "    keras.layers.Dense(16, kernel_regularizer=keras.regularizers.l2(0.001),\n",
    "                       activation='relu', input_shape=(NUM_WORDS,)),\n",
    "    keras.layers.Dense(16, kernel_regularizer=keras.regularizers.l2(0.001),\n",
    "                       activation='relu'),\n",
    "    keras.layers.Dense(1, activation='sigmoid')\n",
    "])\n",
    "\n",
    "l2_model.compile(optimizer='adam',\n",
    "                 loss='binary_crossentropy',\n",
    "                 metrics=['accuracy', 'binary_crossentropy'])\n",
    "\n",
    "l2_model_history = l2_model.fit(train_data, train_labels,\n",
    "                                epochs=20,\n",
    "                                batch_size=512,\n",
    "                                validation_data=(test_data, test_labels),\n",
    "                                verbose=2)"
   ]
  },
  {
   "cell_type": "code",
   "execution_count": null,
   "metadata": {},
   "outputs": [],
   "source": [
    "plot_history([('baseline', baseline_history),\n",
    "              ('l2', l2_model_history)])"
   ]
  },
  {
   "cell_type": "code",
   "execution_count": null,
   "metadata": {},
   "outputs": [],
   "source": [
    "dpt_model = keras.models.Sequential([\n",
    "    keras.layers.Dense(16, activation='relu', input_shape=(NUM_WORDS,)),\n",
    "    keras.layers.Dropout(0.5),\n",
    "    keras.layers.Dense(16, activation='relu'),\n",
    "    keras.layers.Dropout(0.5),\n",
    "    keras.layers.Dense(1, activation='sigmoid')\n",
    "])\n",
    "\n",
    "dpt_model.compile(optimizer='adam',\n",
    "                  loss='binary_crossentropy',\n",
    "                  metrics=['accuracy','binary_crossentropy'])\n",
    "\n",
    "dpt_model_history = dpt_model.fit(train_data, train_labels,\n",
    "                                  epochs=20,\n",
    "                                  batch_size=512,\n",
    "                                  validation_data=(test_data, test_labels),\n",
    "                                  verbose=2)"
   ]
  },
  {
   "cell_type": "code",
   "execution_count": null,
   "metadata": {},
   "outputs": [],
   "source": [
    "plot_history([('baseline', baseline_history),\n",
    "              ('dropout', dpt_model_history)])"
   ]
  }
 ],
 "metadata": {
  "kernelspec": {
   "display_name": "Python 3",
   "language": "python",
   "name": "python3"
  },
  "language_info": {
   "codemirror_mode": {
    "name": "ipython",
    "version": 3
   },
   "file_extension": ".py",
   "mimetype": "text/x-python",
   "name": "python",
   "nbconvert_exporter": "python",
   "pygments_lexer": "ipython3",
   "version": "3.6.8"
  }
 },
 "nbformat": 4,
 "nbformat_minor": 4
}
