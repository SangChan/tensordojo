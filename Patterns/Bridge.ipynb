{
 "cells": [
  {
   "cell_type": "code",
   "execution_count": 1,
   "metadata": {},
   "outputs": [],
   "source": [
    "from abc import *"
   ]
  },
  {
   "cell_type": "code",
   "execution_count": 7,
   "metadata": {},
   "outputs": [],
   "source": [
    "class Implementation(ABC):\n",
    "    \"\"\"\n",
    "    The Implementation defines the interface for all implementation classes. It\n",
    "    doesn't have to match the Abstraction's interface. In fact, the two\n",
    "    interfaces can be entirely different. Typically the Implementation interface\n",
    "    provides only primitive operations, while the Abstraction defines higher-\n",
    "    level operations based on those primitives.\n",
    "    \"\"\"\n",
    "\n",
    "    @abstractmethod\n",
    "    def operation_implementation(self) -> str:\n",
    "        pass\n",
    "\n",
    "class Abstraction:\n",
    "    def __init__(self, implementation: Implementation) -> None:\n",
    "        self.implementation = implementation\n",
    "        \n",
    "    def operation(self) -> str:\n",
    "        return (f\"Abstraction: Base operation with:\\n\"\n",
    "                f\"{self.implementation.operation_implementation()}\")\n",
    "\n",
    "class ExtendedAbstraction(Abstraction):\n",
    "    \"\"\"\n",
    "    You can extend the Abstraction without changing the Implementation classes.\n",
    "    \"\"\"\n",
    "\n",
    "    def operation(self) -> str:\n",
    "        return (f\"ExtendedAbstraction: Extended operation with:\\n\"\n",
    "                f\"{self.implementation.operation_implementation()}\")\n",
    "\n",
    "class ConcreteImplementationA(Implementation):\n",
    "    def operation_implementation(self) -> str:\n",
    "        return \"ConcreteImplementationA: Here's the result on the platform A.\"\n",
    "\n",
    "\n",
    "class ConcreteImplementationB(Implementation):\n",
    "    def operation_implementation(self) -> str:\n",
    "        return \"ConcreteImplementationB: Here's the result on the platform B.\"\n"
   ]
  },
  {
   "cell_type": "code",
   "execution_count": 8,
   "metadata": {},
   "outputs": [
    {
     "name": "stdout",
     "output_type": "stream",
     "text": [
      "Abstraction: Base operation with:\n",
      "ConcreteImplementationA: Here's the result on the platform A.\n",
      "\n",
      "ExtendedAbstraction: Extended operation with:\n",
      "ConcreteImplementationB: Here's the result on the platform B."
     ]
    }
   ],
   "source": [
    "def client_code(abstraction: Abstraction) -> None:\n",
    "    \"\"\"\n",
    "    Except for the initialization phase, where an Abstraction object gets linked\n",
    "    with a specific Implementation object, the client code should only depend on\n",
    "    the Abstraction class. This way the client code can support any abstraction-\n",
    "    implementation combination.\n",
    "    \"\"\"\n",
    "\n",
    "    # ...\n",
    "\n",
    "    print(abstraction.operation(), end=\"\")\n",
    "\n",
    "    # ...\n",
    "\n",
    "\n",
    "if __name__ == \"__main__\":\n",
    "    \"\"\"\n",
    "    The client code should be able to work with any pre-configured abstraction-\n",
    "    implementation combination.\n",
    "    \"\"\"\n",
    "\n",
    "    implementation = ConcreteImplementationA()\n",
    "    abstraction = Abstraction(implementation)\n",
    "    client_code(abstraction)\n",
    "\n",
    "    print(\"\\n\")\n",
    "\n",
    "    implementation = ConcreteImplementationB()\n",
    "    abstraction = ExtendedAbstraction(implementation)\n",
    "    client_code(abstraction)"
   ]
  },
  {
   "cell_type": "code",
   "execution_count": null,
   "metadata": {},
   "outputs": [],
   "source": []
  }
 ],
 "metadata": {
  "kernelspec": {
   "display_name": "Python 3",
   "language": "python",
   "name": "python3"
  },
  "language_info": {
   "codemirror_mode": {
    "name": "ipython",
    "version": 3
   },
   "file_extension": ".py",
   "mimetype": "text/x-python",
   "name": "python",
   "nbconvert_exporter": "python",
   "pygments_lexer": "ipython3",
   "version": "3.6.8"
  }
 },
 "nbformat": 4,
 "nbformat_minor": 2
}
