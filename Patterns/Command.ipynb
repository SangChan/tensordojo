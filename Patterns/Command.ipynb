{
 "cells": [
  {
   "cell_type": "code",
   "execution_count": 2,
   "metadata": {},
   "outputs": [],
   "source": [
    "from abc import ABC, abstractmethod"
   ]
  },
  {
   "cell_type": "code",
   "execution_count": 3,
   "metadata": {},
   "outputs": [],
   "source": [
    "class Command(ABC):\n",
    "    @abstractmethod\n",
    "    def execute(self) -> None:\n",
    "        pass\n",
    "    \n",
    "class SimpleCommand(Command):\n",
    "    def __init__(self, payload: str) -> None:\n",
    "        self._payload = payload\n",
    "        \n",
    "    def execute(self) -> None:\n",
    "        print(f\"SimpleCommand: See, I can do simple things like printing\"f\"({self._payload})\")\n",
    "        "
   ]
  },
  {
   "cell_type": "code",
   "execution_count": 5,
   "metadata": {},
   "outputs": [],
   "source": [
    "class Receiver:\n",
    "    \"\"\"\n",
    "    The Receiver classes contain some important business logic. They know how to\n",
    "    perform all kinds of operations, associated with carrying out a request. In\n",
    "    fact, any class may serve as a Receiver.\n",
    "    \"\"\"\n",
    "\n",
    "    def do_something(self, a: str) -> None:\n",
    "        print(f\"\\nReceiver: Working on ({a}.)\", end=\"\")\n",
    "\n",
    "    def do_something_else(self, b: str) -> None:\n",
    "        print(f\"\\nReceiver: Also working on ({b}.)\", end=\"\")\n",
    "        \n",
    "class ComplexCommand(Command):\n",
    "    \"\"\"\n",
    "    However, some commands can delegate more complex operations to other\n",
    "    objects, called \"receivers.\"\n",
    "    \"\"\"\n",
    "\n",
    "    def __init__(self, receiver: Receiver, a: str, b: str) -> None:\n",
    "        \"\"\"\n",
    "        Complex commands can accept one or several receiver objects along with\n",
    "        any context data via the constructor.\n",
    "        \"\"\"\n",
    "\n",
    "        self._receiver = receiver\n",
    "        self._a = a\n",
    "        self._b = b\n",
    "\n",
    "    def execute(self) -> None:\n",
    "        \"\"\"\n",
    "        Commands can delegate to any methods of a receiver.\n",
    "        \"\"\"\n",
    "\n",
    "        print(\"ComplexCommand: Complex stuff should be done by a receiver object\", end=\"\")\n",
    "        self._receiver.do_something(self._a)\n",
    "        self._receiver.do_something_else(self._b)\n"
   ]
  },
  {
   "cell_type": "code",
   "execution_count": 6,
   "metadata": {},
   "outputs": [
    {
     "name": "stdout",
     "output_type": "stream",
     "text": [
      "Invoker: Does anybody want something done before I begin?\n",
      "SimpleCommand: See, I can do simple things like printing(Say Hi!)\n",
      "Invoker: ...doing something really important...\n",
      "Invoker: Does anybody want something done after I finish?\n",
      "ComplexCommand: Complex stuff should be done by a receiver object\n",
      "Receiver: Working on (Send email.)\n",
      "Receiver: Also working on (Save report.)"
     ]
    }
   ],
   "source": [
    "class Invoker:\n",
    "    \"\"\"\n",
    "    The Invoker is associated with one or several commands. It sends a request\n",
    "    to the command.\n",
    "    \"\"\"\n",
    "\n",
    "    _on_start = None\n",
    "    _on_finish = None\n",
    "\n",
    "    \"\"\"\n",
    "    Initialize commands.\n",
    "    \"\"\"\n",
    "\n",
    "    def set_on_start(self, command: Command):\n",
    "        self._on_start = command\n",
    "\n",
    "    def set_on_finish(self, command: Command):\n",
    "        self._on_finish = command\n",
    "\n",
    "    def do_something_important(self) -> None:\n",
    "        \"\"\"\n",
    "        The Invoker does not depend on concrete command or receiver classes. The\n",
    "        Invoker passes a request to a receiver indirectly, by executing a\n",
    "        command.\n",
    "        \"\"\"\n",
    "\n",
    "        print(\"Invoker: Does anybody want something done before I begin?\")\n",
    "        if isinstance(self._on_start, Command):\n",
    "            self._on_start.execute()\n",
    "\n",
    "        print(\"Invoker: ...doing something really important...\")\n",
    "\n",
    "        print(\"Invoker: Does anybody want something done after I finish?\")\n",
    "        if isinstance(self._on_finish, Command):\n",
    "            self._on_finish.execute()\n",
    "\n",
    "\n",
    "if __name__ == \"__main__\":\n",
    "    \"\"\"\n",
    "    The client code can parameterize an invoker with any commands.\n",
    "    \"\"\"\n",
    "\n",
    "    invoker = Invoker()\n",
    "    invoker.set_on_start(SimpleCommand(\"Say Hi!\"))\n",
    "    receiver = Receiver()\n",
    "    invoker.set_on_finish(ComplexCommand(\n",
    "        receiver, \"Send email\", \"Save report\"))\n",
    "\n",
    "    invoker.do_something_important()"
   ]
  },
  {
   "cell_type": "code",
   "execution_count": null,
   "metadata": {},
   "outputs": [],
   "source": []
  }
 ],
 "metadata": {
  "kernelspec": {
   "display_name": "Python 3",
   "language": "python",
   "name": "python3"
  },
  "language_info": {
   "codemirror_mode": {
    "name": "ipython",
    "version": 3
   },
   "file_extension": ".py",
   "mimetype": "text/x-python",
   "name": "python",
   "nbconvert_exporter": "python",
   "pygments_lexer": "ipython3",
   "version": "3.6.8"
  }
 },
 "nbformat": 4,
 "nbformat_minor": 2
}
