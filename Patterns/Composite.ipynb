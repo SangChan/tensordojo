{
 "cells": [
  {
   "cell_type": "code",
   "execution_count": 1,
   "metadata": {},
   "outputs": [],
   "source": [
    "from abc import *\n",
    "from typing import List"
   ]
  },
  {
   "cell_type": "code",
   "execution_count": 20,
   "metadata": {},
   "outputs": [],
   "source": [
    "class Component(ABC):        \n",
    "    @abstractmethod\n",
    "    def is_composite(self) -> bool:\n",
    "        return False\n",
    "    \n",
    "    @abstractmethod\n",
    "    def operation(self) -> str:\n",
    "        pass\n",
    "    \n",
    "class Leaf(Component):\n",
    "    def is_composite(self) -> bool:\n",
    "        return False\n",
    "    \n",
    "    def operation(self) -> str:\n",
    "        return \"Leaf\"\n",
    "    \n",
    "class Composite(Component):\n",
    "    def __init__(self) -> None:\n",
    "        self._children: List[Component] = []\n",
    "    \n",
    "    def add(self, component: Component) -> None:\n",
    "        self._children.append(component)\n",
    "        \n",
    "    def remove(self, component: Component) -> None:\n",
    "        self._children.remove(component)\n",
    "        \n",
    "    def is_composite(self) -> bool:\n",
    "        return True\n",
    "    \n",
    "    def operation(self) -> str:\n",
    "        results =[]\n",
    "        for child in self._children:\n",
    "            results.append(child.operation())\n",
    "        return f\"Branch({'+'.join(results)})\""
   ]
  },
  {
   "cell_type": "code",
   "execution_count": 21,
   "metadata": {},
   "outputs": [
    {
     "name": "stdout",
     "output_type": "stream",
     "text": [
      "Client: I've got a simple component:\n",
      "RESULT: Leaf\n",
      "\n",
      "Client: Now I've got a composite tree:\n",
      "RESULT: Branch(Branch(Leaf+Leaf)+Branch(Leaf))\n",
      "\n",
      "Client: I don't need to check the components classes even when managing the tree:\n",
      "RESULT: Branch(Branch(Leaf+Leaf)+Branch(Leaf)+Leaf)"
     ]
    }
   ],
   "source": [
    "def client_code(component: Component) -> None:\n",
    "    \"\"\"\n",
    "    The client code works with all of the components via the base interface.\n",
    "    \"\"\"\n",
    "\n",
    "    print(f\"RESULT: {component.operation()}\", end=\"\")\n",
    "\n",
    "\n",
    "def client_code2(component1: Component, component2: Component) -> None:\n",
    "    \"\"\"\n",
    "    Thanks to the fact that the child-management operations are declared in the\n",
    "    base Component class, the client code can work with any component, simple or\n",
    "    complex, without depending on their concrete classes.\n",
    "    \"\"\"\n",
    "\n",
    "    if component1.is_composite():\n",
    "        component1.add(component2)\n",
    "\n",
    "    print(f\"RESULT: {component1.operation()}\", end=\"\")\n",
    "\n",
    "\n",
    "if __name__ == \"__main__\":\n",
    "    # This way the client code can support the simple leaf components...\n",
    "    simple = Leaf()\n",
    "    print(\"Client: I've got a simple component:\")\n",
    "    client_code(simple)\n",
    "    print(\"\\n\")\n",
    "\n",
    "    # ...as well as the complex composites.\n",
    "    tree = Composite()\n",
    "\n",
    "    branch1 = Composite()\n",
    "    branch1.add(Leaf())\n",
    "    branch1.add(Leaf())\n",
    "\n",
    "    branch2 = Composite()\n",
    "    branch2.add(Leaf())\n",
    "\n",
    "    tree.add(branch1)\n",
    "    tree.add(branch2)\n",
    "\n",
    "    print(\"Client: Now I've got a composite tree:\")\n",
    "    client_code(tree)\n",
    "    print(\"\\n\")\n",
    "\n",
    "    print(\"Client: I don't need to check the components classes even when managing the tree:\")\n",
    "    client_code2(tree, simple)\n",
    " "
   ]
  },
  {
   "cell_type": "code",
   "execution_count": null,
   "metadata": {},
   "outputs": [],
   "source": []
  }
 ],
 "metadata": {
  "kernelspec": {
   "display_name": "Python 3",
   "language": "python",
   "name": "python3"
  },
  "language_info": {
   "codemirror_mode": {
    "name": "ipython",
    "version": 3
   },
   "file_extension": ".py",
   "mimetype": "text/x-python",
   "name": "python",
   "nbconvert_exporter": "python",
   "pygments_lexer": "ipython3",
   "version": "3.6.8"
  }
 },
 "nbformat": 4,
 "nbformat_minor": 2
}
