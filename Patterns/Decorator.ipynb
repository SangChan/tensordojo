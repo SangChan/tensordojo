{
 "cells": [
  {
   "cell_type": "code",
   "execution_count": 2,
   "metadata": {},
   "outputs": [],
   "source": [
    "class Component():\n",
    "    def operation(self) -> str:\n",
    "        pass\n",
    "    \n",
    "class ConcreteComponent(Component):\n",
    "    def operation(self) -> str:\n",
    "        return \"ConcreteComponent\"\n",
    "    \n",
    "class Decorator(Component):\n",
    "    _component: Component = None\n",
    "        \n",
    "    def __init__(self, component: Component) -> None:\n",
    "        self._component = component\n",
    "    \n",
    "    @property\n",
    "    def component(self) -> Component:\n",
    "        return self._component\n",
    "    \n",
    "    def operation(self) -> str:\n",
    "        return self._component.operation()\n",
    "    \n",
    "class ConcreteDecoratorA(Decorator):\n",
    "    def operation(self) -> str:\n",
    "        \"\"\"\n",
    "        Decorators may call parent implementation of the operation, instead of\n",
    "        calling the wrapped object directly. This approach simplifies extension\n",
    "        of decorator classes.\n",
    "        \"\"\"\n",
    "        return f\"ConcreteDecoratorA({self.component.operation()})\"\n",
    "\n",
    "class ConcreteDecoratorB(Decorator):\n",
    "    \"\"\"\n",
    "    Decorators can execute their behavior either before or after the call to a\n",
    "    wrapped object.\n",
    "    \"\"\"\n",
    "\n",
    "    def operation(self) -> str:\n",
    "        return f\"ConcreteDecoratorB({self.component.operation()})\""
   ]
  },
  {
   "cell_type": "code",
   "execution_count": 3,
   "metadata": {},
   "outputs": [
    {
     "name": "stdout",
     "output_type": "stream",
     "text": [
      "Client: I've got a simple component:\n",
      "RESULT: ConcreteComponent\n",
      "\n",
      "Client: Now I've got a decorated component:\n",
      "RESULT: ConcreteDecoratorB(ConcreteDecoratorA(ConcreteComponent))"
     ]
    }
   ],
   "source": [
    "def client_code(component: Component) -> None:\n",
    "    \"\"\"\n",
    "    The client code works with all objects using the Component interface. This\n",
    "    way it can stay independent of the concrete classes of components it works\n",
    "    with.\n",
    "    \"\"\"\n",
    "\n",
    "    # ...\n",
    "\n",
    "    print(f\"RESULT: {component.operation()}\", end=\"\")\n",
    "\n",
    "    # ...\n",
    "\n",
    "\n",
    "if __name__ == \"__main__\":\n",
    "    # This way the client code can support both simple components...\n",
    "    simple = ConcreteComponent()\n",
    "    print(\"Client: I've got a simple component:\")\n",
    "    client_code(simple)\n",
    "    print(\"\\n\")\n",
    "\n",
    "    # ...as well as decorated ones.\n",
    "    #\n",
    "    # Note how decorators can wrap not only simple components but the other\n",
    "    # decorators as well.\n",
    "    decorator1 = ConcreteDecoratorA(simple)\n",
    "    decorator2 = ConcreteDecoratorB(decorator1)\n",
    "    print(\"Client: Now I've got a decorated component:\")\n",
    "    client_code(decorator2)"
   ]
  },
  {
   "cell_type": "code",
   "execution_count": null,
   "metadata": {},
   "outputs": [],
   "source": []
  }
 ],
 "metadata": {
  "kernelspec": {
   "display_name": "Python 3",
   "language": "python",
   "name": "python3"
  },
  "language_info": {
   "codemirror_mode": {
    "name": "ipython",
    "version": 3
   },
   "file_extension": ".py",
   "mimetype": "text/x-python",
   "name": "python",
   "nbconvert_exporter": "python",
   "pygments_lexer": "ipython3",
   "version": "3.6.8"
  }
 },
 "nbformat": 4,
 "nbformat_minor": 2
}
