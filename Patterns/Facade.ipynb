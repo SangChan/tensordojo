{
 "cells": [
  {
   "cell_type": "code",
   "execution_count": 1,
   "metadata": {},
   "outputs": [],
   "source": [
    "class Subsystem1:\n",
    "    \"\"\"\n",
    "    The Subsystem can accept requests either from the facade or client directly.\n",
    "    In any case, to the Subsystem, the Facade is yet another client, and it's\n",
    "    not a part of the Subsystem.\n",
    "    \"\"\"\n",
    "\n",
    "    def operation1(self) -> str:\n",
    "        return \"Subsystem1: Ready!\"\n",
    "\n",
    "    # ...\n",
    "\n",
    "    def operation_n(self) -> str:\n",
    "        return \"Subsystem1: Go!\"\n",
    "\n",
    "\n",
    "class Subsystem2:\n",
    "    \"\"\"\n",
    "    Some facades can work with multiple subsystems at the same time.\n",
    "    \"\"\"\n",
    "\n",
    "    def operation1(self) -> str:\n",
    "        return \"Subsystem2: Get ready!\"\n",
    "\n",
    "    # ...\n",
    "\n",
    "    def operation_z(self) -> str:\n",
    "        return \"Subsystem2: Fire!\"\n",
    "    \n",
    "class Facade:\n",
    "    \"\"\"\n",
    "    The Facade class provides a simple interface to the complex logic of one or\n",
    "    several subsystems. The Facade delegates the client requests to the\n",
    "    appropriate objects within the subsystem. The Facade is also responsible for\n",
    "    managing their lifecycle. All of this shields the client from the undesired\n",
    "    complexity of the subsystem.\n",
    "    \"\"\"\n",
    "\n",
    "    def __init__(self, subsystem1: Subsystem1, subsystem2: Subsystem2) -> None:\n",
    "        \"\"\"\n",
    "        Depending on your application's needs, you can provide the Facade with\n",
    "        existing subsystem objects or force the Facade to create them on its\n",
    "        own.\n",
    "        \"\"\"\n",
    "\n",
    "        self._subsystem1 = subsystem1 or Subsystem1()\n",
    "        self._subsystem2 = subsystem2 or Subsystem2()\n",
    "\n",
    "    def operation(self) -> str:\n",
    "        \"\"\"\n",
    "        The Facade's methods are convenient shortcuts to the sophisticated\n",
    "        functionality of the subsystems. However, clients get only to a fraction\n",
    "        of a subsystem's capabilities.\n",
    "        \"\"\"\n",
    "\n",
    "        results = []\n",
    "        results.append(\"Facade initializes subsystems:\")\n",
    "        results.append(self._subsystem1.operation1())\n",
    "        results.append(self._subsystem2.operation1())\n",
    "        results.append(\"Facade orders subsystems to perform the action:\")\n",
    "        results.append(self._subsystem1.operation_n())\n",
    "        results.append(self._subsystem2.operation_z())\n",
    "        return \"\\n\".join(results)\n"
   ]
  },
  {
   "cell_type": "code",
   "execution_count": 2,
   "metadata": {},
   "outputs": [
    {
     "name": "stdout",
     "output_type": "stream",
     "text": [
      "Facade initializes subsystems:\n",
      "Subsystem1: Ready!\n",
      "Subsystem2: Get ready!\n",
      "Facade orders subsystems to perform the action:\n",
      "Subsystem1: Go!\n",
      "Subsystem2: Fire!"
     ]
    }
   ],
   "source": [
    "def client_code(facade: Facade) -> None:\n",
    "    \"\"\"\n",
    "    The client code works with complex subsystems through a simple interface\n",
    "    provided by the Facade. When a facade manages the lifecycle of the\n",
    "    subsystem, the client might not even know about the existence of the\n",
    "    subsystem. This approach lets you keep the complexity under control.\n",
    "    \"\"\"\n",
    "\n",
    "    print(facade.operation(), end=\"\")\n",
    "\n",
    "\n",
    "if __name__ == \"__main__\":\n",
    "    # The client code may have some of the subsystem's objects already created.\n",
    "    # In this case, it might be worthwhile to initialize the Facade with these\n",
    "    # objects instead of letting the Facade create new instances.\n",
    "    subsystem1 = Subsystem1()\n",
    "    subsystem2 = Subsystem2()\n",
    "    facade = Facade(subsystem1, subsystem2)\n",
    "    client_code(facade)"
   ]
  },
  {
   "cell_type": "code",
   "execution_count": null,
   "metadata": {},
   "outputs": [],
   "source": []
  }
 ],
 "metadata": {
  "kernelspec": {
   "display_name": "Python 3",
   "language": "python",
   "name": "python3"
  },
  "language_info": {
   "codemirror_mode": {
    "name": "ipython",
    "version": 3
   },
   "file_extension": ".py",
   "mimetype": "text/x-python",
   "name": "python",
   "nbconvert_exporter": "python",
   "pygments_lexer": "ipython3",
   "version": "3.6.8"
  }
 },
 "nbformat": 4,
 "nbformat_minor": 2
}
