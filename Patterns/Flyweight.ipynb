{
 "cells": [
  {
   "cell_type": "code",
   "execution_count": 1,
   "metadata": {},
   "outputs": [],
   "source": [
    "import json\n",
    "from typing import Dict"
   ]
  },
  {
   "cell_type": "code",
   "execution_count": 3,
   "metadata": {},
   "outputs": [],
   "source": [
    "class Flyweight():\n",
    "    def __init__(self, shared_state: str) -> None:\n",
    "        self._shared_state = shared_state\n",
    "        \n",
    "    def operation(self, unique_state: str) -> None:\n",
    "        s = json.dumps(self._shared_state)\n",
    "        u = json.dumps(unique_state)\n",
    "        print(f\"Flyweight: Displaying shared ({s}) and unique ({u}) state.\", end=\"\")\n",
    "        \n",
    "class FlyweightFactory():\n",
    "    _flyweights: Dict[str, Flyweight] = {}\n",
    "\n",
    "    def __init__(self, initial_flyweights: Dict) -> None:\n",
    "        for state in initial_flyweights:\n",
    "            self._flyweights[self.get_key(state)] = Flyweight(state)\n",
    "\n",
    "    def get_key(self, state: Dict) -> str:\n",
    "        \"\"\"\n",
    "        Returns a Flyweight's string hash for a given state.\n",
    "        \"\"\"\n",
    "\n",
    "        return \"_\".join(sorted(state))\n",
    "\n",
    "    def get_flyweight(self, shared_state: Dict) -> Flyweight:\n",
    "        \"\"\"\n",
    "        Returns an existing Flyweight with a given state or creates a new one.\n",
    "        \"\"\"\n",
    "\n",
    "        key = self.get_key(shared_state)\n",
    "\n",
    "        if not self._flyweights.get(key):\n",
    "            print(\"FlyweightFactory: Can't find a flyweight, creating new one.\")\n",
    "            self._flyweights[key] = Flyweight(shared_state)\n",
    "        else:\n",
    "            print(\"FlyweightFactory: Reusing existing flyweight.\")\n",
    "\n",
    "        return self._flyweights[key]\n",
    "\n",
    "    def list_flyweights(self) -> None:\n",
    "        count = len(self._flyweights)\n",
    "        print(f\"FlyweightFactory: I have {count} flyweights:\")\n",
    "        print(\"\\n\".join(map(str, self._flyweights.keys())), end=\"\")"
   ]
  },
  {
   "cell_type": "code",
   "execution_count": 4,
   "metadata": {},
   "outputs": [
    {
     "name": "stdout",
     "output_type": "stream",
     "text": [
      "FlyweightFactory: I have 5 flyweights:\n",
      "Camaro2018_Chevrolet_pink\n",
      "C300_Mercedes Benz_black\n",
      "C500_Mercedes Benz_red\n",
      "BMW_M5_red\n",
      "BMW_X6_white\n",
      "\n",
      "Client: Adding a car to database.\n",
      "FlyweightFactory: Reusing existing flyweight.\n",
      "Flyweight: Displaying shared ([\"BMW\", \"M5\", \"red\"]) and unique ([\"CL234IR\", \"James Doe\"]) state.\n",
      "\n",
      "Client: Adding a car to database.\n",
      "FlyweightFactory: Can't find a flyweight, creating new one.\n",
      "Flyweight: Displaying shared ([\"BMW\", \"X1\", \"red\"]) and unique ([\"CL234IR\", \"James Doe\"]) state.\n",
      "\n",
      "FlyweightFactory: I have 6 flyweights:\n",
      "Camaro2018_Chevrolet_pink\n",
      "C300_Mercedes Benz_black\n",
      "C500_Mercedes Benz_red\n",
      "BMW_M5_red\n",
      "BMW_X6_white\n",
      "BMW_X1_red"
     ]
    }
   ],
   "source": [
    "def add_car_to_police_database(\n",
    "    factory: FlyweightFactory, plates: str, owner: str,\n",
    "    brand: str, model: str, color: str\n",
    ") -> None:\n",
    "    print(\"\\n\\nClient: Adding a car to database.\")\n",
    "    flyweight = factory.get_flyweight([brand, model, color])\n",
    "    # The client code either stores or calculates extrinsic state and passes it\n",
    "    # to the flyweight's methods.\n",
    "    flyweight.operation([plates, owner])\n",
    "\n",
    "\n",
    "if __name__ == \"__main__\":\n",
    "    \"\"\"\n",
    "    The client code usually creates a bunch of pre-populated flyweights in the\n",
    "    initialization stage of the application.\n",
    "    \"\"\"\n",
    "\n",
    "    factory = FlyweightFactory([\n",
    "        [\"Chevrolet\", \"Camaro2018\", \"pink\"],\n",
    "        [\"Mercedes Benz\", \"C300\", \"black\"],\n",
    "        [\"Mercedes Benz\", \"C500\", \"red\"],\n",
    "        [\"BMW\", \"M5\", \"red\"],\n",
    "        [\"BMW\", \"X6\", \"white\"],\n",
    "    ])\n",
    "\n",
    "    factory.list_flyweights()\n",
    "\n",
    "    add_car_to_police_database(\n",
    "        factory, \"CL234IR\", \"James Doe\", \"BMW\", \"M5\", \"red\")\n",
    "\n",
    "    add_car_to_police_database(\n",
    "        factory, \"CL234IR\", \"James Doe\", \"BMW\", \"X1\", \"red\")\n",
    "\n",
    "    print(\"\\n\")\n",
    "\n",
    "    factory.list_flyweights()"
   ]
  },
  {
   "cell_type": "code",
   "execution_count": null,
   "metadata": {},
   "outputs": [],
   "source": []
  }
 ],
 "metadata": {
  "kernelspec": {
   "display_name": "Python 3",
   "language": "python",
   "name": "python3"
  },
  "language_info": {
   "codemirror_mode": {
    "name": "ipython",
    "version": 3
   },
   "file_extension": ".py",
   "mimetype": "text/x-python",
   "name": "python",
   "nbconvert_exporter": "python",
   "pygments_lexer": "ipython3",
   "version": "3.6.8"
  }
 },
 "nbformat": 4,
 "nbformat_minor": 2
}
