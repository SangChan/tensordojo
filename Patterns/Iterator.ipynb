{
 "cells": [
  {
   "cell_type": "code",
   "execution_count": 2,
   "metadata": {},
   "outputs": [],
   "source": [
    "from collections.abc import Iterable, Iterator\n",
    "from typing import Any, List"
   ]
  },
  {
   "cell_type": "code",
   "execution_count": 9,
   "metadata": {},
   "outputs": [],
   "source": [
    "class AplhabeticalOrderIreator(Iterator):\n",
    "    _position : int = None\n",
    "    _reverse : bool = False\n",
    "    \n",
    "    def __init__(self, collection: Iterable, reverse: bool = False) -> None:\n",
    "        self._collection = collection\n",
    "        self._reverse = reverse\n",
    "        self._position = -1 if reverse else 0\n",
    "        \n",
    "    def __next__(self):\n",
    "        try:\n",
    "            value = self._collection[self._position]\n",
    "            self._position += -1 if self._reverse else 1\n",
    "        except IndexError:\n",
    "            raise StopIteration()\n",
    "            \n",
    "        return value\n",
    "    \n",
    "class WordsCollection(Iterable):\n",
    "    \"\"\"\n",
    "    Concrete Collections provide one or several methods for retrieving fresh\n",
    "    iterator instances, compatible with the collection class.\n",
    "    \"\"\"\n",
    "\n",
    "    def __init__(self, collection: List[Any] = []) -> None:\n",
    "        self._collection = collection\n",
    "\n",
    "    def __iter__(self) -> Iterator:\n",
    "        \"\"\"\n",
    "        The __iter__() method returns the iterator object itself, by default we\n",
    "        return the iterator in ascending order.\n",
    "        \"\"\"\n",
    "        return AplhabeticalOrderIreator(self._collection)\n",
    "\n",
    "    def get_reverse_iterator(self) -> Iterator:\n",
    "        return AplhabeticalOrderIreator(self._collection, True)\n",
    "\n",
    "    def add_item(self, item: Any):\n",
    "        self._collection.append(item)"
   ]
  },
  {
   "cell_type": "code",
   "execution_count": 10,
   "metadata": {},
   "outputs": [
    {
     "name": "stdout",
     "output_type": "stream",
     "text": [
      "Straight traversal:\n",
      "First\n",
      "Second\n",
      "Third\n",
      "\n",
      "Reverse traversal:\n",
      "Third\n",
      "Second\n",
      "First"
     ]
    }
   ],
   "source": [
    "if __name__ == \"__main__\":\n",
    "    # The client code may or may not know about the Concrete Iterator or\n",
    "    # Collection classes, depending on the level of indirection you want to keep\n",
    "    # in your program.\n",
    "    collection = WordsCollection()\n",
    "    collection.add_item(\"First\")\n",
    "    collection.add_item(\"Second\")\n",
    "    collection.add_item(\"Third\")\n",
    "\n",
    "    print(\"Straight traversal:\")\n",
    "    print(\"\\n\".join(collection))\n",
    "    print(\"\")\n",
    "\n",
    "    print(\"Reverse traversal:\")\n",
    "    print(\"\\n\".join(collection.get_reverse_iterator()), end=\"\")"
   ]
  },
  {
   "cell_type": "code",
   "execution_count": null,
   "metadata": {},
   "outputs": [],
   "source": []
  }
 ],
 "metadata": {
  "kernelspec": {
   "display_name": "Python 3",
   "language": "python",
   "name": "python3"
  },
  "language_info": {
   "codemirror_mode": {
    "name": "ipython",
    "version": 3
   },
   "file_extension": ".py",
   "mimetype": "text/x-python",
   "name": "python",
   "nbconvert_exporter": "python",
   "pygments_lexer": "ipython3",
   "version": "3.6.8"
  }
 },
 "nbformat": 4,
 "nbformat_minor": 2
}
