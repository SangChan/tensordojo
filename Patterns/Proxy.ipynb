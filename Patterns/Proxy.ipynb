{
 "cells": [
  {
   "cell_type": "code",
   "execution_count": 1,
   "metadata": {},
   "outputs": [],
   "source": [
    "from abc import *"
   ]
  },
  {
   "cell_type": "code",
   "execution_count": 2,
   "metadata": {},
   "outputs": [],
   "source": [
    "class Subject(ABC):\n",
    "    @abstractmethod\n",
    "    def request(self) -> None:\n",
    "        pass\n",
    "    \n",
    "class RealSubject(Subject):\n",
    "    def request(self) -> None:\n",
    "        print(\"RealSubject: Handling request.\")\n",
    "        \n",
    "class Proxy(Subject):\n",
    "    \"\"\"\n",
    "    The Proxy has an interface identical to the RealSubject.\n",
    "    \"\"\"\n",
    "\n",
    "    def __init__(self, real_subject: RealSubject) -> None:\n",
    "        self._real_subject = real_subject\n",
    "\n",
    "    def request(self) -> None:\n",
    "        \"\"\"\n",
    "        The most common applications of the Proxy pattern are lazy loading,\n",
    "        caching, controlling the access, logging, etc. A Proxy can perform one\n",
    "        of these things and then, depending on the result, pass the execution to\n",
    "        the same method in a linked RealSubject object.\n",
    "        \"\"\"\n",
    "\n",
    "        if self.check_access():\n",
    "            self._real_subject.request()\n",
    "            self.log_access()\n",
    "\n",
    "    def check_access(self) -> bool:\n",
    "        print(\"Proxy: Checking access prior to firing a real request.\")\n",
    "        return True\n",
    "\n",
    "    def log_access(self) -> None:\n",
    "        print(\"Proxy: Logging the time of request.\", end=\"\")"
   ]
  },
  {
   "cell_type": "code",
   "execution_count": 3,
   "metadata": {},
   "outputs": [
    {
     "name": "stdout",
     "output_type": "stream",
     "text": [
      "Client: Executing the client code with a real subject:\n",
      "RealSubject: Handling request.\n",
      "\n",
      "Client: Executing the same client code with a proxy:\n",
      "Proxy: Checking access prior to firing a real request.\n",
      "RealSubject: Handling request.\n",
      "Proxy: Logging the time of request."
     ]
    }
   ],
   "source": [
    "def client_code(subject: Subject) -> None:\n",
    "    \"\"\"\n",
    "    The client code is supposed to work with all objects (both subjects and\n",
    "    proxies) via the Subject interface in order to support both real subjects\n",
    "    and proxies. In real life, however, clients mostly work with their real\n",
    "    subjects directly. In this case, to implement the pattern more easily, you\n",
    "    can extend your proxy from the real subject's class.\n",
    "    \"\"\"\n",
    "\n",
    "    # ...\n",
    "\n",
    "    subject.request()\n",
    "\n",
    "    # ...\n",
    "\n",
    "\n",
    "if __name__ == \"__main__\":\n",
    "    print(\"Client: Executing the client code with a real subject:\")\n",
    "    real_subject = RealSubject()\n",
    "    client_code(real_subject)\n",
    "\n",
    "    print(\"\")\n",
    "\n",
    "    print(\"Client: Executing the same client code with a proxy:\")\n",
    "    proxy = Proxy(real_subject)\n",
    "    client_code(proxy)"
   ]
  },
  {
   "cell_type": "code",
   "execution_count": null,
   "metadata": {},
   "outputs": [],
   "source": []
  }
 ],
 "metadata": {
  "kernelspec": {
   "display_name": "Python 3",
   "language": "python",
   "name": "python3"
  },
  "language_info": {
   "codemirror_mode": {
    "name": "ipython",
    "version": 3
   },
   "file_extension": ".py",
   "mimetype": "text/x-python",
   "name": "python",
   "nbconvert_exporter": "python",
   "pygments_lexer": "ipython3",
   "version": "3.6.8"
  }
 },
 "nbformat": 4,
 "nbformat_minor": 2
}
