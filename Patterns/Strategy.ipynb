{
 "cells": [
  {
   "cell_type": "code",
   "execution_count": 1,
   "metadata": {},
   "outputs": [],
   "source": [
    "from abc import ABC, abstractmethod\n",
    "from typing import List"
   ]
  },
  {
   "cell_type": "code",
   "execution_count": 3,
   "metadata": {},
   "outputs": [],
   "source": [
    "class Strategy(ABC):\n",
    "    pass\n",
    "\n",
    "class Context():\n",
    "    \"\"\"\n",
    "    The Context defines the interface of interest to clients.\n",
    "    \"\"\"\n",
    "\n",
    "    def __init__(self, strategy: Strategy) -> None:\n",
    "        \"\"\"\n",
    "        Usually, the Context accepts a strategy through the constructor, but\n",
    "        also provides a setter to change it at runtime.\n",
    "        \"\"\"\n",
    "\n",
    "        self._strategy = strategy\n",
    "\n",
    "    @property\n",
    "    def strategy(self) -> Strategy:\n",
    "        \"\"\"\n",
    "        The Context maintains a reference to one of the Strategy objects. The\n",
    "        Context does not know the concrete class of a strategy. It should work\n",
    "        with all strategies via the Strategy interface.\n",
    "        \"\"\"\n",
    "\n",
    "        return self._strategy\n",
    "\n",
    "    @strategy.setter\n",
    "    def strategy(self, strategy: Strategy) -> None:\n",
    "        \"\"\"\n",
    "        Usually, the Context allows replacing a Strategy object at runtime.\n",
    "        \"\"\"\n",
    "\n",
    "        self._strategy = strategy\n",
    "\n",
    "    def do_some_business_logic(self) -> None:\n",
    "        \"\"\"\n",
    "        The Context delegates some work to the Strategy object instead of\n",
    "        implementing multiple versions of the algorithm on its own.\n",
    "        \"\"\"\n",
    "\n",
    "        # ...\n",
    "\n",
    "        print(\"Context: Sorting data using the strategy (not sure how it'll do it)\")\n",
    "        result = self._strategy.do_algorithm([\"a\", \"b\", \"c\", \"d\", \"e\"])\n",
    "        print(\",\".join(result))\n",
    "\n",
    "        # ...\n",
    "\n",
    "class Strategy(ABC):\n",
    "    \"\"\"\n",
    "    The Strategy interface declares operations common to all supported versions\n",
    "    of some algorithm.\n",
    "\n",
    "    The Context uses this interface to call the algorithm defined by Concrete\n",
    "    Strategies.\n",
    "    \"\"\"\n",
    "\n",
    "    @abstractmethod\n",
    "    def do_algorithm(self, data: List):\n",
    "        pass\n",
    "\n",
    "\n",
    "\"\"\"\n",
    "Concrete Strategies implement the algorithm while following the base Strategy\n",
    "interface. The interface makes them interchangeable in the Context.\n",
    "\"\"\"\n",
    "\n",
    "\n",
    "class ConcreteStrategyA(Strategy):\n",
    "    def do_algorithm(self, data: List) -> List:\n",
    "        return sorted(data)\n",
    "\n",
    "\n",
    "class ConcreteStrategyB(Strategy):\n",
    "    def do_algorithm(self, data: List) -> List:\n",
    "        return reversed(sorted(data))\n"
   ]
  },
  {
   "cell_type": "code",
   "execution_count": 4,
   "metadata": {},
   "outputs": [
    {
     "name": "stdout",
     "output_type": "stream",
     "text": [
      "Client: Strategy is set to normal sorting.\n",
      "Context: Sorting data using the strategy (not sure how it'll do it)\n",
      "a,b,c,d,e\n",
      "\n",
      "Client: Strategy is set to reverse sorting.\n",
      "Context: Sorting data using the strategy (not sure how it'll do it)\n",
      "e,d,c,b,a\n"
     ]
    }
   ],
   "source": [
    "if __name__ == \"__main__\":\n",
    "    # The client code picks a concrete strategy and passes it to the context.\n",
    "    # The client should be aware of the differences between strategies in order\n",
    "    # to make the right choice.\n",
    "\n",
    "    context = Context(ConcreteStrategyA())\n",
    "    print(\"Client: Strategy is set to normal sorting.\")\n",
    "    context.do_some_business_logic()\n",
    "    print()\n",
    "\n",
    "    print(\"Client: Strategy is set to reverse sorting.\")\n",
    "    context.strategy = ConcreteStrategyB()\n",
    "    context.do_some_business_logic()"
   ]
  },
  {
   "cell_type": "code",
   "execution_count": null,
   "metadata": {},
   "outputs": [],
   "source": []
  }
 ],
 "metadata": {
  "kernelspec": {
   "display_name": "Python 3",
   "language": "python",
   "name": "python3"
  },
  "language_info": {
   "codemirror_mode": {
    "name": "ipython",
    "version": 3
   },
   "file_extension": ".py",
   "mimetype": "text/x-python",
   "name": "python",
   "nbconvert_exporter": "python",
   "pygments_lexer": "ipython3",
   "version": "3.6.9"
  }
 },
 "nbformat": 4,
 "nbformat_minor": 2
}
