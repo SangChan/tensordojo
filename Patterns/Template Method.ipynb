{
 "cells": [
  {
   "cell_type": "code",
   "execution_count": 1,
   "metadata": {},
   "outputs": [],
   "source": [
    "from abc import ABC, abstractmethod"
   ]
  },
  {
   "cell_type": "code",
   "execution_count": 2,
   "metadata": {},
   "outputs": [],
   "source": [
    "class AbstractClass(ABC):\n",
    "    def template_method(self) -> None:\n",
    "        self.base_operation1()\n",
    "        self.required_operations1()\n",
    "        self.base_operation2()\n",
    "        self.hook1()\n",
    "        self.required_operations2()\n",
    "        self.base_operation3()\n",
    "        self.hook2()\n",
    "    \n",
    "    def base_operation1(self) -> None:\n",
    "        print(\"AbstractClass says: I am doing the bulk of the work\")\n",
    "\n",
    "    def base_operation2(self) -> None:\n",
    "        print(\"AbstractClass says: But I let subclasses override some operations\")\n",
    "\n",
    "    def base_operation3(self) -> None:\n",
    "        print(\"AbstractClass says: But I am doing the bulk of the work anyway\")\n",
    "\n",
    "    @abstractmethod\n",
    "    def required_operations1(self) -> None:\n",
    "        pass\n",
    "\n",
    "    @abstractmethod\n",
    "    def required_operations2(self) -> None:\n",
    "        pass\n",
    "    \n",
    "    def hook1(self) -> None:\n",
    "        pass\n",
    "\n",
    "    def hook2(self) -> None:\n",
    "        pass\n",
    "    \n",
    "class ConcreteClass1(AbstractClass):\n",
    "    \"\"\"\n",
    "    Concrete classes have to implement all abstract operations of the base\n",
    "    class. They can also override some operations with a default implementation.\n",
    "    \"\"\"\n",
    "\n",
    "    def required_operations1(self) -> None:\n",
    "        print(\"ConcreteClass1 says: Implemented Operation1\")\n",
    "\n",
    "    def required_operations2(self) -> None:\n",
    "        print(\"ConcreteClass1 says: Implemented Operation2\")\n",
    "        \n",
    "class ConcreteClass2(AbstractClass):\n",
    "    \"\"\"\n",
    "    Usually, concrete classes override only a fraction of base class'\n",
    "    operations.\n",
    "    \"\"\"\n",
    "\n",
    "    def required_operations1(self) -> None:\n",
    "        print(\"ConcreteClass2 says: Implemented Operation1\")\n",
    "\n",
    "    def required_operations2(self) -> None:\n",
    "        print(\"ConcreteClass2 says: Implemented Operation2\")\n",
    "\n",
    "    def hook1(self) -> None:\n",
    "        print(\"ConcreteClass2 says: Overridden Hook1\")"
   ]
  },
  {
   "cell_type": "code",
   "execution_count": 3,
   "metadata": {},
   "outputs": [
    {
     "name": "stdout",
     "output_type": "stream",
     "text": [
      "Same client code can work with different subclasses:\n",
      "AbstractClass says: I am doing the bulk of the work\n",
      "ConcreteClass1 says: Implemented Operation1\n",
      "AbstractClass says: But I let subclasses override some operations\n",
      "ConcreteClass1 says: Implemented Operation2\n",
      "AbstractClass says: But I am doing the bulk of the work anyway\n",
      "\n",
      "Same client code can work with different subclasses:\n",
      "AbstractClass says: I am doing the bulk of the work\n",
      "ConcreteClass2 says: Implemented Operation1\n",
      "AbstractClass says: But I let subclasses override some operations\n",
      "ConcreteClass2 says: Overridden Hook1\n",
      "ConcreteClass2 says: Implemented Operation2\n",
      "AbstractClass says: But I am doing the bulk of the work anyway\n"
     ]
    }
   ],
   "source": [
    "def client_code(abstract_class: AbstractClass) -> None:\n",
    "    \"\"\"\n",
    "    The client code calls the template method to execute the algorithm. Client\n",
    "    code does not have to know the concrete class of an object it works with, as\n",
    "    long as it works with objects through the interface of their base class.\n",
    "    \"\"\"\n",
    "\n",
    "    # ...\n",
    "    abstract_class.template_method()\n",
    "    # ...\n",
    "\n",
    "\n",
    "if __name__ == \"__main__\":\n",
    "    print(\"Same client code can work with different subclasses:\")\n",
    "    client_code(ConcreteClass1())\n",
    "    print(\"\")\n",
    "\n",
    "    print(\"Same client code can work with different subclasses:\")\n",
    "    client_code(ConcreteClass2())"
   ]
  },
  {
   "cell_type": "code",
   "execution_count": null,
   "metadata": {},
   "outputs": [],
   "source": []
  }
 ],
 "metadata": {
  "kernelspec": {
   "display_name": "Python 3",
   "language": "python",
   "name": "python3"
  },
  "language_info": {
   "codemirror_mode": {
    "name": "ipython",
    "version": 3
   },
   "file_extension": ".py",
   "mimetype": "text/x-python",
   "name": "python",
   "nbconvert_exporter": "python",
   "pygments_lexer": "ipython3",
   "version": "3.6.9"
  }
 },
 "nbformat": 4,
 "nbformat_minor": 2
}
