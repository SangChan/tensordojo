{
 "cells": [
  {
   "cell_type": "code",
   "execution_count": 1,
   "metadata": {},
   "outputs": [
    {
     "name": "stdout",
     "output_type": "stream",
     "text": [
      "[273, 32, 103, 'text', True, False]\n"
     ]
    }
   ],
   "source": [
    "array = [273, 32, 103, \"text\", True, False]\n",
    "print(array)"
   ]
  },
  {
   "cell_type": "code",
   "execution_count": 2,
   "metadata": {},
   "outputs": [
    {
     "data": {
      "text/plain": [
       "273"
      ]
     },
     "execution_count": 2,
     "metadata": {},
     "output_type": "execute_result"
    }
   ],
   "source": [
    "array[0]"
   ]
  },
  {
   "cell_type": "code",
   "execution_count": 3,
   "metadata": {},
   "outputs": [
    {
     "data": {
      "text/plain": [
       "32"
      ]
     },
     "execution_count": 3,
     "metadata": {},
     "output_type": "execute_result"
    }
   ],
   "source": [
    "array[1]"
   ]
  },
  {
   "cell_type": "code",
   "execution_count": 4,
   "metadata": {},
   "outputs": [
    {
     "data": {
      "text/plain": [
       "[32, 103]"
      ]
     },
     "execution_count": 4,
     "metadata": {},
     "output_type": "execute_result"
    }
   ],
   "source": [
    "array[1:3]"
   ]
  },
  {
   "cell_type": "code",
   "execution_count": 6,
   "metadata": {},
   "outputs": [
    {
     "data": {
      "text/plain": [
       "False"
      ]
     },
     "execution_count": 6,
     "metadata": {},
     "output_type": "execute_result"
    }
   ],
   "source": [
    "array[-1]"
   ]
  },
  {
   "cell_type": "code",
   "execution_count": 7,
   "metadata": {},
   "outputs": [
    {
     "data": {
      "text/plain": [
       "'t'"
      ]
     },
     "execution_count": 7,
     "metadata": {},
     "output_type": "execute_result"
    }
   ],
   "source": [
    "array[3][0]"
   ]
  },
  {
   "cell_type": "code",
   "execution_count": 8,
   "metadata": {},
   "outputs": [
    {
     "data": {
      "text/plain": [
       "[4, 5, 6]"
      ]
     },
     "execution_count": 8,
     "metadata": {},
     "output_type": "execute_result"
    }
   ],
   "source": [
    "list_a = [[1,2,3], [4,5,6], [7,8,9]]\n",
    "list_a[1]"
   ]
  },
  {
   "cell_type": "code",
   "execution_count": 9,
   "metadata": {},
   "outputs": [
    {
     "data": {
      "text/plain": [
       "5"
      ]
     },
     "execution_count": 9,
     "metadata": {},
     "output_type": "execute_result"
    }
   ],
   "source": [
    "list_a[1][1]"
   ]
  },
  {
   "cell_type": "code",
   "execution_count": 10,
   "metadata": {},
   "outputs": [
    {
     "name": "stdout",
     "output_type": "stream",
     "text": [
      "[1, 2, 3, 4, 5]\n",
      "[10, 1, 2, 3, 4, 5]\n"
     ]
    }
   ],
   "source": [
    "list_a = [1,2,3]\n",
    "list_a.append(4)\n",
    "list_a.append(5)\n",
    "print(list_a)\n",
    "list_a.insert(0, 10)\n",
    "print(list_a)"
   ]
  },
  {
   "cell_type": "code",
   "execution_count": 11,
   "metadata": {},
   "outputs": [
    {
     "name": "stdout",
     "output_type": "stream",
     "text": [
      "[1, 2, 3, 4, 5, 6]\n"
     ]
    }
   ],
   "source": [
    "list_a = [1,2,3]\n",
    "list_a.extend([4,5,6])\n",
    "print(list_a)"
   ]
  },
  {
   "cell_type": "code",
   "execution_count": 13,
   "metadata": {},
   "outputs": [
    {
     "name": "stdout",
     "output_type": "stream",
     "text": [
      "[0, 2, 3, 4, 5]\n",
      "[0, 2, 4, 5]\n"
     ]
    }
   ],
   "source": [
    "list_a = [0,1,2,3,4,5]\n",
    "del list_a[1]\n",
    "print(list_a)\n",
    "list_a.pop(2)\n",
    "print(list_a)"
   ]
  },
  {
   "cell_type": "code",
   "execution_count": 14,
   "metadata": {},
   "outputs": [
    {
     "name": "stdout",
     "output_type": "stream",
     "text": [
      "[0, 1, 2, 6]\n"
     ]
    }
   ],
   "source": [
    "list_b = [0,1,2,3,4,5,6]\n",
    "del list_b[3:6]\n",
    "print(list_b)"
   ]
  },
  {
   "cell_type": "code",
   "execution_count": 15,
   "metadata": {},
   "outputs": [
    {
     "name": "stdout",
     "output_type": "stream",
     "text": [
      "[3, 4, 5, 6]\n"
     ]
    }
   ],
   "source": [
    "list_c = [0,1,2,3,4,5,6]\n",
    "del list_c[:3]\n",
    "print(list_c)"
   ]
  },
  {
   "cell_type": "code",
   "execution_count": 16,
   "metadata": {},
   "outputs": [
    {
     "name": "stdout",
     "output_type": "stream",
     "text": [
      "[0, 1, 2]\n"
     ]
    }
   ],
   "source": [
    "list_d = [0,1,2,3,4,5,6]\n",
    "del list_d[3:]\n",
    "print(list_d)"
   ]
  },
  {
   "cell_type": "code",
   "execution_count": 18,
   "metadata": {},
   "outputs": [
    {
     "name": "stdout",
     "output_type": "stream",
     "text": [
      "[1, 1, 2]\n"
     ]
    }
   ],
   "source": [
    "list_c = [1,2,1,2]\n",
    "list_c.remove(2)\n",
    "print(list_c)"
   ]
  },
  {
   "cell_type": "code",
   "execution_count": 19,
   "metadata": {},
   "outputs": [
    {
     "name": "stdout",
     "output_type": "stream",
     "text": [
      "[]\n"
     ]
    }
   ],
   "source": [
    "list_d = [0,1,2,3,4,5]\n",
    "list_d.clear()\n",
    "print(list_d)"
   ]
  },
  {
   "cell_type": "code",
   "execution_count": 21,
   "metadata": {},
   "outputs": [
    {
     "data": {
      "text/plain": [
       "True"
      ]
     },
     "execution_count": 21,
     "metadata": {},
     "output_type": "execute_result"
    }
   ],
   "source": [
    "list_a = [273, 32, 103, 57, 52]\n",
    "273 in list_a"
   ]
  },
  {
   "cell_type": "code",
   "execution_count": 22,
   "metadata": {},
   "outputs": [
    {
     "data": {
      "text/plain": [
       "False"
      ]
     },
     "execution_count": 22,
     "metadata": {},
     "output_type": "execute_result"
    }
   ],
   "source": [
    "99 in list_a"
   ]
  },
  {
   "cell_type": "code",
   "execution_count": 23,
   "metadata": {},
   "outputs": [
    {
     "data": {
      "text/plain": [
       "False"
      ]
     },
     "execution_count": 23,
     "metadata": {},
     "output_type": "execute_result"
    }
   ],
   "source": [
    "100 in list_a"
   ]
  },
  {
   "cell_type": "code",
   "execution_count": 24,
   "metadata": {},
   "outputs": [
    {
     "data": {
      "text/plain": [
       "True"
      ]
     },
     "execution_count": 24,
     "metadata": {},
     "output_type": "execute_result"
    }
   ],
   "source": [
    "52 in list_a"
   ]
  },
  {
   "cell_type": "code",
   "execution_count": 27,
   "metadata": {},
   "outputs": [
    {
     "data": {
      "text/plain": [
       "False"
      ]
     },
     "execution_count": 27,
     "metadata": {},
     "output_type": "execute_result"
    }
   ],
   "source": [
    "273 not in list_a"
   ]
  },
  {
   "cell_type": "code",
   "execution_count": 26,
   "metadata": {},
   "outputs": [
    {
     "data": {
      "text/plain": [
       "True"
      ]
     },
     "execution_count": 26,
     "metadata": {},
     "output_type": "execute_result"
    }
   ],
   "source": [
    "99 not in list_a"
   ]
  },
  {
   "cell_type": "code",
   "execution_count": 28,
   "metadata": {},
   "outputs": [
    {
     "data": {
      "text/plain": [
       "True"
      ]
     },
     "execution_count": 28,
     "metadata": {},
     "output_type": "execute_result"
    }
   ],
   "source": [
    "100 not in list_a"
   ]
  },
  {
   "cell_type": "code",
   "execution_count": 29,
   "metadata": {},
   "outputs": [
    {
     "data": {
      "text/plain": [
       "False"
      ]
     },
     "execution_count": 29,
     "metadata": {},
     "output_type": "execute_result"
    }
   ],
   "source": [
    "52 not in list_a"
   ]
  },
  {
   "cell_type": "code",
   "execution_count": 30,
   "metadata": {},
   "outputs": [
    {
     "data": {
      "text/plain": [
       "False"
      ]
     },
     "execution_count": 30,
     "metadata": {},
     "output_type": "execute_result"
    }
   ],
   "source": [
    "not 273 in list_a"
   ]
  },
  {
   "cell_type": "code",
   "execution_count": 31,
   "metadata": {},
   "outputs": [
    {
     "name": "stdout",
     "output_type": "stream",
     "text": [
      "print\n",
      "print\n",
      "print\n",
      "print\n",
      "print\n",
      "print\n",
      "print\n",
      "print\n",
      "print\n",
      "print\n",
      "print\n",
      "print\n",
      "print\n",
      "print\n",
      "print\n",
      "print\n",
      "print\n",
      "print\n",
      "print\n",
      "print\n",
      "print\n",
      "print\n",
      "print\n",
      "print\n",
      "print\n",
      "print\n",
      "print\n",
      "print\n",
      "print\n",
      "print\n",
      "print\n",
      "print\n",
      "print\n",
      "print\n",
      "print\n",
      "print\n",
      "print\n",
      "print\n",
      "print\n",
      "print\n",
      "print\n",
      "print\n",
      "print\n",
      "print\n",
      "print\n",
      "print\n",
      "print\n",
      "print\n",
      "print\n",
      "print\n",
      "print\n",
      "print\n",
      "print\n",
      "print\n",
      "print\n",
      "print\n",
      "print\n",
      "print\n",
      "print\n",
      "print\n",
      "print\n",
      "print\n",
      "print\n",
      "print\n",
      "print\n",
      "print\n",
      "print\n",
      "print\n",
      "print\n",
      "print\n",
      "print\n",
      "print\n",
      "print\n",
      "print\n",
      "print\n",
      "print\n",
      "print\n",
      "print\n",
      "print\n",
      "print\n",
      "print\n",
      "print\n",
      "print\n",
      "print\n",
      "print\n",
      "print\n",
      "print\n",
      "print\n",
      "print\n",
      "print\n",
      "print\n",
      "print\n",
      "print\n",
      "print\n",
      "print\n",
      "print\n",
      "print\n",
      "print\n",
      "print\n",
      "print\n"
     ]
    }
   ],
   "source": [
    "for i in range(100):\n",
    "    print(\"print\")"
   ]
  },
  {
   "cell_type": "code",
   "execution_count": 32,
   "metadata": {},
   "outputs": [
    {
     "name": "stdout",
     "output_type": "stream",
     "text": [
      "273\n",
      "32\n",
      "103\n",
      "57\n",
      "52\n"
     ]
    }
   ],
   "source": [
    "array = [273, 32, 103, 57, 52]\n",
    "for element in array:\n",
    "    print(element)"
   ]
  },
  {
   "cell_type": "code",
   "execution_count": 33,
   "metadata": {},
   "outputs": [
    {
     "name": "stdout",
     "output_type": "stream",
     "text": [
      "안\n",
      "녕\n",
      "하\n",
      "세\n",
      "요\n"
     ]
    }
   ],
   "source": [
    "for character in \"안녕하세요\":\n",
    "     print(character)"
   ]
  },
  {
   "cell_type": "code",
   "execution_count": 39,
   "metadata": {},
   "outputs": [
    {
     "name": "stdout",
     "output_type": "stream",
     "text": [
      "name: 7D 건조 망고\n",
      "type: 당절임\n",
      "ingredient: ['망고', '설탕', '메타중아황산나트륨', '치자황색소']\n",
      "origin: 필리핀\n"
     ]
    }
   ],
   "source": [
    "dictionary = {\n",
    "    \"name\" : \"7D 건조 망고\",\n",
    "    \"type\" : \"당절임\",\n",
    "    \"ingredient\" : [\"망고\", \"설탕\", \"메타중아황산나트륨\", \"치자황색소\"],\n",
    "    \"origin\" : \"필리핀\"\n",
    "}\n",
    "\n",
    "print(\"name:\", dictionary[\"name\"])\n",
    "print(\"type:\", dictionary[\"type\"])\n",
    "print(\"ingredient:\", dictionary[\"ingredient\"])\n",
    "print(\"origin:\", dictionary[\"origin\"])"
   ]
  },
  {
   "cell_type": "code",
   "execution_count": 40,
   "metadata": {},
   "outputs": [
    {
     "name": "stdout",
     "output_type": "stream",
     "text": [
      "name: 8D 건조 망고\n"
     ]
    }
   ],
   "source": [
    "dictionary[\"name\"] = \"8D 건조 망고\"\n",
    "print(\"name:\", dictionary[\"name\"])"
   ]
  },
  {
   "cell_type": "code",
   "execution_count": 41,
   "metadata": {},
   "outputs": [
    {
     "name": "stdout",
     "output_type": "stream",
     "text": [
      "{'name': '새로운 이름', 'head': '새로운 정신', 'body': '새로운 몸'}\n"
     ]
    }
   ],
   "source": [
    "dictionary = {}\n",
    "\n",
    "dictionary[\"name\"] = \"새로운 이름\"\n",
    "dictionary[\"head\"] = \"새로운 정신\"\n",
    "dictionary[\"body\"] = \"새로운 몸\"\n",
    "\n",
    "print(dictionary)"
   ]
  },
  {
   "cell_type": "code",
   "execution_count": 42,
   "metadata": {},
   "outputs": [
    {
     "name": "stdout",
     "output_type": "stream",
     "text": [
      "{'body': '새로운 몸'}\n"
     ]
    }
   ],
   "source": [
    "del dictionary[\"name\"]\n",
    "del dictionary[\"head\"]\n",
    "print(dictionary)"
   ]
  },
  {
   "cell_type": "code",
   "execution_count": 47,
   "metadata": {},
   "outputs": [
    {
     "name": "stdout",
     "output_type": "stream",
     "text": [
      "접근하고자 하는 키 : key\n",
      "존재하지 않음\n"
     ]
    }
   ],
   "source": [
    "dictionary = {\n",
    "    \"name\" : \"7D 건조 망고\",\n",
    "    \"type\" : \"당절임\",\n",
    "    \"ingredient\" : [\"망고\", \"설탕\", \"메타중아황산나트륨\", \"치자황색소\"],\n",
    "    \"origin\" : \"필리핀\"\n",
    "}\n",
    "\n",
    "key = input(\"접근하고자 하는 키 : \")\n",
    "\n",
    "if key in dictionary:\n",
    "    print(dictionary[key])\n",
    "else:\n",
    "    print(\"존재하지 않음\")"
   ]
  },
  {
   "cell_type": "code",
   "execution_count": 48,
   "metadata": {},
   "outputs": [
    {
     "name": "stdout",
     "output_type": "stream",
     "text": [
      "None\n",
      "존재하지 않는 키에 접근했었습니다\n"
     ]
    }
   ],
   "source": [
    "dictionary = {\n",
    "    \"name\" : \"7D 건조 망고\",\n",
    "    \"type\" : \"당절임\",\n",
    "    \"ingredient\" : [\"망고\", \"설탕\", \"메타중아황산나트륨\", \"치자황색소\"],\n",
    "    \"origin\" : \"필리핀\"\n",
    "}\n",
    "\n",
    "value = dictionary.get(\"존재하지 않는 키\")\n",
    "print(value)\n",
    "\n",
    "if value == None:\n",
    "    print(\"존재하지 않는 키에 접근했었습니다\")"
   ]
  },
  {
   "cell_type": "code",
   "execution_count": 50,
   "metadata": {},
   "outputs": [
    {
     "name": "stdout",
     "output_type": "stream",
     "text": [
      "7D 건조 망고\n",
      "당절임\n",
      "['망고', '설탕', '메타중아황산나트륨', '치자황색소']\n",
      "필리핀\n"
     ]
    }
   ],
   "source": [
    "dictionary = {\n",
    "    \"name\" : \"7D 건조 망고\",\n",
    "    \"type\" : \"당절임\",\n",
    "    \"ingredient\" : [\"망고\", \"설탕\", \"메타중아황산나트륨\", \"치자황색소\"],\n",
    "    \"origin\" : \"필리핀\"\n",
    "}\n",
    "\n",
    "for key in dictionary:\n",
    "    print(dictionary[key])"
   ]
  },
  {
   "cell_type": "code",
   "execution_count": null,
   "metadata": {},
   "outputs": [],
   "source": []
  }
 ],
 "metadata": {
  "kernelspec": {
   "display_name": "Python 3",
   "language": "python",
   "name": "python3"
  },
  "language_info": {
   "codemirror_mode": {
    "name": "ipython",
    "version": 3
   },
   "file_extension": ".py",
   "mimetype": "text/x-python",
   "name": "python",
   "nbconvert_exporter": "python",
   "pygments_lexer": "ipython3",
   "version": "3.6.9"
  }
 },
 "nbformat": 4,
 "nbformat_minor": 2
}
