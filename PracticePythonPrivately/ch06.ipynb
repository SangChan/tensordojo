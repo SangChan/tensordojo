{
 "cells": [
  {
   "cell_type": "code",
   "execution_count": 1,
   "metadata": {},
   "outputs": [
    {
     "name": "stdout",
     "output_type": "stream",
     "text": [
      "정수 입력 > 12\n",
      "원의 반지름:  12\n",
      "원의 둘레:  75.36\n",
      "원의 넓이:  452.15999999999997\n"
     ]
    }
   ],
   "source": [
    "user_input_a = input(\"정수 입력 > \")\n",
    "\n",
    "if user_input_a.isdigit():\n",
    "    number_input_a = int(user_input_a)\n",
    "    print(\"원의 반지름: \", number_input_a)\n",
    "    print(\"원의 둘레: \", 2*3.14*number_input_a)\n",
    "    print(\"원의 넓이: \", 3.14*number_input_a*number_input_a)\n",
    "else:\n",
    "    print(\"정수를 입력하지 않았습니다.\")"
   ]
  },
  {
   "cell_type": "code",
   "execution_count": 2,
   "metadata": {},
   "outputs": [
    {
     "name": "stdout",
     "output_type": "stream",
     "text": [
      "정수 입력 > ㅛㄷㄴ\n",
      "정수를 입력하지 않았습니다.\n"
     ]
    }
   ],
   "source": [
    "try:\n",
    "    number_input_a = int(input(\"정수 입력 > \"))\n",
    "    print(\"원의 반지름: \", number_input_a)\n",
    "    print(\"원의 둘레: \", 2*3.14*number_input_a)\n",
    "    print(\"원의 넓이: \", 3.14*number_input_a*number_input_a)\n",
    "except:\n",
    "    print(\"정수를 입력하지 않았습니다.\")"
   ]
  },
  {
   "cell_type": "code",
   "execution_count": 3,
   "metadata": {},
   "outputs": [
    {
     "name": "stdout",
     "output_type": "stream",
     "text": [
      "['52', '273', '32', '스파이', '103']\n",
      "['52', '273', '32', '103']\n"
     ]
    }
   ],
   "source": [
    "list_input_a = [\"52\",\"273\",\"32\", \"스파이\", \"103\"]\n",
    "\n",
    "list_number = []\n",
    "for item in list_input_a :\n",
    "    try :\n",
    "        float(item)\n",
    "        list_number.append(item)\n",
    "    except:\n",
    "        pass\n",
    "    \n",
    "print(list_input_a)\n",
    "print(list_number)"
   ]
  },
  {
   "cell_type": "code",
   "execution_count": 2,
   "metadata": {},
   "outputs": [
    {
     "name": "stdout",
     "output_type": "stream",
     "text": [
      "정수 입력 > yes!!!\n",
      "정수를 입력하지 않았습니다\n"
     ]
    }
   ],
   "source": [
    "try:\n",
    "    number_input_a = int(input(\"정수 입력 > \"))\n",
    "except:\n",
    "    print(\"정수를 입력하지 않았습니다\")\n",
    "else:\n",
    "    print(\"원의 반지름: \", number_input_a)\n",
    "    print(\"원의 둘레: \", 2*3.14*number_input_a)\n",
    "    print(\"원의 넓이: \", 3.14*number_input_a*number_input_a)"
   ]
  },
  {
   "cell_type": "code",
   "execution_count": 3,
   "metadata": {},
   "outputs": [
    {
     "name": "stdout",
     "output_type": "stream",
     "text": [
      "정수 입력 > 273\n",
      "원의 반지름:  273\n",
      "원의 둘레:  1714.44\n",
      "원의 넓이:  234021.06\n",
      "예외가 발생하지 않았습니다\n",
      "일단 프로그램이 어떻게든 끝났습니다\n"
     ]
    }
   ],
   "source": [
    "try:\n",
    "    number_input_a = int(input(\"정수 입력 > \"))\n",
    "    print(\"원의 반지름: \", number_input_a)\n",
    "    print(\"원의 둘레: \", 2*3.14*number_input_a)\n",
    "    print(\"원의 넓이: \", 3.14*number_input_a*number_input_a)\n",
    "except:\n",
    "    print(\"정수를 입력하지 않았습니다\")\n",
    "else:\n",
    "    print(\"예외가 발생하지 않았습니다\")\n",
    "finally:\n",
    "    print(\"일단 프로그램이 어떻게든 끝났습니다\")"
   ]
  },
  {
   "cell_type": "code",
   "execution_count": 1,
   "metadata": {},
   "outputs": [
    {
     "name": "stdout",
     "output_type": "stream",
     "text": [
      "file.closed: True\n"
     ]
    }
   ],
   "source": [
    "try:\n",
    "    file = open(\"info.txt\", \"w\")\n",
    "    file.close()\n",
    "except Exception as e:\n",
    "    print(e)\n",
    "    \n",
    "print(\"file.closed:\", file.closed)"
   ]
  },
  {
   "cell_type": "code",
   "execution_count": 3,
   "metadata": {},
   "outputs": [
    {
     "name": "stdout",
     "output_type": "stream",
     "text": [
      "start of code\n",
      "try\n",
      "after return on try\n",
      "else\n",
      "finally\n",
      "end of code\n"
     ]
    }
   ],
   "source": [
    "def test():\n",
    "    print(\"start of code\")\n",
    "    try:\n",
    "        print(\"try\")\n",
    "        ##return\n",
    "        print(\"after return on try\")\n",
    "    except:\n",
    "        print(\"except\")\n",
    "    else:\n",
    "        print(\"else\")\n",
    "    finally:\n",
    "        print(\"finally\")\n",
    "    print(\"end of code\")\n",
    "    \n",
    "test()"
   ]
  },
  {
   "cell_type": "code",
   "execution_count": 4,
   "metadata": {},
   "outputs": [
    {
     "name": "stdout",
     "output_type": "stream",
     "text": [
      "insert number > test\n",
      "type(exception): <class 'ValueError'>\n",
      "exception: invalid literal for int() with base 10: 'test'\n"
     ]
    }
   ],
   "source": [
    "try:\n",
    "    number_input_a = int(input(\"insert number > \"))\n",
    "    print(\"radius:\", number_input_a)\n",
    "    print(\"circumference:\", 2*3.14*number_input_a)\n",
    "    print(\"area:\",3.14*number_input_a*number_input_a)\n",
    "except Exception as exception:\n",
    "    print(\"type(exception):\",type(exception))\n",
    "    print(\"exception:\",exception)"
   ]
  },
  {
   "cell_type": "code",
   "execution_count": 8,
   "metadata": {},
   "outputs": [
    {
     "name": "stdout",
     "output_type": "stream",
     "text": [
      "insert number > 100\n",
      "type(exception): <class 'IndexError'>\n",
      "exception: list index out of range\n"
     ]
    }
   ],
   "source": [
    "list_number = [52,273,32,72,100]\n",
    "\n",
    "try:\n",
    "    number_input = int(input(\"insert number > \"))\n",
    "    print(\"#{} : {}\".format(number_input, list_number[number_input]))\n",
    "except Exception as exception:\n",
    "    print(\"type(exception):\",type(exception))\n",
    "    print(\"exception:\",exception)"
   ]
  },
  {
   "cell_type": "code",
   "execution_count": 11,
   "metadata": {},
   "outputs": [
    {
     "name": "stdout",
     "output_type": "stream",
     "text": [
      "insert number > test\n",
      "please insert number\n",
      "exception: invalid literal for int() with base 10: 'test'\n"
     ]
    }
   ],
   "source": [
    "list_number = [52,273,32,72,100]\n",
    "\n",
    "try:\n",
    "    number_input = int(input(\"insert number > \"))\n",
    "    print(\"#{} : {}\".format(number_input, list_number[number_input]))\n",
    "except ValueError as exception:\n",
    "    print(\"please insert number\")\n",
    "    print(\"exception:\",exception)\n",
    "except IndexError as exception:\n",
    "    print(\"out of index\")\n",
    "    print(\"exception:\",exception)"
   ]
  },
  {
   "cell_type": "code",
   "execution_count": 13,
   "metadata": {},
   "outputs": [
    {
     "name": "stdout",
     "output_type": "stream",
     "text": [
      "insert number > 2\n",
      "#2 : 32\n",
      "fatal error not expected\n",
      "type(exception): <class 'NameError'>\n",
      "exception: name '예외' is not defined\n"
     ]
    }
   ],
   "source": [
    "list_number = [52,273,32,72,100]\n",
    "\n",
    "try:\n",
    "    number_input = int(input(\"insert number > \"))\n",
    "    print(\"#{} : {}\".format(number_input, list_number[number_input]))\n",
    "    예외.발생()\n",
    "except ValueError as exception:\n",
    "    print(\"please insert number\")\n",
    "    print(\"exception:\",exception)\n",
    "except IndexError as exception:\n",
    "    print(\"out of index\")\n",
    "    print(\"exception:\",exception)\n",
    "except Exception as exception:\n",
    "    print(\"fatal error not expected\")\n",
    "    print(\"type(exception):\",type(exception))\n",
    "    print(\"exception:\",exception)"
   ]
  },
  {
   "cell_type": "code",
   "execution_count": null,
   "metadata": {},
   "outputs": [],
   "source": []
  }
 ],
 "metadata": {
  "kernelspec": {
   "display_name": "Python 3",
   "language": "python",
   "name": "python3"
  },
  "language_info": {
   "codemirror_mode": {
    "name": "ipython",
    "version": 3
   },
   "file_extension": ".py",
   "mimetype": "text/x-python",
   "name": "python",
   "nbconvert_exporter": "python",
   "pygments_lexer": "ipython3",
   "version": "3.6.9"
  }
 },
 "nbformat": 4,
 "nbformat_minor": 2
}
