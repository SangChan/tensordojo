{
 "cells": [
  {
   "cell_type": "code",
   "execution_count": 1,
   "metadata": {},
   "outputs": [
    {
     "name": "stdout",
     "output_type": "stream",
     "text": [
      "정수 입력 > 12\n",
      "원의 반지름:  12\n",
      "원의 둘레:  75.36\n",
      "원의 넓이:  452.15999999999997\n"
     ]
    }
   ],
   "source": [
    "user_input_a = input(\"정수 입력 > \")\n",
    "\n",
    "if user_input_a.isdigit():\n",
    "    number_input_a = int(user_input_a)\n",
    "    print(\"원의 반지름: \", number_input_a)\n",
    "    print(\"원의 둘레: \", 2*3.14*number_input_a)\n",
    "    print(\"원의 넓이: \", 3.14*number_input_a*number_input_a)\n",
    "else:\n",
    "    print(\"정수를 입력하지 않았습니다.\")"
   ]
  },
  {
   "cell_type": "code",
   "execution_count": 2,
   "metadata": {},
   "outputs": [
    {
     "name": "stdout",
     "output_type": "stream",
     "text": [
      "정수 입력 > ㅛㄷㄴ\n",
      "정수를 입력하지 않았습니다.\n"
     ]
    }
   ],
   "source": [
    "try:\n",
    "    number_input_a = int(input(\"정수 입력 > \"))\n",
    "    print(\"원의 반지름: \", number_input_a)\n",
    "    print(\"원의 둘레: \", 2*3.14*number_input_a)\n",
    "    print(\"원의 넓이: \", 3.14*number_input_a*number_input_a)\n",
    "except:\n",
    "    print(\"정수를 입력하지 않았습니다.\")"
   ]
  },
  {
   "cell_type": "code",
   "execution_count": 3,
   "metadata": {},
   "outputs": [
    {
     "name": "stdout",
     "output_type": "stream",
     "text": [
      "['52', '273', '32', '스파이', '103']\n",
      "['52', '273', '32', '103']\n"
     ]
    }
   ],
   "source": [
    "list_input_a = [\"52\",\"273\",\"32\", \"스파이\", \"103\"]\n",
    "\n",
    "list_number = []\n",
    "for item in list_input_a :\n",
    "    try :\n",
    "        float(item)\n",
    "        list_number.append(item)\n",
    "    except:\n",
    "        pass\n",
    "    \n",
    "print(list_input_a)\n",
    "print(list_number)"
   ]
  },
  {
   "cell_type": "code",
   "execution_count": null,
   "metadata": {},
   "outputs": [],
   "source": []
  }
 ],
 "metadata": {
  "kernelspec": {
   "display_name": "Python 3",
   "language": "python",
   "name": "python3"
  },
  "language_info": {
   "codemirror_mode": {
    "name": "ipython",
    "version": 3
   },
   "file_extension": ".py",
   "mimetype": "text/x-python",
   "name": "python",
   "nbconvert_exporter": "python",
   "pygments_lexer": "ipython3",
   "version": "3.6.9"
  }
 },
 "nbformat": 4,
 "nbformat_minor": 2
}
