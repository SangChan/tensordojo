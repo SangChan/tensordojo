{
 "cells": [
  {
   "cell_type": "code",
   "execution_count": 1,
   "metadata": {},
   "outputs": [
    {
     "data": {
      "text/plain": [
       "0.8414709848078965"
      ]
     },
     "execution_count": 1,
     "metadata": {},
     "output_type": "execute_result"
    }
   ],
   "source": [
    "import math\n",
    "math.sin(1)"
   ]
  },
  {
   "cell_type": "code",
   "execution_count": 2,
   "metadata": {},
   "outputs": [
    {
     "data": {
      "text/plain": [
       "0.5403023058681398"
      ]
     },
     "execution_count": 2,
     "metadata": {},
     "output_type": "execute_result"
    }
   ],
   "source": [
    "math.cos(1)"
   ]
  },
  {
   "cell_type": "code",
   "execution_count": 3,
   "metadata": {},
   "outputs": [
    {
     "data": {
      "text/plain": [
       "1.5574077246549023"
      ]
     },
     "execution_count": 3,
     "metadata": {},
     "output_type": "execute_result"
    }
   ],
   "source": [
    "math.tan(1)"
   ]
  },
  {
   "cell_type": "code",
   "execution_count": 4,
   "metadata": {},
   "outputs": [
    {
     "data": {
      "text/plain": [
       "2"
      ]
     },
     "execution_count": 4,
     "metadata": {},
     "output_type": "execute_result"
    }
   ],
   "source": [
    "math.floor(2.5)"
   ]
  },
  {
   "cell_type": "code",
   "execution_count": 5,
   "metadata": {},
   "outputs": [
    {
     "data": {
      "text/plain": [
       "3"
      ]
     },
     "execution_count": 5,
     "metadata": {},
     "output_type": "execute_result"
    }
   ],
   "source": [
    "math.ceil(2.5)"
   ]
  },
  {
   "cell_type": "code",
   "execution_count": 6,
   "metadata": {},
   "outputs": [
    {
     "data": {
      "text/plain": [
       "2"
      ]
     },
     "execution_count": 6,
     "metadata": {},
     "output_type": "execute_result"
    }
   ],
   "source": [
    "round(1.5)"
   ]
  },
  {
   "cell_type": "code",
   "execution_count": 7,
   "metadata": {},
   "outputs": [
    {
     "data": {
      "text/plain": [
       "2"
      ]
     },
     "execution_count": 7,
     "metadata": {},
     "output_type": "execute_result"
    }
   ],
   "source": [
    "round(2.5)"
   ]
  },
  {
   "cell_type": "code",
   "execution_count": 8,
   "metadata": {},
   "outputs": [
    {
     "data": {
      "text/plain": [
       "4"
      ]
     },
     "execution_count": 8,
     "metadata": {},
     "output_type": "execute_result"
    }
   ],
   "source": [
    "round(3.5)"
   ]
  },
  {
   "cell_type": "code",
   "execution_count": 9,
   "metadata": {},
   "outputs": [
    {
     "data": {
      "text/plain": [
       "4"
      ]
     },
     "execution_count": 9,
     "metadata": {},
     "output_type": "execute_result"
    }
   ],
   "source": [
    "round(4.5)"
   ]
  },
  {
   "cell_type": "code",
   "execution_count": 10,
   "metadata": {},
   "outputs": [],
   "source": [
    "from math import sin, cos, tan, floor, ceil"
   ]
  },
  {
   "cell_type": "code",
   "execution_count": 11,
   "metadata": {},
   "outputs": [
    {
     "data": {
      "text/plain": [
       "0.8414709848078965"
      ]
     },
     "execution_count": 11,
     "metadata": {},
     "output_type": "execute_result"
    }
   ],
   "source": [
    "sin(1)"
   ]
  },
  {
   "cell_type": "code",
   "execution_count": 12,
   "metadata": {},
   "outputs": [],
   "source": [
    "from math import *"
   ]
  },
  {
   "cell_type": "code",
   "execution_count": 13,
   "metadata": {},
   "outputs": [
    {
     "data": {
      "text/plain": [
       "2"
      ]
     },
     "execution_count": 13,
     "metadata": {},
     "output_type": "execute_result"
    }
   ],
   "source": [
    "floor(2.5)"
   ]
  },
  {
   "cell_type": "code",
   "execution_count": 16,
   "metadata": {},
   "outputs": [],
   "source": [
    "import math as m"
   ]
  },
  {
   "cell_type": "code",
   "execution_count": 17,
   "metadata": {},
   "outputs": [
    {
     "data": {
      "text/plain": [
       "0.8414709848078965"
      ]
     },
     "execution_count": 17,
     "metadata": {},
     "output_type": "execute_result"
    }
   ],
   "source": [
    "m.sin(1)"
   ]
  },
  {
   "cell_type": "code",
   "execution_count": 19,
   "metadata": {},
   "outputs": [
    {
     "name": "stdout",
     "output_type": "stream",
     "text": [
      "random(): 0.8808268025593556\n",
      "uniform(10,20): 17.990633416680076\n",
      "randrange(10): 5\n",
      "choice([1,2,3,4,5]): 5\n",
      "shuffle([1,2,3,4,5]): None\n",
      "sample([1,2,3,4,5], k=2): [2, 5]\n"
     ]
    }
   ],
   "source": [
    "import random as r\n",
    "print(\"random():\", r.random())\n",
    "print(\"uniform(10,20):\", r.uniform(10,20))\n",
    "print(\"randrange(10):\", r.randrange(10))\n",
    "print(\"choice([1,2,3,4,5]):\", r.choice([1,2,3,4,5]))\n",
    "print(\"shuffle([1,2,3,4,5]):\", r.shuffle([1,2,3,4,5]))\n",
    "print(\"sample([1,2,3,4,5], k=2):\", r.sample([1,2,3,4,5], k=2))"
   ]
  },
  {
   "cell_type": "code",
   "execution_count": 27,
   "metadata": {},
   "outputs": [
    {
     "name": "stdout",
     "output_type": "stream",
     "text": [
      "['/usr/local/lib/python3.6/dist-packages/ipykernel_launcher.py', '-f', '/root/.local/share/jupyter/runtime/kernel-1bba91d0-ece5-4d4d-b35e-b730aba362bd.json']\n",
      "copyright: Copyright (c) 2001-2019 Python Software Foundation.\n",
      "All Rights Reserved.\n",
      "\n",
      "Copyright (c) 2000 BeOpen.com.\n",
      "All Rights Reserved.\n",
      "\n",
      "Copyright (c) 1995-2001 Corporation for National Research Initiatives.\n",
      "All Rights Reserved.\n",
      "\n",
      "Copyright (c) 1991-1995 Stichting Mathematisch Centrum, Amsterdam.\n",
      "All Rights Reserved.\n",
      "version: 3.6.9 (default, Oct  8 2020, 12:12:24) \n",
      "[GCC 8.4.0]\n"
     ]
    }
   ],
   "source": [
    "import sys\n",
    "print(sys.argv)\n",
    "#print(\"getwindowsversion():\", sys.getwindowsversion())\n",
    "print(\"copyright:\", sys.copyright)\n",
    "print(\"version:\", sys.version)\n",
    "##sys.exit()"
   ]
  },
  {
   "cell_type": "code",
   "execution_count": 33,
   "metadata": {},
   "outputs": [
    {
     "name": "stdout",
     "output_type": "stream",
     "text": [
      "posix\n",
      "/tf/tensordojo/PracticePythonPrivately\n",
      "['ch01.ipynb', '.ipynb_checkpoints', 'ch02.ipynb', 'ch03.ipynb', 'ch04.ipynb', 'ch05.ipynb', 'basic.txt', 'info.txt', 'ch06.ipynb', 'ch07.ipynb']\n"
     ]
    },
    {
     "data": {
      "text/plain": [
       "0"
      ]
     },
     "execution_count": 33,
     "metadata": {},
     "output_type": "execute_result"
    }
   ],
   "source": [
    "import os\n",
    "\n",
    "print(os.name)\n",
    "print(os.getcwd())\n",
    "print(os.listdir())"
   ]
  },
  {
   "cell_type": "code",
   "execution_count": 34,
   "metadata": {},
   "outputs": [
    {
     "name": "stdout",
     "output_type": "stream",
     "text": [
      "2021 year\n",
      "10 month\n",
      "8 day\n",
      "11 hour\n",
      "33 minute\n",
      "49 second\n",
      "2021.10.08 11:33:49\n",
      "2021년 10월 8일 11시 33분 49초\n",
      "2021년 10월 08일 11시 33분 49초\n"
     ]
    }
   ],
   "source": [
    "import datetime\n",
    "\n",
    "now = datetime.datetime.now()\n",
    "print(now.year, \"year\")\n",
    "print(now.month, \"month\")\n",
    "print(now.day, \"day\")\n",
    "print(now.hour, \"hour\")\n",
    "print(now.minute, \"minute\")\n",
    "print(now.second, \"second\")\n",
    "\n",
    "output_a = now.strftime(\"%Y.%m.%d %H:%M:%S\")\n",
    "output_b = \"{}년 {}월 {}일 {}시 {}분 {}초\".format(now.year, now.month, now.day, now.hour, now.minute, now.second)\n",
    "output_c = now.strftime(\"%Y{} %m{} %d{} %H{} %M{} %S{}\").format(*\"년월일시분초\")\n",
    "print(output_a)\n",
    "print(output_b)\n",
    "print(output_c)"
   ]
  },
  {
   "cell_type": "code",
   "execution_count": 36,
   "metadata": {},
   "outputs": [
    {
     "name": "stdout",
     "output_type": "stream",
     "text": [
      "now\n",
      "2021년 10월 08일 11시 37분 34초\n",
      "timedelta\n",
      "2021년 10월 16일 12시 38분 35초\n",
      "replace\n",
      "2022년 10월 08일 11시 37분 34초\n"
     ]
    }
   ],
   "source": [
    "import datetime\n",
    "\n",
    "print(\"now\")\n",
    "now = datetime.datetime.now()\n",
    "print(now.strftime(\"%Y{} %m{} %d{} %H{} %M{} %S{}\").format(*\"년월일시분초\"))\n",
    "\n",
    "print(\"timedelta\")\n",
    "after = now + datetime.timedelta(weeks=1, days=1, hours=1, minutes=1, seconds=1)\n",
    "print(after.strftime(\"%Y{} %m{} %d{} %H{} %M{} %S{}\").format(*\"년월일시분초\"))\n",
    "\n",
    "print(\"replace\")\n",
    "output = now.replace(year=(now.year+1))\n",
    "print(output.strftime(\"%Y{} %m{} %d{} %H{} %M{} %S{}\").format(*\"년월일시분초\"))"
   ]
  },
  {
   "cell_type": "code",
   "execution_count": 37,
   "metadata": {},
   "outputs": [
    {
     "name": "stdout",
     "output_type": "stream",
     "text": [
      "let's count 5 secs\n",
      "done!\n"
     ]
    }
   ],
   "source": [
    "import time\n",
    "print(\"let's count 5 secs\")\n",
    "time.sleep(5)\n",
    "print(\"done!\")"
   ]
  },
  {
   "cell_type": "code",
   "execution_count": null,
   "metadata": {},
   "outputs": [],
   "source": []
  }
 ],
 "metadata": {
  "kernelspec": {
   "display_name": "Python 3",
   "language": "python",
   "name": "python3"
  },
  "language_info": {
   "codemirror_mode": {
    "name": "ipython",
    "version": 3
   },
   "file_extension": ".py",
   "mimetype": "text/x-python",
   "name": "python",
   "nbconvert_exporter": "python",
   "pygments_lexer": "ipython3",
   "version": "3.6.9"
  }
 },
 "nbformat": 4,
 "nbformat_minor": 2
}
