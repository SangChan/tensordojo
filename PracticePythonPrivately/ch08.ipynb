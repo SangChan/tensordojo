{
 "cells": [
  {
   "cell_type": "code",
   "execution_count": 2,
   "metadata": {},
   "outputs": [],
   "source": [
    "class Student:\n",
    "    pass\n",
    "\n",
    "student = Student()\n",
    "\n",
    "students = [\n",
    "    Student(),\n",
    "    Student(),\n",
    "    Student(),\n",
    "    Student(),\n",
    "    Student(),\n",
    "    Student()\n",
    "]"
   ]
  },
  {
   "cell_type": "code",
   "execution_count": 4,
   "metadata": {},
   "outputs": [
    {
     "name": "stdout",
     "output_type": "stream",
     "text": [
      "학생1 : 국어 87점, 수학 98점, 영어 88점, 과학 95점\n"
     ]
    }
   ],
   "source": [
    "class Student:\n",
    "    def __init__(self, name, korean, math, english, science):\n",
    "        self.name = name\n",
    "        self.korean = korean\n",
    "        self.math = math\n",
    "        self.english = english\n",
    "        self.science = science\n",
    "\n",
    "students = [\n",
    "    Student(\"학생1\",87,98,88,95),\n",
    "    Student(\"학생2\",2,5,100,4),\n",
    "    Student(\"학생3\",92,98,100,100),\n",
    "    Student(\"학생4\",88,67,65,56),\n",
    "    Student(\"학생5\",12,23,22,26),\n",
    "    Student(\"학생6\",90,91,89,87)\n",
    "]\n",
    "\n",
    "print(\"{} : 국어 {}점, 수학 {}점, 영어 {}점, 과학 {}점\".format(\n",
    "    students[0].name, \n",
    "    students[0].korean, \n",
    "    students[0].math, \n",
    "    students[0].english,\n",
    "    students[0].science\n",
    "))"
   ]
  },
  {
   "cell_type": "code",
   "execution_count": 6,
   "metadata": {},
   "outputs": [
    {
     "name": "stdout",
     "output_type": "stream",
     "text": [
      "이름\t총점\t평균\n",
      "학생1\t368\t92.0\n",
      "학생2\t111\t27.75\n",
      "학생3\t390\t97.5\n",
      "학생4\t276\t69.0\n",
      "학생5\t83\t20.75\n",
      "학생6\t357\t89.25\n"
     ]
    }
   ],
   "source": [
    "class Student:\n",
    "    def __init__(self, name, korean, math, english, science):\n",
    "        self.name = name\n",
    "        self.korean = korean\n",
    "        self.math = math\n",
    "        self.english = english\n",
    "        self.science = science\n",
    "        \n",
    "    def get_sum(self):\n",
    "        return self.korean + self.math + self.english + self.science\n",
    "    \n",
    "    def get_average(self):\n",
    "        return self.get_sum()/4\n",
    "    \n",
    "    def to_string(self):\n",
    "        return \"{}\\t{}\\t{}\".format(self.name, self.get_sum(), self.get_average())\n",
    "    \n",
    "students = [\n",
    "    Student(\"학생1\",87,98,88,95),\n",
    "    Student(\"학생2\",2,5,100,4),\n",
    "    Student(\"학생3\",92,98,100,100),\n",
    "    Student(\"학생4\",88,67,65,56),\n",
    "    Student(\"학생5\",12,23,22,26),\n",
    "    Student(\"학생6\",90,91,89,87)\n",
    "]\n",
    "\n",
    "print(\"이름\\t총점\\t평균\")\n",
    "for student in students:\n",
    "    print(student.to_string())"
   ]
  },
  {
   "cell_type": "code",
   "execution_count": 7,
   "metadata": {},
   "outputs": [
    {
     "name": "stdout",
     "output_type": "stream",
     "text": [
      "isinstance(student, Student) True\n"
     ]
    }
   ],
   "source": [
    "class Student:\n",
    "    def __init__(self):\n",
    "        pass\n",
    "    \n",
    "student = Student()\n",
    "print(\"isinstance(student, Student)\", isinstance(student, Student))"
   ]
  },
  {
   "cell_type": "code",
   "execution_count": 8,
   "metadata": {},
   "outputs": [
    {
     "name": "stdout",
     "output_type": "stream",
     "text": [
      "study\n",
      "study\n",
      "teach\n",
      "study\n",
      "study\n"
     ]
    }
   ],
   "source": [
    "class Student:\n",
    "    def study(self):\n",
    "        print(\"study\")\n",
    "\n",
    "class Teacher:\n",
    "    def teach(self):\n",
    "        print(\"teach\")\n",
    "        \n",
    "classroom = [Student(), Student(), Teacher(), Student(), Student()]\n",
    "\n",
    "for person in classroom:\n",
    "    if isinstance(person, Student):\n",
    "        person.study()\n",
    "    elif isinstance(person, Teacher):\n",
    "        person.teach()"
   ]
  },
  {
   "cell_type": "code",
   "execution_count": 9,
   "metadata": {},
   "outputs": [
    {
     "name": "stdout",
     "output_type": "stream",
     "text": [
      "이름\t총점\t평균\n",
      "학생1\t368\t92.0\n",
      "학생2\t111\t27.75\n",
      "학생3\t390\t97.5\n",
      "학생4\t276\t69.0\n",
      "학생5\t83\t20.75\n",
      "학생6\t357\t89.25\n"
     ]
    }
   ],
   "source": [
    "class Student:\n",
    "    def __init__(self, name, korean, math, english, science):\n",
    "        self.name = name\n",
    "        self.korean = korean\n",
    "        self.math = math\n",
    "        self.english = english\n",
    "        self.science = science\n",
    "        \n",
    "    def get_sum(self):\n",
    "        return self.korean + self.math + self.english + self.science\n",
    "    \n",
    "    def get_average(self):\n",
    "        return self.get_sum()/4\n",
    "    \n",
    "    def __str__(self):\n",
    "        return \"{}\\t{}\\t{}\".format(self.name, self.get_sum(), self.get_average())\n",
    "    \n",
    "students = [\n",
    "    Student(\"학생1\",87,98,88,95),\n",
    "    Student(\"학생2\",2,5,100,4),\n",
    "    Student(\"학생3\",92,98,100,100),\n",
    "    Student(\"학생4\",88,67,65,56),\n",
    "    Student(\"학생5\",12,23,22,26),\n",
    "    Student(\"학생6\",90,91,89,87)\n",
    "]\n",
    "\n",
    "print(\"이름\\t총점\\t평균\")\n",
    "for student in students:\n",
    "    print(str(student))"
   ]
  },
  {
   "cell_type": "code",
   "execution_count": 11,
   "metadata": {},
   "outputs": [
    {
     "name": "stdout",
     "output_type": "stream",
     "text": [
      "eq False\n",
      "ne True\n",
      "gt False\n",
      "ge False\n",
      "lt True\n",
      "le True\n"
     ]
    }
   ],
   "source": [
    "class Student:\n",
    "    def __init__(self, name, korean, math, english, science):\n",
    "        self.name = name\n",
    "        self.korean = korean\n",
    "        self.math = math\n",
    "        self.english = english\n",
    "        self.science = science\n",
    "        \n",
    "    def get_sum(self):\n",
    "        return self.korean + self.math + self.english + self.science\n",
    "    \n",
    "    def get_average(self):\n",
    "        return self.get_sum()/4\n",
    "    \n",
    "    def __str__(self):\n",
    "        return \"{}\\t{}\\t{}\".format(self.name, self.get_sum(), self.get_average())\n",
    "    \n",
    "    def __eq__(self, value):\n",
    "        return self.get_sum() == value.get_sum()\n",
    "    \n",
    "    def __ne__(self, value):\n",
    "        return self.get_sum() != value.get_sum()\n",
    "    \n",
    "    def __gt__(self, value):\n",
    "        return self.get_sum() > value.get_sum()\n",
    "    \n",
    "    def __ge__(self, value):\n",
    "        return self.get_sum() >= value.get_sum()\n",
    "    \n",
    "    def __lt__(self, value):\n",
    "        return self.get_sum() < value.get_sum()\n",
    "    \n",
    "    def __le__(self, value):\n",
    "        return self.get_sum() <= value.get_sum()\n",
    "    \n",
    "students = [\n",
    "    Student(\"학생1\",87,98,88,95),\n",
    "    Student(\"학생2\",92,98,96,98),\n",
    "    Student(\"학생3\",92,98,100,100),\n",
    "    Student(\"학생4\",88,67,65,56),\n",
    "    Student(\"학생5\",12,23,22,26),\n",
    "    Student(\"학생6\",90,91,89,87)\n",
    "]\n",
    "\n",
    "student_a = Student(\"학생1\",87,98,88,95)\n",
    "student_b = Student(\"학생2\",92,98,96,98)\n",
    "\n",
    "print(\"eq\", student_a == student_b)\n",
    "print(\"ne\", student_a != student_b)\n",
    "print(\"gt\", student_a > student_b)\n",
    "print(\"ge\", student_a >= student_b)\n",
    "print(\"lt\", student_a < student_b)\n",
    "print(\"le\", student_a <= student_b)"
   ]
  },
  {
   "cell_type": "code",
   "execution_count": null,
   "metadata": {},
   "outputs": [],
   "source": []
  }
 ],
 "metadata": {
  "kernelspec": {
   "display_name": "Python 3",
   "language": "python",
   "name": "python3"
  },
  "language_info": {
   "codemirror_mode": {
    "name": "ipython",
    "version": 3
   },
   "file_extension": ".py",
   "mimetype": "text/x-python",
   "name": "python",
   "nbconvert_exporter": "python",
   "pygments_lexer": "ipython3",
   "version": "3.6.9"
  }
 },
 "nbformat": 4,
 "nbformat_minor": 2
}
