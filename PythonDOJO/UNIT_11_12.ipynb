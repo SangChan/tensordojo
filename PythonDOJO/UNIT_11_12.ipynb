{
 "cells": [
  {
   "cell_type": "code",
   "execution_count": 1,
   "metadata": {},
   "outputs": [
    {
     "name": "stdout",
     "output_type": "stream",
     "text": [
      "[2016, 2017, 2018]\n",
      "[9930616, 9857426, 9838892]\n"
     ]
    }
   ],
   "source": [
    "year = [2011, 2012, 2013, 2014, 2015, 2016, 2017, 2018]\n",
    "population = [10249674, 10195318, 10143645, 10103233, 10022181, 9930616, 9857426, 9838892]\n",
    "\n",
    "print(year[-3:])\n",
    "print(population[-3:])"
   ]
  },
  {
   "cell_type": "code",
   "execution_count": 2,
   "metadata": {},
   "outputs": [
    {
     "name": "stdout",
     "output_type": "stream",
     "text": [
      "(75, -10, 32, -15, 76, 2)\n"
     ]
    }
   ],
   "source": [
    "n = -32, 75, 97, -10, 9, 32, 4, -15, 0, 76, 14, 2\n",
    "\n",
    "print(n[1::2])"
   ]
  },
  {
   "cell_type": "code",
   "execution_count": 7,
   "metadata": {},
   "outputs": [
    {
     "name": "stdout",
     "output_type": "stream",
     "text": [
      "(1, 2, 3, 4, 5)\n"
     ]
    }
   ],
   "source": [
    "x = [1,2,3,4,5,6,7,8,9,10]\n",
    "del x[5:]\n",
    "print(tuple(x))"
   ]
  },
  {
   "cell_type": "code",
   "execution_count": 16,
   "metadata": {},
   "outputs": [
    {
     "name": "stdout",
     "output_type": "stream",
     "text": [
      "yhnpto\n"
     ]
    }
   ],
   "source": [
    "a = [\"p\",\"y\",\"t\",\"h\",\"o\",\"n\"]\n",
    "b = [\"p\",\"y\",\"t\",\"h\",\"o\",\"n\"]\n",
    "\n",
    "print(\"\".join(a[1::2])+\"\".join(b[0::2]))"
   ]
  },
  {
   "cell_type": "code",
   "execution_count": 19,
   "metadata": {},
   "outputs": [
    {
     "name": "stdout",
     "output_type": "stream",
     "text": [
      "575.6\n",
      "340\n"
     ]
    }
   ],
   "source": [
    "camille = {\n",
    "    'health' : 575.6,\n",
    "    'health_regen' : 1.7,\n",
    "    'mana' : 338.8,\n",
    "    'mana_regen' : 1.63,\n",
    "    'melee' : 125,\n",
    "    'attack_damage' : 60,\n",
    "    'attack_speed' : 0.625,\n",
    "    'armor' : 26,\n",
    "    'magic_reststance' : 32.1,\n",
    "    'movement_speed' : 340\n",
    "}\n",
    "\n",
    "print(camille['health'])\n",
    "print(camille['movement_speed'])"
   ]
  },
  {
   "cell_type": "code",
   "execution_count": 21,
   "metadata": {},
   "outputs": [
    {
     "name": "stdout",
     "output_type": "stream",
     "text": [
      "{'health': 573.6, 'mana': 308.8, 'melee': 600, 'attack_speed': 0.625, 'magic_resistance': 35.7}\n"
     ]
    }
   ],
   "source": [
    "a = [\"health\", \"mana\", \"melee\", \"attack_speed\", \"magic_resistance\"]\n",
    "b = [573.6, 308.8, 600, 0.625, 35.7]\n",
    "\n",
    "print(dict(zip(a,b)))"
   ]
  },
  {
   "cell_type": "code",
   "execution_count": null,
   "metadata": {},
   "outputs": [],
   "source": []
  }
 ],
 "metadata": {
  "kernelspec": {
   "display_name": "Python 3",
   "language": "python",
   "name": "python3"
  },
  "language_info": {
   "codemirror_mode": {
    "name": "ipython",
    "version": 3
   },
   "file_extension": ".py",
   "mimetype": "text/x-python",
   "name": "python",
   "nbconvert_exporter": "python",
   "pygments_lexer": "ipython3",
   "version": "3.6.9"
  }
 },
 "nbformat": 4,
 "nbformat_minor": 2
}
