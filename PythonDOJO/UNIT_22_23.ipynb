{
 "cells": [
  {
   "cell_type": "code",
   "execution_count": 2,
   "metadata": {},
   "outputs": [
    {
     "name": "stdout",
     "output_type": "stream",
     "text": [
      "['alpha', 'bravo', 'delta', 'hotel', 'india']\n"
     ]
    }
   ],
   "source": [
    "a = ['alpha', 'bravo', 'charlie', 'delta', 'echo', 'foxtrot', 'golf', 'hotel', 'india']\n",
    "b = [i for i in a if len(i) == 5]\n",
    "print(b)"
   ]
  },
  {
   "cell_type": "code",
   "execution_count": 17,
   "metadata": {},
   "outputs": [
    {
     "name": "stdout",
     "output_type": "stream",
     "text": [
      "10 20\n",
      "[1024, 4096, 8192, 16384, 32768, 65536, 131072, 262144, 1048576]\n"
     ]
    }
   ],
   "source": [
    "start, stop = map(int, input().split())\n",
    "\n",
    "a = []\n",
    "\n",
    "for i in range(start, stop + 1):\n",
    "    a.append(pow(2,i))\n",
    "\n",
    "a.pop(len(a) - 2)\n",
    "a.pop(1)\n",
    "print(a)"
   ]
  },
  {
   "cell_type": "code",
   "execution_count": 18,
   "metadata": {},
   "outputs": [
    {
     "name": "stdout",
     "output_type": "stream",
     "text": [
      "[[[0, 1, 2], [3, 4, 5], [6, 7, 8], [9, 10, 11]], [[100, 101, 102], [103, 104, 105]]]\n"
     ]
    }
   ],
   "source": [
    "a = [\n",
    "    [\n",
    "        [0,1,2],\n",
    "        [3,4,5],\n",
    "        [6,7,8],\n",
    "        [9,10,11]\n",
    "    ],\n",
    "    [\n",
    "        [100,101,102],\n",
    "        [103,104,105]\n",
    "    ]\n",
    "]\n",
    "print(a)"
   ]
  },
  {
   "cell_type": "code",
   "execution_count": 19,
   "metadata": {},
   "outputs": [
    {
     "name": "stdout",
     "output_type": "stream",
     "text": [
      "[[[0, 0, 0], [0, 0, 0], [0, 0, 0], [0, 0, 0]], [[0, 0, 0], [0, 0, 0], [0, 0, 0], [0, 0, 0]]]\n"
     ]
    }
   ],
   "source": [
    "a = [[[0 for col in range(3)] for row in range(4)] for depth in range(2)]\n",
    "print(a)"
   ]
  },
  {
   "cell_type": "code",
   "execution_count": 31,
   "metadata": {},
   "outputs": [
    {
     "name": "stdout",
     "output_type": "stream",
     "text": [
      "3 3\n",
      "**.\n",
      ".*.\n",
      "..*\n",
      "[['*', '*', '.'], ['.', '*', '.'], ['.', '.', '*']]\n",
      "[['*', '*', '0'], ['0', '*', '0'], ['0', '0', '*']]\n"
     ]
    }
   ],
   "source": [
    "col, row = map(int, input().split())\n",
    "matrix = []\n",
    "for i in range(row):\n",
    "    matrix.append(list(input()))\n",
    "\n",
    "print(matrix)\n",
    "num_matrix = matrix.copy()\n",
    "for i in range(len(matrix)):\n",
    "    for j in range(len(matrix[i])):\n",
    "        if matrix[i][j] == \"*\":\n",
    "            num_matrix[i][j] = \"*\"\n",
    "        else:\n",
    "            num_matrix[i][j] = \"0\"\n",
    "print(num_matrix)\n",
    "\n",
    "for i in range(len(num_matrix)):\n",
    "    for j in range(len(num_matrix[i])):\n",
    "        if num_matrix[i][j] == \"*\":\n",
    "            pass\n",
    "            #[i-1][j-1] 값은 +1\n",
    "            #[i][j-1] 값은 +1\n",
    "            #[i+1][j-1] 값은 +1\n",
    "            #[i-1][j] 값은 +1\n",
    "            #[i][j] 값은 * 이므로 무시\n",
    "            #[i+1][j] 값은 +1\n",
    "            #[i-1][j+1] 값은 +1\n",
    "            #[i][j+1] 값은 +1\n",
    "            #[i+1][j+1] 값은 +1\n",
    "print(num_matrix)"
   ]
  },
  {
   "cell_type": "code",
   "execution_count": null,
   "metadata": {},
   "outputs": [],
   "source": []
  }
 ],
 "metadata": {
  "kernelspec": {
   "display_name": "Python 3",
   "language": "python",
   "name": "python3"
  },
  "language_info": {
   "codemirror_mode": {
    "name": "ipython",
    "version": 3
   },
   "file_extension": ".py",
   "mimetype": "text/x-python",
   "name": "python",
   "nbconvert_exporter": "python",
   "pygments_lexer": "ipython3",
   "version": "3.6.9"
  }
 },
 "nbformat": 4,
 "nbformat_minor": 2
}
