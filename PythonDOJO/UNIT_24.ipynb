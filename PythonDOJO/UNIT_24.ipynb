{
 "cells": [
  {
   "cell_type": "code",
   "execution_count": 2,
   "metadata": {},
   "outputs": [
    {
     "name": "stdout",
     "output_type": "stream",
     "text": [
      "python.exe\n"
     ]
    }
   ],
   "source": [
    "path = \"c:\\\\Users\\\\dojang\\\\appdata\\\\local\\\\programs\\\\python\\\\python36-32\\\\python.exe\"\n",
    "\n",
    "x = path.split(\"\\\\\")\n",
    "x.reverse()\n",
    "filename = x[0]\n",
    "\n",
    "print(filename)"
   ]
  },
  {
   "cell_type": "code",
   "execution_count": 19,
   "metadata": {},
   "outputs": [
    {
     "name": "stdout",
     "output_type": "stream",
     "text": [
      "6\n"
     ]
    }
   ],
   "source": [
    "text = \"the grown-ups' response, this time, was to advise me to lay aside my drawings of boa constrictors, whether form the inside or the oustide, and devote myself instead to geography, history, arithmetic, and grammar. That is why, at the, age of six, I gave up what might have been a magnificent career as a painter. I had been disheartened by the failure of my Drawing Number One and my Drawing Number Two. Grown-ups never understand anythis by themselves, and it is tiresome for children to be always and forever explaining things to the.\"\n",
    "\n",
    "text = text.replace(\",\",\"\")\n",
    "text = text.replace(\".\",\"\")\n",
    "text = text.replace(\"'\",\"\")\n",
    "newArray = text.split()\n",
    "\n",
    "theCount = 0\n",
    "for i in newArray:\n",
    "    if i.lower() == \"the\":\n",
    "        theCount += 1\n",
    "\n",
    "print(theCount)"
   ]
  },
  {
   "cell_type": "code",
   "execution_count": 41,
   "metadata": {},
   "outputs": [
    {
     "name": "stdout",
     "output_type": "stream",
     "text": [
      "1,304,000\n",
      "  367,500\n",
      "  250,000\n",
      "  158,000\n",
      "  128,500\n",
      "   83,000\n",
      "   59,200\n",
      "   51,900\n"
     ]
    }
   ],
   "source": [
    "prices = \"51900;83000;158000;367500;250000;59200;128500;1304000\"\n",
    "priceArray = list(map(int, prices.split(\";\")))\n",
    "sortedArray = sorted(priceArray)\n",
    "sortedArray.reverse()\n",
    "for i in sortedArray:\n",
    "    print('{0:>9,}'.format(i))"
   ]
  },
  {
   "cell_type": "code",
   "execution_count": null,
   "metadata": {},
   "outputs": [],
   "source": []
  }
 ],
 "metadata": {
  "kernelspec": {
   "display_name": "Python 3",
   "language": "python",
   "name": "python3"
  },
  "language_info": {
   "codemirror_mode": {
    "name": "ipython",
    "version": 3
   },
   "file_extension": ".py",
   "mimetype": "text/x-python",
   "name": "python",
   "nbconvert_exporter": "python",
   "pygments_lexer": "ipython3",
   "version": "3.6.9"
  }
 },
 "nbformat": 4,
 "nbformat_minor": 2
}
