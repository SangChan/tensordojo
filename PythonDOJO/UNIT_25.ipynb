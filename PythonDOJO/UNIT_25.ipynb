{
 "cells": [
  {
   "cell_type": "code",
   "execution_count": 1,
   "metadata": {},
   "outputs": [
    {
     "name": "stdout",
     "output_type": "stream",
     "text": [
      "89.25\n"
     ]
    }
   ],
   "source": [
    "maria = {'korean': 94, 'english': 91, 'mathematics': 89, 'science': 83}\n",
    "average = sum(maria.values()) / len(maria)\n",
    "print(average)"
   ]
  },
  {
   "cell_type": "code",
   "execution_count": 3,
   "metadata": {},
   "outputs": [
    {
     "name": "stdout",
     "output_type": "stream",
     "text": [
      "alpha brabo charlie delta\n",
      "10 20 30 40\n",
      "{'alpha': 10, 'brabo': 20}\n"
     ]
    }
   ],
   "source": [
    "keys = input().split()\n",
    "values = map(int, input().split())\n",
    "\n",
    "x = dict(zip(keys, values))\n",
    "del x[\"delta\"]\n",
    "x = {key: value for key,value in x.items() if value != 30}\n",
    "print(x)"
   ]
  },
  {
   "cell_type": "code",
   "execution_count": null,
   "metadata": {},
   "outputs": [],
   "source": []
  },
  {
   "cell_type": "code",
   "execution_count": null,
   "metadata": {},
   "outputs": [],
   "source": []
  }
 ],
 "metadata": {
  "kernelspec": {
   "display_name": "Python 3",
   "language": "python",
   "name": "python3"
  },
  "language_info": {
   "codemirror_mode": {
    "name": "ipython",
    "version": 3
   },
   "file_extension": ".py",
   "mimetype": "text/x-python",
   "name": "python",
   "nbconvert_exporter": "python",
   "pygments_lexer": "ipython3",
   "version": "3.6.9"
  }
 },
 "nbformat": 4,
 "nbformat_minor": 2
}
