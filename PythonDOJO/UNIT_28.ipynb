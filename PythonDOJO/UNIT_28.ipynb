{
 "cells": [
  {
   "cell_type": "code",
   "execution_count": 2,
   "metadata": {},
   "outputs": [
    {
     "name": "stdout",
     "output_type": "stream",
     "text": [
      "7\n",
      "Python is a programming language that lets you work quickly\n",
      "('Python', 'is', 'a', 'programming', 'language', 'that', 'lets')\n",
      "('is', 'a', 'programming', 'language', 'that', 'lets', 'you')\n",
      "('a', 'programming', 'language', 'that', 'lets', 'you', 'work')\n",
      "('programming', 'language', 'that', 'lets', 'you', 'work', 'quickly')\n"
     ]
    }
   ],
   "source": [
    "n = int(input())\n",
    "text = input()\n",
    "words = text.split()\n",
    "\n",
    "if len(words) < n :\n",
    "    print('wrong')\n",
    "else :\n",
    "    n_gram = zip(*[words[i:] for i in range(n)])\n",
    "    for i in n_gram:\n",
    "        print(i)"
   ]
  },
  {
   "cell_type": "code",
   "execution_count": null,
   "metadata": {},
   "outputs": [],
   "source": []
  }
 ],
 "metadata": {
  "kernelspec": {
   "display_name": "Python 3",
   "language": "python",
   "name": "python3"
  },
  "language_info": {
   "codemirror_mode": {
    "name": "ipython",
    "version": 3
   },
   "file_extension": ".py",
   "mimetype": "text/x-python",
   "name": "python",
   "nbconvert_exporter": "python",
   "pygments_lexer": "ipython3",
   "version": "3.6.9"
  }
 },
 "nbformat": 4,
 "nbformat_minor": 2
}
