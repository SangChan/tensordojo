{
 "cells": [
  {
   "cell_type": "code",
   "execution_count": 1,
   "metadata": {},
   "outputs": [
    {
     "name": "stdout",
     "output_type": "stream",
     "text": [
      "안녕하세요\n",
      "공부하기\n"
     ]
    }
   ],
   "source": [
    "class Person:\n",
    "    def greeting(self):\n",
    "        print('안녕하세요')\n",
    "        \n",
    "class Student(Person):\n",
    "    def study(self):\n",
    "        print('공부하기')\n",
    "        \n",
    "james = Student()\n",
    "james.greeting()\n",
    "james.study()"
   ]
  },
  {
   "cell_type": "code",
   "execution_count": 6,
   "metadata": {},
   "outputs": [
    {
     "name": "stdout",
     "output_type": "stream",
     "text": [
      "Student __init__\n",
      "Person __init__\n",
      "파이선 코딩 도장\n",
      "안녕하세요\n"
     ]
    }
   ],
   "source": [
    "class Person:\n",
    "    def __init__(self):\n",
    "        print(\"Person __init__\")\n",
    "        self.hello = \"안녕하세요\"\n",
    "        \n",
    "class Student(Person):\n",
    "    def __init__(self):\n",
    "        print('Student __init__')\n",
    "        super().__init__()\n",
    "        self.school = '파이선 코딩 도장'\n",
    "        \n",
    "james = Student()\n",
    "print(james.school)\n",
    "print(james.hello)"
   ]
  },
  {
   "cell_type": "code",
   "execution_count": 7,
   "metadata": {},
   "outputs": [
    {
     "name": "stdout",
     "output_type": "stream",
     "text": [
      "안녕하세요, 저는 파이썬 코딩 도장 학생입니다\n"
     ]
    }
   ],
   "source": [
    "class Person:\n",
    "    def greeting(self):\n",
    "        print('안녕하세요')\n",
    "        \n",
    "class Student(Person):\n",
    "    def greeting(self):\n",
    "        print('안녕하세요, 저는 파이썬 코딩 도장 학생입니다')\n",
    "        \n",
    "james = Student()\n",
    "james.greeting()"
   ]
  },
  {
   "cell_type": "code",
   "execution_count": 8,
   "metadata": {},
   "outputs": [
    {
     "name": "stdout",
     "output_type": "stream",
     "text": [
      "안녕하세요\n",
      "학점 관리\n",
      "공부하기\n"
     ]
    }
   ],
   "source": [
    "class Person:\n",
    "    def greeting(self):\n",
    "        print('안녕하세요')\n",
    "        \n",
    "class University:\n",
    "    def manage_credit(self):\n",
    "        print('학점 관리')\n",
    "        \n",
    "class Undergraduate(Person, University):\n",
    "    def study(self):\n",
    "        print('공부하기')\n",
    "        \n",
    "james = Undergraduate()\n",
    "james.greeting()\n",
    "james.manage_credit()\n",
    "james.study()"
   ]
  },
  {
   "cell_type": "code",
   "execution_count": null,
   "metadata": {},
   "outputs": [],
   "source": []
  }
 ],
 "metadata": {
  "kernelspec": {
   "display_name": "Python 3",
   "language": "python",
   "name": "python3"
  },
  "language_info": {
   "codemirror_mode": {
    "name": "ipython",
    "version": 3
   },
   "file_extension": ".py",
   "mimetype": "text/x-python",
   "name": "python",
   "nbconvert_exporter": "python",
   "pygments_lexer": "ipython3",
   "version": "3.6.9"
  }
 },
 "nbformat": 4,
 "nbformat_minor": 2
}
