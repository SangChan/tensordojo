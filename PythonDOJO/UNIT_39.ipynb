{
 "cells": [
  {
   "cell_type": "code",
   "execution_count": 1,
   "metadata": {},
   "outputs": [
    {
     "data": {
      "text/plain": [
       "['__add__',\n",
       " '__class__',\n",
       " '__contains__',\n",
       " '__delattr__',\n",
       " '__delitem__',\n",
       " '__dir__',\n",
       " '__doc__',\n",
       " '__eq__',\n",
       " '__format__',\n",
       " '__ge__',\n",
       " '__getattribute__',\n",
       " '__getitem__',\n",
       " '__gt__',\n",
       " '__hash__',\n",
       " '__iadd__',\n",
       " '__imul__',\n",
       " '__init__',\n",
       " '__init_subclass__',\n",
       " '__iter__',\n",
       " '__le__',\n",
       " '__len__',\n",
       " '__lt__',\n",
       " '__mul__',\n",
       " '__ne__',\n",
       " '__new__',\n",
       " '__reduce__',\n",
       " '__reduce_ex__',\n",
       " '__repr__',\n",
       " '__reversed__',\n",
       " '__rmul__',\n",
       " '__setattr__',\n",
       " '__setitem__',\n",
       " '__sizeof__',\n",
       " '__str__',\n",
       " '__subclasshook__',\n",
       " 'append',\n",
       " 'clear',\n",
       " 'copy',\n",
       " 'count',\n",
       " 'extend',\n",
       " 'index',\n",
       " 'insert',\n",
       " 'pop',\n",
       " 'remove',\n",
       " 'reverse',\n",
       " 'sort']"
      ]
     },
     "execution_count": 1,
     "metadata": {},
     "output_type": "execute_result"
    }
   ],
   "source": [
    "dir([1,2,3])"
   ]
  },
  {
   "cell_type": "code",
   "execution_count": 3,
   "metadata": {},
   "outputs": [
    {
     "name": "stdout",
     "output_type": "stream",
     "text": [
      "0 1 2 "
     ]
    }
   ],
   "source": [
    "class Counter:\n",
    "    def __init__(self, stop):\n",
    "        self.current = 0\n",
    "        self.stop = stop\n",
    "        \n",
    "    def __iter__(self):\n",
    "        return self\n",
    "    \n",
    "    def __next__(self):\n",
    "        if self.current < self.stop:\n",
    "            r = self.current\n",
    "            self.current += 1\n",
    "            return r\n",
    "        else :\n",
    "            raise StopIteration\n",
    "            \n",
    "for i in Counter(3):\n",
    "    print(i, end=' ')"
   ]
  },
  {
   "cell_type": "code",
   "execution_count": 4,
   "metadata": {},
   "outputs": [
    {
     "name": "stdout",
     "output_type": "stream",
     "text": [
      "0 1 2\n",
      "0 1 2 "
     ]
    }
   ],
   "source": [
    "class Counter:\n",
    "    def __init__(self, stop):\n",
    "        self.stop = stop\n",
    "        \n",
    "    def __getitem__(self, index):\n",
    "        if index < self.stop:\n",
    "            return index\n",
    "        else:\n",
    "            raise IndexError\n",
    "            \n",
    "print(Counter(3)[0], Counter(3)[1], Counter(3)[2])\n",
    "\n",
    "for i in Counter(3):\n",
    "    print(i, end=' ')"
   ]
  },
  {
   "cell_type": "code",
   "execution_count": 7,
   "metadata": {},
   "outputs": [
    {
     "name": "stdout",
     "output_type": "stream",
     "text": [
      "3 6 9 12 15 18 \n",
      "5 10 15 20 25 "
     ]
    }
   ],
   "source": [
    "class MultipleIterator:\n",
    "    def __init__(self, stop, multiple):\n",
    "        self.stop = stop\n",
    "        self.multiple = multiple\n",
    "        self.current = 0\n",
    "        \n",
    "    def __iter__(self):\n",
    "        return self\n",
    "    \n",
    "    def __next__(self):\n",
    "        self.current += 1\n",
    "        if self.current*self.multiple < self.stop:\n",
    "            return self.current * self.multiple\n",
    "        else:\n",
    "            raise StopIteration\n",
    "            \n",
    "for i in MultipleIterator(20,3):\n",
    "    print(i, end = ' ')\n",
    "\n",
    "print()\n",
    "for i in MultipleIterator(30,5):\n",
    "    print(i, end = ' ')"
   ]
  },
  {
   "cell_type": "code",
   "execution_count": 26,
   "metadata": {},
   "outputs": [
    {
     "name": "stdout",
     "output_type": "stream",
     "text": [
      "0 3 2\n",
      "0.0:0.0:0\n",
      "0.0002777777777777778:0.016666666666666666:1\n",
      "0.0005555555555555556:0.03333333333333333:2\n",
      "\n",
      "0.0005555555555555556:0.03333333333333333:2\n"
     ]
    }
   ],
   "source": [
    "class TimeIterator:\n",
    "    def __init__(self, start, stop):\n",
    "        self.start = start\n",
    "        self.stop = stop\n",
    "        self.current = 0\n",
    "    \n",
    "    def __iter__(self):\n",
    "        return self\n",
    "    \n",
    "    def __next__(self):\n",
    "        if self.current < self.stop - self.start:\n",
    "            index = self.current\n",
    "            self.current += 1\n",
    "            return self.getValue(index)\n",
    "        else:\n",
    "            raise StopIteration\n",
    "    \n",
    "    def __getitem__(self, index):\n",
    "        if index < self.stop:\n",
    "            return self.getValue(index)\n",
    "        else:\n",
    "            raise IndexError\n",
    "            \n",
    "    def getValue(self, index):\n",
    "        value = self.start + index\n",
    "        hour = (self.start + index) / 3600 % 24\n",
    "        minute = (self.start + index) / 60 % 60\n",
    "        second = (self.start + index) % 60\n",
    "        return \"{0}:{1}:{2}\".format(hour, minute, second)\n",
    "        #return self.start + index\n",
    "    \n",
    "\n",
    "start, stop, index = map(int, input().split())\n",
    "\n",
    "for i in TimeIterator(start, stop):\n",
    "    print(i)\n",
    "    \n",
    "print('\\n', TimeIterator(start, stop)[index], sep='')"
   ]
  },
  {
   "cell_type": "code",
   "execution_count": null,
   "metadata": {},
   "outputs": [],
   "source": []
  }
 ],
 "metadata": {
  "kernelspec": {
   "display_name": "Python 3",
   "language": "python",
   "name": "python3"
  },
  "language_info": {
   "codemirror_mode": {
    "name": "ipython",
    "version": 3
   },
   "file_extension": ".py",
   "mimetype": "text/x-python",
   "name": "python",
   "nbconvert_exporter": "python",
   "pygments_lexer": "ipython3",
   "version": "3.6.9"
  }
 },
 "nbformat": 4,
 "nbformat_minor": 2
}
