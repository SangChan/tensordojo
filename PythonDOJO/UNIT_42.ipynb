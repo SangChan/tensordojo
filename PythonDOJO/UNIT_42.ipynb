{
 "cells": [
  {
   "cell_type": "code",
   "execution_count": 6,
   "metadata": {},
   "outputs": [
    {
     "name": "stdout",
     "output_type": "stream",
     "text": [
      "hello 함수시작\n",
      "hello\n",
      "hello 함수끝\n",
      "world 함수시작\n",
      "world\n",
      "world 함수끝\n"
     ]
    }
   ],
   "source": [
    "def trace(func):\n",
    "    def wrapper():\n",
    "        print(func.__name__, '함수시작')\n",
    "        func()\n",
    "        print(func.__name__, '함수끝')\n",
    "    return wrapper\n",
    "        \n",
    "def hello():\n",
    "    print('hello')\n",
    "    \n",
    "def world():\n",
    "    print('world')\n",
    "    \n",
    "trace_hello = trace(hello)\n",
    "trace_hello()\n",
    "trace_world = trace(world)\n",
    "trace_world()"
   ]
  },
  {
   "cell_type": "code",
   "execution_count": 7,
   "metadata": {},
   "outputs": [
    {
     "name": "stdout",
     "output_type": "stream",
     "text": [
      "hello 함수시작\n",
      "hello\n",
      "hello 함수끝\n",
      "world 함수시작\n",
      "world\n",
      "world 함수끝\n"
     ]
    }
   ],
   "source": [
    "def trace(func):\n",
    "    def wrapper():\n",
    "        print(func.__name__, '함수시작')\n",
    "        func()\n",
    "        print(func.__name__, '함수끝')\n",
    "    return wrapper\n",
    "\n",
    "@trace\n",
    "def hello():\n",
    "    print('hello')\n",
    "\n",
    "@trace\n",
    "def world():\n",
    "    print('world')\n",
    "    \n",
    "hello()\n",
    "world()"
   ]
  },
  {
   "cell_type": "code",
   "execution_count": 8,
   "metadata": {},
   "outputs": [
    {
     "name": "stdout",
     "output_type": "stream",
     "text": [
      "add(a=10, b=20) -> 30\n",
      "30\n"
     ]
    }
   ],
   "source": [
    "def trace(func):\n",
    "    def wrapper(a,b):\n",
    "        r = func(a,b)\n",
    "        print('{0}(a={1}, b={2}) -> {3}'.format(func.__name__, a,b,r))\n",
    "        return r\n",
    "    return wrapper\n",
    "\n",
    "@trace\n",
    "def add(a,b):\n",
    "    return a+b\n",
    "\n",
    "print(add(10,20))"
   ]
  },
  {
   "cell_type": "code",
   "execution_count": 10,
   "metadata": {},
   "outputs": [
    {
     "name": "stdout",
     "output_type": "stream",
     "text": [
      "get_max(args=(10, 20), kwargs{}) -> 20\n",
      "20\n",
      "get_min(args=(), kwargs{'x': 10, 'y': 20, 'z': 30}) -> 10\n",
      "10\n"
     ]
    }
   ],
   "source": [
    "def trace(func):\n",
    "    def wrapper(*args, **kwargs):\n",
    "        r = func(*args, **kwargs)\n",
    "        print('{0}(args={1}, kwargs{2}) -> {3}'.format(func.__name__, args, kwargs, r))\n",
    "        return r\n",
    "    return wrapper\n",
    "\n",
    "@trace\n",
    "def get_max(*args):\n",
    "    return max(args)\n",
    "\n",
    "@trace\n",
    "def get_min(**kwargs):\n",
    "    return min(kwargs.values())\n",
    "\n",
    "print(get_max(10,20))\n",
    "print(get_min(x=10, y=20, z=30))"
   ]
  },
  {
   "cell_type": "code",
   "execution_count": null,
   "metadata": {},
   "outputs": [],
   "source": []
  }
 ],
 "metadata": {
  "kernelspec": {
   "display_name": "Python 3",
   "language": "python",
   "name": "python3"
  },
  "language_info": {
   "codemirror_mode": {
    "name": "ipython",
    "version": 3
   },
   "file_extension": ".py",
   "mimetype": "text/x-python",
   "name": "python",
   "nbconvert_exporter": "python",
   "pygments_lexer": "ipython3",
   "version": "3.6.9"
  }
 },
 "nbformat": 4,
 "nbformat_minor": 2
}
