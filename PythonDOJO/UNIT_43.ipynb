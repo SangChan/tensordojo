{
 "cells": [
  {
   "cell_type": "code",
   "execution_count": 2,
   "metadata": {},
   "outputs": [
    {
     "name": "stdout",
     "output_type": "stream",
     "text": [
      "True True True True True False False False "
     ]
    }
   ],
   "source": [
    "import re\n",
    "\n",
    "p = re.compile('^[a-zA-Z0-9+-_.]+@[a-zA-Z0-9-]+\\.[a-zA-z0-9-.]+$')\n",
    "\n",
    "emails = [\n",
    "    'python@mail.example.com',\n",
    "    'python+kr@example.com',\n",
    "    'python-dojang@example.co.kr',\n",
    "    'python_10@example.info',\n",
    "    'python.dojang@e-xample.com',\n",
    "    '@example.com',\n",
    "    'python@example',\n",
    "    'python@example-com'\n",
    "]\n",
    "\n",
    "for email in emails:\n",
    "    print(p.match(email) != None, end = ' ')"
   ]
  },
  {
   "cell_type": "code",
   "execution_count": null,
   "metadata": {},
   "outputs": [],
   "source": []
  }
 ],
 "metadata": {
  "kernelspec": {
   "display_name": "Python 3",
   "language": "python",
   "name": "python3"
  },
  "language_info": {
   "codemirror_mode": {
    "name": "ipython",
    "version": 3
   },
   "file_extension": ".py",
   "mimetype": "text/x-python",
   "name": "python",
   "nbconvert_exporter": "python",
   "pygments_lexer": "ipython3",
   "version": "3.6.9"
  }
 },
 "nbformat": 4,
 "nbformat_minor": 2
}
