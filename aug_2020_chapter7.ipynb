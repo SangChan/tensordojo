{
 "cells": [
  {
   "cell_type": "code",
   "execution_count": 2,
   "metadata": {},
   "outputs": [],
   "source": [
    "import tensorflow as tf\n",
    "import numpy as np"
   ]
  },
  {
   "cell_type": "code",
   "execution_count": 3,
   "metadata": {},
   "outputs": [],
   "source": [
    "# 7.1 SimpleRNN 레이어 생성 코드\n",
    "rnn1 = tf.keras.layers.SimpleRNN(units=1, activation='tanh', return_sequences=True)"
   ]
  },
  {
   "cell_type": "code",
   "execution_count": 4,
   "metadata": {},
   "outputs": [
    {
     "name": "stdout",
     "output_type": "stream",
     "text": [
      "[[0. ]\n",
      " [0.1]\n",
      " [0.2]\n",
      " [0.3]] 0.4\n",
      "[[0.1]\n",
      " [0.2]\n",
      " [0.3]\n",
      " [0.4]] 0.5\n",
      "[[0.2]\n",
      " [0.3]\n",
      " [0.4]\n",
      " [0.5]] 0.6\n",
      "[[0.3]\n",
      " [0.4]\n",
      " [0.5]\n",
      " [0.6]] 0.7\n",
      "[[0.4]\n",
      " [0.5]\n",
      " [0.6]\n",
      " [0.7]] 0.8\n",
      "[[0.5]\n",
      " [0.6]\n",
      " [0.7]\n",
      " [0.8]] 0.9\n"
     ]
    }
   ],
   "source": [
    "# 7.2 시퀀스 예측 데이터 생성\n",
    "X = []\n",
    "Y = []\n",
    "for i in range(6):\n",
    "    # [0,1,2,3], [1,2,3,4] 같은 정수의 시퀀스를 만듭니다.\n",
    "    lst = list(range(i,i+4))\n",
    "\n",
    "    # 위에서 구한 시퀀스의 숫자들을 각각 10으로 나눈 다음 저장합니다.\n",
    "    # SimpleRNN 에 각 타임스텝에 하나씩 숫자가 들어가기 때문에 여기서도 하나씩 분리해서 배열에 저장합니다.\n",
    "    X.append(list(map(lambda c: [c/10], lst)))\n",
    "\n",
    "    # 정답에 해당하는 4, 5 등의 정수를 역시 위처럼 10으로 나눠서 저장합니다.\n",
    "    Y.append((i+4)/10)\n",
    "    \n",
    "X = np.array(X)\n",
    "Y = np.array(Y)\n",
    "for i in range(len(X)):\n",
    "    print(X[i], Y[i])"
   ]
  },
  {
   "cell_type": "code",
   "execution_count": 5,
   "metadata": {},
   "outputs": [
    {
     "name": "stdout",
     "output_type": "stream",
     "text": [
      "Model: \"sequential\"\n",
      "_________________________________________________________________\n",
      "Layer (type)                 Output Shape              Param #   \n",
      "=================================================================\n",
      "simple_rnn_1 (SimpleRNN)     (None, 10)                120       \n",
      "_________________________________________________________________\n",
      "dense (Dense)                (None, 1)                 11        \n",
      "=================================================================\n",
      "Total params: 131\n",
      "Trainable params: 131\n",
      "Non-trainable params: 0\n",
      "_________________________________________________________________\n"
     ]
    }
   ],
   "source": [
    "# 7.3 시퀀스 예측 모델 정의\n",
    "model = tf.keras.Sequential([\n",
    "    tf.keras.layers.SimpleRNN(units=10, return_sequences=False, input_shape=[4,1]),\n",
    "    tf.keras.layers.Dense(1)\n",
    "])\n",
    "\n",
    "model.compile(optimizer='adam', loss='mse')\n",
    "model.summary()"
   ]
  },
  {
   "cell_type": "code",
   "execution_count": 6,
   "metadata": {},
   "outputs": [
    {
     "name": "stdout",
     "output_type": "stream",
     "text": [
      "[[0.3495787 ]\n",
      " [0.5264076 ]\n",
      " [0.65786314]\n",
      " [0.74338144]\n",
      " [0.788827  ]\n",
      " [0.8022073 ]]\n"
     ]
    }
   ],
   "source": [
    "# 7.4 네트워크 훈련 및 결과 확인\n",
    "model.fit(X, Y, epochs=100, verbose=0)\n",
    "print(model.predict(X))"
   ]
  },
  {
   "cell_type": "code",
   "execution_count": 7,
   "metadata": {},
   "outputs": [
    {
     "name": "stdout",
     "output_type": "stream",
     "text": [
      "[[0.7912071]]\n",
      "[[0.13882202]]\n"
     ]
    }
   ],
   "source": [
    "# 7.5 학습되지 않은 시퀀스에 대한 예측 결과\n",
    "print(model.predict(np.array([[[0.6],[0.7],[0.8],[0.9]]])))\n",
    "print(model.predict(np.array([[[-0.1],[0.0],[0.1],[0.2]]])))"
   ]
  },
  {
   "cell_type": "code",
   "execution_count": 8,
   "metadata": {},
   "outputs": [
    {
     "name": "stdout",
     "output_type": "stream",
     "text": [
      "[[0.         0.46567689]\n",
      " [0.         0.84158534]\n",
      " [0.         0.69936495]\n",
      " [0.         0.24653426]\n",
      " [0.         0.66962343]\n",
      " [0.         0.83667793]\n",
      " [0.         0.34365394]\n",
      " [0.         0.09529412]\n",
      " [0.         0.21820448]\n",
      " [0.         0.81843304]\n",
      " [0.         0.65574531]\n",
      " [0.         0.07641501]\n",
      " [0.         0.78145247]\n",
      " [0.         0.66000605]\n",
      " [0.         0.99245126]\n",
      " [0.         0.88901471]\n",
      " [0.         0.42037093]\n",
      " [0.         0.6358847 ]\n",
      " [0.         0.80034558]\n",
      " [0.         0.6620595 ]\n",
      " [0.         0.36448852]\n",
      " [0.         0.0146234 ]\n",
      " [0.         0.89012541]\n",
      " [0.         0.24552949]\n",
      " [0.         0.79616374]\n",
      " [0.         0.36033974]\n",
      " [0.         0.39802097]\n",
      " [0.         0.60450572]\n",
      " [0.         0.53244548]\n",
      " [0.         0.39785162]\n",
      " [0.         0.56928637]\n",
      " [0.         0.15156371]\n",
      " [0.         0.16779198]\n",
      " [0.         0.88984759]\n",
      " [0.         0.42102233]\n",
      " [0.         0.91127513]\n",
      " [0.         0.47919177]\n",
      " [0.         0.18959286]\n",
      " [0.         0.9806504 ]\n",
      " [0.         0.70155338]\n",
      " [0.         0.99190264]\n",
      " [0.         0.08647897]\n",
      " [0.         0.89521865]\n",
      " [0.         0.87873083]\n",
      " [0.         0.45039662]\n",
      " [0.         0.06726034]\n",
      " [0.         0.11506618]\n",
      " [0.         0.47307308]\n",
      " [0.         0.06432409]\n",
      " [0.         0.44087193]\n",
      " [0.         0.71177259]\n",
      " [0.         0.32940641]\n",
      " [0.         0.01935823]\n",
      " [0.         0.01998311]\n",
      " [0.         0.31873359]\n",
      " [0.         0.55199613]\n",
      " [0.         0.0791386 ]\n",
      " [0.         0.83471274]\n",
      " [0.         0.04788976]\n",
      " [0.         0.59869546]\n",
      " [0.         0.87416253]\n",
      " [0.         0.75013533]\n",
      " [0.         0.76697509]\n",
      " [0.         0.46113443]\n",
      " [0.         0.7656576 ]\n",
      " [0.         0.38574123]\n",
      " [0.         0.92465335]\n",
      " [0.         0.05454146]\n",
      " [0.         0.78361325]\n",
      " [0.         0.48166334]\n",
      " [0.         0.33264399]\n",
      " [0.         0.25986187]\n",
      " [0.         0.82318782]\n",
      " [0.         0.67416647]\n",
      " [1.         0.957155  ]\n",
      " [0.         0.11564927]\n",
      " [0.         0.4519217 ]\n",
      " [0.         0.98283362]\n",
      " [0.         0.85733727]\n",
      " [0.         0.42884856]\n",
      " [0.         0.5230333 ]\n",
      " [0.         0.7141237 ]\n",
      " [1.         0.17356448]\n",
      " [0.         0.30573826]\n",
      " [0.         0.35113362]\n",
      " [0.         0.82957178]\n",
      " [0.         0.73547616]\n",
      " [0.         0.02474997]\n",
      " [0.         0.67026204]\n",
      " [0.         0.62815963]\n",
      " [0.         0.97809841]\n",
      " [0.         0.49256207]\n",
      " [0.         0.16707958]\n",
      " [0.         0.19269694]\n",
      " [0.         0.36202581]\n",
      " [0.         0.05701993]\n",
      " [0.         0.28601885]\n",
      " [0.         0.30816588]\n",
      " [0.         0.12259621]\n",
      " [0.         0.97973095]] 0.16612811030245386\n"
     ]
    }
   ],
   "source": [
    "# 7.6 곱셈 문제 데이터 생성\n",
    "X = []\n",
    "Y = []\n",
    "for i in range(3000):\n",
    "    # 0~1 사이의 랜덤한 숫자 100 개를 만듭니다.\n",
    "    lst = np.random.rand(100)\n",
    "    # 마킹할 숫자 2개의 인덱스를 뽑습니다.\n",
    "    idx = np.random.choice(100, 2, replace=False)\n",
    "    # 마킹 인덱스가 저장된 원-핫 인코딩 벡터를 만듭니다.\n",
    "    zeros = np.zeros(100)\n",
    "    zeros[idx] = 1\n",
    "    # 마킹 인덱스와 랜덤한 숫자를 합쳐서 X 에 저장합니다.\n",
    "    X.append(np.array(list(zip(zeros, lst))))\n",
    "    # 마킹 인덱스가 1인 값들만 서로 곱해서 Y 에 저장합니다.\n",
    "    Y.append(np.prod(lst[idx]))\n",
    "    \n",
    "print(X[0], Y[0])"
   ]
  },
  {
   "cell_type": "code",
   "execution_count": 9,
   "metadata": {},
   "outputs": [
    {
     "name": "stdout",
     "output_type": "stream",
     "text": [
      "Model: \"sequential_1\"\n",
      "_________________________________________________________________\n",
      "Layer (type)                 Output Shape              Param #   \n",
      "=================================================================\n",
      "simple_rnn_2 (SimpleRNN)     (None, 100, 30)           990       \n",
      "_________________________________________________________________\n",
      "simple_rnn_3 (SimpleRNN)     (None, 30)                1830      \n",
      "_________________________________________________________________\n",
      "dense_1 (Dense)              (None, 1)                 31        \n",
      "=================================================================\n",
      "Total params: 2,851\n",
      "Trainable params: 2,851\n",
      "Non-trainable params: 0\n",
      "_________________________________________________________________\n"
     ]
    }
   ],
   "source": [
    "# 7.7 SimpleRNN 레이어를 사용한 곱셈 문제 모델 정의\n",
    "model = tf.keras.Sequential([\n",
    "    tf.keras.layers.SimpleRNN(units=30, return_sequences=True, input_shape=[100,2]),\n",
    "    tf.keras.layers.SimpleRNN(units=30),\n",
    "    tf.keras.layers.Dense(1)\n",
    "])\n",
    "\n",
    "model.compile(optimizer='adam', loss='mse')\n",
    "model.summary()"
   ]
  },
  {
   "cell_type": "code",
   "execution_count": 10,
   "metadata": {},
   "outputs": [
    {
     "name": "stdout",
     "output_type": "stream",
     "text": [
      "Train on 2048 samples, validate on 512 samples\n",
      "Epoch 1/100\n",
      "2048/2048 [==============================] - 10s 5ms/sample - loss: 0.0701 - val_loss: 0.0508\n",
      "Epoch 2/100\n",
      "2048/2048 [==============================] - 5s 3ms/sample - loss: 0.0488 - val_loss: 0.0496\n",
      "Epoch 3/100\n",
      "2048/2048 [==============================] - 6s 3ms/sample - loss: 0.0469 - val_loss: 0.0493\n",
      "Epoch 4/100\n",
      "2048/2048 [==============================] - 6s 3ms/sample - loss: 0.0512 - val_loss: 0.0487\n",
      "Epoch 5/100\n",
      "2048/2048 [==============================] - 6s 3ms/sample - loss: 0.0473 - val_loss: 0.0486\n",
      "Epoch 6/100\n",
      "2048/2048 [==============================] - 6s 3ms/sample - loss: 0.0479 - val_loss: 0.0487\n",
      "Epoch 7/100\n",
      "2048/2048 [==============================] - 6s 3ms/sample - loss: 0.0475 - val_loss: 0.0485\n",
      "Epoch 8/100\n",
      "2048/2048 [==============================] - 6s 3ms/sample - loss: 0.0470 - val_loss: 0.0511\n",
      "Epoch 9/100\n",
      "2048/2048 [==============================] - 6s 3ms/sample - loss: 0.0485 - val_loss: 0.0521\n",
      "Epoch 10/100\n",
      "2048/2048 [==============================] - 6s 3ms/sample - loss: 0.0475 - val_loss: 0.0483\n",
      "Epoch 11/100\n",
      "2048/2048 [==============================] - 6s 3ms/sample - loss: 0.0465 - val_loss: 0.0482\n",
      "Epoch 12/100\n",
      "2048/2048 [==============================] - 6s 3ms/sample - loss: 0.0473 - val_loss: 0.0485\n",
      "Epoch 13/100\n",
      "2048/2048 [==============================] - 6s 3ms/sample - loss: 0.0470 - val_loss: 0.0486\n",
      "Epoch 14/100\n",
      "2048/2048 [==============================] - 6s 3ms/sample - loss: 0.0465 - val_loss: 0.0486\n",
      "Epoch 15/100\n",
      "2048/2048 [==============================] - 6s 3ms/sample - loss: 0.0468 - val_loss: 0.0487\n",
      "Epoch 16/100\n",
      "2048/2048 [==============================] - 6s 3ms/sample - loss: 0.0463 - val_loss: 0.0493\n",
      "Epoch 17/100\n",
      "2048/2048 [==============================] - 6s 3ms/sample - loss: 0.0459 - val_loss: 0.0490\n",
      "Epoch 18/100\n",
      "2048/2048 [==============================] - 6s 3ms/sample - loss: 0.0466 - val_loss: 0.0486\n",
      "Epoch 19/100\n",
      "2048/2048 [==============================] - 6s 3ms/sample - loss: 0.0462 - val_loss: 0.0499\n",
      "Epoch 20/100\n",
      "2048/2048 [==============================] - 6s 3ms/sample - loss: 0.0461 - val_loss: 0.0482\n",
      "Epoch 21/100\n",
      "2048/2048 [==============================] - 6s 3ms/sample - loss: 0.0459 - val_loss: 0.0494\n",
      "Epoch 22/100\n",
      "2048/2048 [==============================] - 6s 3ms/sample - loss: 0.0459 - val_loss: 0.0494\n",
      "Epoch 23/100\n",
      "2048/2048 [==============================] - 6s 3ms/sample - loss: 0.0457 - val_loss: 0.0512\n",
      "Epoch 24/100\n",
      "2048/2048 [==============================] - 6s 3ms/sample - loss: 0.0457 - val_loss: 0.0489\n",
      "Epoch 25/100\n",
      "2048/2048 [==============================] - 6s 3ms/sample - loss: 0.0461 - val_loss: 0.0486\n",
      "Epoch 26/100\n",
      "2048/2048 [==============================] - 6s 3ms/sample - loss: 0.0460 - val_loss: 0.0485\n",
      "Epoch 27/100\n",
      "2048/2048 [==============================] - 6s 3ms/sample - loss: 0.0459 - val_loss: 0.0497\n",
      "Epoch 28/100\n",
      "2048/2048 [==============================] - 6s 3ms/sample - loss: 0.0454 - val_loss: 0.0488\n",
      "Epoch 29/100\n",
      "2048/2048 [==============================] - 6s 3ms/sample - loss: 0.0454 - val_loss: 0.0498\n",
      "Epoch 30/100\n",
      "2048/2048 [==============================] - 6s 3ms/sample - loss: 0.0453 - val_loss: 0.0503\n",
      "Epoch 31/100\n",
      "2048/2048 [==============================] - 6s 3ms/sample - loss: 0.0445 - val_loss: 0.0499\n",
      "Epoch 32/100\n",
      "2048/2048 [==============================] - 6s 3ms/sample - loss: 0.0450 - val_loss: 0.0515\n",
      "Epoch 33/100\n",
      "2048/2048 [==============================] - 6s 3ms/sample - loss: 0.0445 - val_loss: 0.0542\n",
      "Epoch 34/100\n",
      "2048/2048 [==============================] - 6s 3ms/sample - loss: 0.0443 - val_loss: 0.0494\n",
      "Epoch 35/100\n",
      "2048/2048 [==============================] - 6s 3ms/sample - loss: 0.0455 - val_loss: 0.0558\n",
      "Epoch 36/100\n",
      "2048/2048 [==============================] - 6s 3ms/sample - loss: 0.0445 - val_loss: 0.0506\n",
      "Epoch 37/100\n",
      "2048/2048 [==============================] - 6s 3ms/sample - loss: 0.0444 - val_loss: 0.0515\n",
      "Epoch 38/100\n",
      "2048/2048 [==============================] - 6s 3ms/sample - loss: 0.0440 - val_loss: 0.0518\n",
      "Epoch 39/100\n",
      "2048/2048 [==============================] - 6s 3ms/sample - loss: 0.0438 - val_loss: 0.0551\n",
      "Epoch 40/100\n",
      "2048/2048 [==============================] - 6s 3ms/sample - loss: 0.0440 - val_loss: 0.0533\n",
      "Epoch 41/100\n",
      "2048/2048 [==============================] - 6s 3ms/sample - loss: 0.0429 - val_loss: 0.0536\n",
      "Epoch 42/100\n",
      "2048/2048 [==============================] - 6s 3ms/sample - loss: 0.0432 - val_loss: 0.0524\n",
      "Epoch 43/100\n",
      "2048/2048 [==============================] - 6s 3ms/sample - loss: 0.0440 - val_loss: 0.0532\n",
      "Epoch 44/100\n",
      "2048/2048 [==============================] - 6s 3ms/sample - loss: 0.0432 - val_loss: 0.0614\n",
      "Epoch 45/100\n",
      "2048/2048 [==============================] - 6s 3ms/sample - loss: 0.0439 - val_loss: 0.0535\n",
      "Epoch 46/100\n",
      "2048/2048 [==============================] - 6s 3ms/sample - loss: 0.0432 - val_loss: 0.0527\n",
      "Epoch 47/100\n",
      "2048/2048 [==============================] - 6s 3ms/sample - loss: 0.0433 - val_loss: 0.0540\n",
      "Epoch 48/100\n",
      "2048/2048 [==============================] - 6s 3ms/sample - loss: 0.0423 - val_loss: 0.0587\n",
      "Epoch 49/100\n",
      "2048/2048 [==============================] - 6s 3ms/sample - loss: 0.0423 - val_loss: 0.0543\n",
      "Epoch 50/100\n",
      "2048/2048 [==============================] - 6s 3ms/sample - loss: 0.0427 - val_loss: 0.0533\n",
      "Epoch 51/100\n",
      "2048/2048 [==============================] - 6s 3ms/sample - loss: 0.0420 - val_loss: 0.0554\n",
      "Epoch 52/100\n",
      "2048/2048 [==============================] - 6s 3ms/sample - loss: 0.0418 - val_loss: 0.0564\n",
      "Epoch 53/100\n",
      "2048/2048 [==============================] - 6s 3ms/sample - loss: 0.0412 - val_loss: 0.0556\n",
      "Epoch 54/100\n",
      "2048/2048 [==============================] - 6s 3ms/sample - loss: 0.0412 - val_loss: 0.0538\n",
      "Epoch 55/100\n",
      "2048/2048 [==============================] - 6s 3ms/sample - loss: 0.0413 - val_loss: 0.0603\n",
      "Epoch 56/100\n",
      "2048/2048 [==============================] - 6s 3ms/sample - loss: 0.0414 - val_loss: 0.0540\n",
      "Epoch 57/100\n",
      "2048/2048 [==============================] - 6s 3ms/sample - loss: 0.0415 - val_loss: 0.0599\n",
      "Epoch 58/100\n",
      "2048/2048 [==============================] - 6s 3ms/sample - loss: 0.0407 - val_loss: 0.0531\n",
      "Epoch 59/100\n",
      "2048/2048 [==============================] - 6s 3ms/sample - loss: 0.0399 - val_loss: 0.0567\n",
      "Epoch 60/100\n",
      "2048/2048 [==============================] - 6s 3ms/sample - loss: 0.0404 - val_loss: 0.0548\n",
      "Epoch 61/100\n",
      "2048/2048 [==============================] - 6s 3ms/sample - loss: 0.0393 - val_loss: 0.0576\n",
      "Epoch 62/100\n",
      "2048/2048 [==============================] - 6s 3ms/sample - loss: 0.0394 - val_loss: 0.0537\n",
      "Epoch 63/100\n",
      "2048/2048 [==============================] - 6s 3ms/sample - loss: 0.0385 - val_loss: 0.0548\n",
      "Epoch 64/100\n",
      "2048/2048 [==============================] - 6s 3ms/sample - loss: 0.0384 - val_loss: 0.0573\n",
      "Epoch 65/100\n",
      "2048/2048 [==============================] - 6s 3ms/sample - loss: 0.0377 - val_loss: 0.0558\n",
      "Epoch 66/100\n",
      "2048/2048 [==============================] - 6s 3ms/sample - loss: 0.0381 - val_loss: 0.0572\n",
      "Epoch 67/100\n",
      "2048/2048 [==============================] - 6s 3ms/sample - loss: 0.0383 - val_loss: 0.0593\n",
      "Epoch 68/100\n",
      "2048/2048 [==============================] - 6s 3ms/sample - loss: 0.0393 - val_loss: 0.0564\n",
      "Epoch 69/100\n",
      "2048/2048 [==============================] - 6s 3ms/sample - loss: 0.0380 - val_loss: 0.0617\n",
      "Epoch 70/100\n",
      "2048/2048 [==============================] - 6s 3ms/sample - loss: 0.0373 - val_loss: 0.0583\n",
      "Epoch 71/100\n",
      "2048/2048 [==============================] - 6s 3ms/sample - loss: 0.0363 - val_loss: 0.0595\n",
      "Epoch 72/100\n",
      "2048/2048 [==============================] - 6s 3ms/sample - loss: 0.0372 - val_loss: 0.0578\n",
      "Epoch 73/100\n",
      "2048/2048 [==============================] - 6s 3ms/sample - loss: 0.0365 - val_loss: 0.0551\n",
      "Epoch 74/100\n",
      "2048/2048 [==============================] - 6s 3ms/sample - loss: 0.0362 - val_loss: 0.0578\n",
      "Epoch 75/100\n",
      "2048/2048 [==============================] - 6s 3ms/sample - loss: 0.0365 - val_loss: 0.0583\n",
      "Epoch 76/100\n",
      "2048/2048 [==============================] - 6s 3ms/sample - loss: 0.0353 - val_loss: 0.0591\n",
      "Epoch 77/100\n",
      "2048/2048 [==============================] - 6s 3ms/sample - loss: 0.0356 - val_loss: 0.0600\n"
     ]
    },
    {
     "name": "stdout",
     "output_type": "stream",
     "text": [
      "Epoch 78/100\n",
      "2048/2048 [==============================] - 6s 3ms/sample - loss: 0.0352 - val_loss: 0.0594\n",
      "Epoch 79/100\n",
      "2048/2048 [==============================] - 6s 3ms/sample - loss: 0.0354 - val_loss: 0.0577\n",
      "Epoch 80/100\n",
      "2048/2048 [==============================] - 6s 3ms/sample - loss: 0.0342 - val_loss: 0.0619\n",
      "Epoch 81/100\n",
      "2048/2048 [==============================] - 6s 3ms/sample - loss: 0.0346 - val_loss: 0.0600\n",
      "Epoch 82/100\n",
      "2048/2048 [==============================] - 6s 3ms/sample - loss: 0.0343 - val_loss: 0.0647\n",
      "Epoch 83/100\n",
      "2048/2048 [==============================] - 6s 3ms/sample - loss: 0.0345 - val_loss: 0.0597\n",
      "Epoch 84/100\n",
      "2048/2048 [==============================] - 6s 3ms/sample - loss: 0.0332 - val_loss: 0.0605\n",
      "Epoch 85/100\n",
      "2048/2048 [==============================] - 6s 3ms/sample - loss: 0.0328 - val_loss: 0.0618\n",
      "Epoch 86/100\n",
      "2048/2048 [==============================] - 6s 3ms/sample - loss: 0.0331 - val_loss: 0.0632\n",
      "Epoch 87/100\n",
      "2048/2048 [==============================] - 6s 3ms/sample - loss: 0.0339 - val_loss: 0.0635\n",
      "Epoch 88/100\n",
      "2048/2048 [==============================] - 6s 3ms/sample - loss: 0.0330 - val_loss: 0.0578\n",
      "Epoch 89/100\n",
      "2048/2048 [==============================] - 6s 3ms/sample - loss: 0.0323 - val_loss: 0.0597\n",
      "Epoch 90/100\n",
      "2048/2048 [==============================] - 6s 3ms/sample - loss: 0.0331 - val_loss: 0.0633\n",
      "Epoch 91/100\n",
      "2048/2048 [==============================] - 6s 3ms/sample - loss: 0.0323 - val_loss: 0.0685\n",
      "Epoch 92/100\n",
      "2048/2048 [==============================] - 6s 3ms/sample - loss: 0.0323 - val_loss: 0.0627\n",
      "Epoch 93/100\n",
      "2048/2048 [==============================] - 6s 3ms/sample - loss: 0.0314 - val_loss: 0.0624\n",
      "Epoch 94/100\n",
      "2048/2048 [==============================] - 6s 3ms/sample - loss: 0.0313 - val_loss: 0.0640\n",
      "Epoch 95/100\n",
      "2048/2048 [==============================] - 6s 3ms/sample - loss: 0.0305 - val_loss: 0.0646\n",
      "Epoch 96/100\n",
      "2048/2048 [==============================] - 6s 3ms/sample - loss: 0.0306 - val_loss: 0.0644\n",
      "Epoch 97/100\n",
      "2048/2048 [==============================] - 6s 3ms/sample - loss: 0.0314 - val_loss: 0.0612\n",
      "Epoch 98/100\n",
      "2048/2048 [==============================] - 6s 3ms/sample - loss: 0.0294 - val_loss: 0.0677\n",
      "Epoch 99/100\n",
      "2048/2048 [==============================] - 6s 3ms/sample - loss: 0.0298 - val_loss: 0.0671\n",
      "Epoch 100/100\n",
      "2048/2048 [==============================] - 6s 3ms/sample - loss: 0.0295 - val_loss: 0.0677\n"
     ]
    }
   ],
   "source": [
    "# 7.8 SimpleRNN 네트워크 학습\n",
    "X = np.array(X)\n",
    "Y = np.array(Y)\n",
    "# 2560개의 데이터만 학습시킵니다. validation 데이터는 20% 로 지정합니다.\n",
    "history = model.fit(X[:2560], Y[:2560], epochs=100, validation_split=0.2)"
   ]
  },
  {
   "cell_type": "code",
   "execution_count": 12,
   "metadata": {},
   "outputs": [
    {
     "data": {
      "image/png": "[encoded data removed]",
      "text/plain": [
       "<Figure size 432x288 with 1 Axes>"
      ]
     },
     "metadata": {
      "needs_background": "light"
     },
     "output_type": "display_data"
    }
   ],
   "source": [
    "# 7.9 SimpleRNN 네트워크 학습 결과 확인\n",
    "import matplotlib.pyplot as plt\n",
    "plt.plot(history.history['loss'], 'b-', label='loss')\n",
    "plt.plot(history.history['val_loss'], 'r--', label='val_loss')\n",
    "plt.xlabel('Epoch')\n",
    "plt.legend()\n",
    "plt.show()"
   ]
  },
  {
   "cell_type": "code",
   "execution_count": 13,
   "metadata": {},
   "outputs": [
    {
     "name": "stdout",
     "output_type": "stream",
     "text": [
      "\r",
      "440/1 [================================================================================================================================================================================================================================================================================================================================================================================================================================================================================================================================================================================================================================================================================================================================================================================================================================================================================================================================================================================================================================================================================================================================================================================================================================================================================================================================================================================================================================================================================================================================================================================================================================================================================================================================================================================================================================================================================================================================================================================================================================================================================================================================================================================================================================================================================================================================================================================================================================================================================================================================================================================================================================================================================================================================================================================================================================================================================================================================================================================================================================================================================================================================================================================================================================================================================================================================================================================================================================================================================================================================================================================================================================================================================================================================================================================================================================================================================================================================================================================================================================================================================================================================================================================================================================================================================================================================================================================================================================================================================================================================================================================================================================================================================================================================================================================================================================================================================================================================================================================================================================================================================================================================================================================================================================================================================================================================================================================================================================================================================================================================================================================================================================================================================================================================================================================================================================================================================================================================================================================================================================================================================================================================================================================================================================================================================================================================================================================================================================================================================================================================================================================================================================================================================================================================================================================================================================================================================================================================================================================================================================================================================================================================================================================================================================================================================================================================================================================================================================================================================================================================================================================================================================================================================================================================================================================================================================================================================================================================================================================================================================================================================================================================================================================================================================================================================================================================================================================================================================================================================================================================================================================================================================================================================================================================================================================================================================================================================================================================================================================================================================================================================================================================================================================================================================================================================================================================================================================================================================================================================================================================================================================================================================================================================================================================================================================================================================================================================================================================================================================================================================================================================================================================================================================================================================================================================================================================================================================================================================================================================================================================================================================================================================================================================================================================================================================================================================================================================================================================================================================================================================================================================================================================================================================================================================================================================================================================================================================================================================================================================================================================================================================================================================================================================================================================================================================================================================================================================================================================================================================================================================================================================================================================================================================================================================================================================================================================================================================================================================================================================================================================================================================================================================================================================================================================================================================================================================================================================================================================================================================================================================================================================================================================================================================================================================================================================================================================================================================================================================================================================================================================================================================================================================================================================================================================================] - 1s 2ms/sample - loss: 0.0583\n"
     ]
    },
    {
     "name": "stdout",
     "output_type": "stream",
     "text": [
      "0.24063509116083537 \t 0.42730445 \tdiff: 0.18666935553639974\n",
      "0.026515383796123372 \t 0.40212587 \tdiff: 0.37561048142490017\n",
      "0.027100423012126576 \t 0.29355055 \tdiff: 0.266450127925526\n",
      "0.11589036024179875 \t 0.28220505 \tdiff: 0.16631468498143734\n",
      "0.36309363378480697 \t 0.19267161 \tdiff: 0.170422021879709\n",
      "correctness: 9.318181818181818 %\n"
     ]
    }
   ],
   "source": [
    "# 7.10 Test 데이터에 대한 예측 정확도 확인\n",
    "model.evaluate(X[2560:], Y[2560:])\n",
    "prediction = model.predict(X[2560:2560+5])\n",
    "# 5개 테스트 데이터에 대한 예측을 표시합니다.\n",
    "for i in range(5):\n",
    "    print(Y[2560+i], '\\t', prediction[i][0], '\\tdiff:', abs(prediction[i][0] - Y[2560+i]))\n",
    "    \n",
    "prediction = model.predict(X[2560:])\n",
    "fail = 0\n",
    "for i in range(len(prediction)):\n",
    "    # 오차가 0.04 이상이면 오답입니다.\n",
    "    if abs(prediction[i][0] - Y[2560+i]) > 0.04:\n",
    "        fail += 1\n",
    "print('correctness:', (440 - fail) / 440 * 100, '%')"
   ]
  },
  {
   "cell_type": "code",
   "execution_count": 14,
   "metadata": {},
   "outputs": [
    {
     "name": "stdout",
     "output_type": "stream",
     "text": [
      "Model: \"sequential_2\"\n",
      "_________________________________________________________________\n",
      "Layer (type)                 Output Shape              Param #   \n",
      "=================================================================\n",
      "lstm (LSTM)                  (None, 100, 30)           3960      \n",
      "_________________________________________________________________\n",
      "lstm_1 (LSTM)                (None, 30)                7320      \n",
      "_________________________________________________________________\n",
      "dense_2 (Dense)              (None, 1)                 31        \n",
      "=================================================================\n",
      "Total params: 11,311\n",
      "Trainable params: 11,311\n",
      "Non-trainable params: 0\n",
      "_________________________________________________________________\n"
     ]
    }
   ],
   "source": [
    "# 7.11 LSTM 레이어를 사용한 곱셈 문제 모델 정의\n",
    "model = tf.keras.Sequential([\n",
    "    tf.keras.layers.LSTM(units=30, return_sequences=True, input_shape=[100,2]),\n",
    "    tf.keras.layers.LSTM(units=30),\n",
    "    tf.keras.layers.Dense(1)\n",
    "])\n",
    "\n",
    "model.compile(optimizer='adam', loss='mse')\n",
    "model.summary()"
   ]
  },
  {
   "cell_type": "code",
   "execution_count": 15,
   "metadata": {},
   "outputs": [
    {
     "name": "stdout",
     "output_type": "stream",
     "text": [
      "Train on 2048 samples, validate on 512 samples\n",
      "Epoch 1/100\n",
      "2048/2048 [==============================] - 26s 13ms/sample - loss: 0.0518 - val_loss: 0.0484\n",
      "Epoch 2/100\n",
      "2048/2048 [==============================] - 16s 8ms/sample - loss: 0.0464 - val_loss: 0.0481\n",
      "Epoch 3/100\n",
      "2048/2048 [==============================] - 16s 8ms/sample - loss: 0.0464 - val_loss: 0.0480\n",
      "Epoch 4/100\n",
      "2048/2048 [==============================] - 16s 8ms/sample - loss: 0.0465 - val_loss: 0.0483\n",
      "Epoch 5/100\n",
      "2048/2048 [==============================] - 16s 8ms/sample - loss: 0.0465 - val_loss: 0.0482\n",
      "Epoch 6/100\n",
      "2048/2048 [==============================] - 16s 8ms/sample - loss: 0.0463 - val_loss: 0.0492\n",
      "Epoch 7/100\n",
      "2048/2048 [==============================] - 16s 8ms/sample - loss: 0.0463 - val_loss: 0.0480\n",
      "Epoch 8/100\n",
      "2048/2048 [==============================] - 16s 8ms/sample - loss: 0.0467 - val_loss: 0.0486\n",
      "Epoch 9/100\n",
      "2048/2048 [==============================] - 16s 8ms/sample - loss: 0.0463 - val_loss: 0.0495\n",
      "Epoch 10/100\n",
      "2048/2048 [==============================] - 16s 8ms/sample - loss: 0.0465 - val_loss: 0.0511\n",
      "Epoch 11/100\n",
      "2048/2048 [==============================] - 16s 8ms/sample - loss: 0.0466 - val_loss: 0.0494\n",
      "Epoch 12/100\n",
      "2048/2048 [==============================] - 16s 8ms/sample - loss: 0.0466 - val_loss: 0.0484\n",
      "Epoch 13/100\n",
      "2048/2048 [==============================] - 16s 8ms/sample - loss: 0.0463 - val_loss: 0.0491\n",
      "Epoch 14/100\n",
      "2048/2048 [==============================] - 16s 8ms/sample - loss: 0.0460 - val_loss: 0.0491\n",
      "Epoch 15/100\n",
      "2048/2048 [==============================] - 16s 8ms/sample - loss: 0.0459 - val_loss: 0.0501\n",
      "Epoch 16/100\n",
      "2048/2048 [==============================] - 16s 8ms/sample - loss: 0.0464 - val_loss: 0.0484\n",
      "Epoch 17/100\n",
      "2048/2048 [==============================] - 16s 8ms/sample - loss: 0.0463 - val_loss: 0.0487\n",
      "Epoch 18/100\n",
      "2048/2048 [==============================] - 16s 8ms/sample - loss: 0.0458 - val_loss: 0.0486\n",
      "Epoch 19/100\n",
      "2048/2048 [==============================] - 16s 8ms/sample - loss: 0.0461 - val_loss: 0.0481\n",
      "Epoch 20/100\n",
      "2048/2048 [==============================] - 16s 8ms/sample - loss: 0.0457 - val_loss: 0.0483\n",
      "Epoch 21/100\n",
      "2048/2048 [==============================] - 16s 8ms/sample - loss: 0.0458 - val_loss: 0.0480\n",
      "Epoch 22/100\n",
      "2048/2048 [==============================] - 16s 8ms/sample - loss: 0.0461 - val_loss: 0.0508\n",
      "Epoch 23/100\n",
      "2048/2048 [==============================] - 16s 8ms/sample - loss: 0.0456 - val_loss: 0.0478\n",
      "Epoch 24/100\n",
      "2048/2048 [==============================] - 16s 8ms/sample - loss: 0.0451 - val_loss: 0.0468\n",
      "Epoch 25/100\n",
      "2048/2048 [==============================] - 16s 8ms/sample - loss: 0.0448 - val_loss: 0.0456\n",
      "Epoch 26/100\n",
      "2048/2048 [==============================] - 16s 8ms/sample - loss: 0.0474 - val_loss: 0.0513\n",
      "Epoch 27/100\n",
      "2048/2048 [==============================] - 16s 8ms/sample - loss: 0.0456 - val_loss: 0.0487\n",
      "Epoch 28/100\n",
      "2048/2048 [==============================] - 16s 8ms/sample - loss: 0.0451 - val_loss: 0.0472\n",
      "Epoch 29/100\n",
      "2048/2048 [==============================] - 16s 8ms/sample - loss: 0.0449 - val_loss: 0.0468\n",
      "Epoch 30/100\n",
      "2048/2048 [==============================] - 16s 8ms/sample - loss: 0.0445 - val_loss: 0.0482\n",
      "Epoch 31/100\n",
      "2048/2048 [==============================] - 16s 8ms/sample - loss: 0.0442 - val_loss: 0.0449\n",
      "Epoch 32/100\n",
      "2048/2048 [==============================] - 16s 8ms/sample - loss: 0.0432 - val_loss: 0.0464\n",
      "Epoch 33/100\n",
      "2048/2048 [==============================] - 16s 8ms/sample - loss: 0.0425 - val_loss: 0.0440\n",
      "Epoch 34/100\n",
      "2048/2048 [==============================] - 16s 8ms/sample - loss: 0.0295 - val_loss: 0.0465\n",
      "Epoch 35/100\n",
      "2048/2048 [==============================] - 16s 8ms/sample - loss: 0.0168 - val_loss: 0.0100\n",
      "Epoch 36/100\n",
      "2048/2048 [==============================] - 16s 8ms/sample - loss: 0.0135 - val_loss: 0.0102\n",
      "Epoch 37/100\n",
      "2048/2048 [==============================] - 16s 8ms/sample - loss: 0.0068 - val_loss: 0.0059\n",
      "Epoch 38/100\n",
      "2048/2048 [==============================] - 16s 8ms/sample - loss: 0.0046 - val_loss: 0.0033\n",
      "Epoch 39/100\n",
      "2048/2048 [==============================] - 16s 8ms/sample - loss: 0.0035 - val_loss: 0.0036\n",
      "Epoch 40/100\n",
      "2048/2048 [==============================] - 16s 8ms/sample - loss: 0.0037 - val_loss: 0.0021\n",
      "Epoch 41/100\n",
      "2048/2048 [==============================] - 16s 8ms/sample - loss: 0.0029 - val_loss: 0.0019\n",
      "Epoch 42/100\n",
      "2048/2048 [==============================] - 16s 8ms/sample - loss: 0.0032 - val_loss: 0.0019\n",
      "Epoch 43/100\n",
      "2048/2048 [==============================] - 16s 8ms/sample - loss: 0.0025 - val_loss: 0.0023\n",
      "Epoch 44/100\n",
      "2048/2048 [==============================] - 16s 8ms/sample - loss: 0.0024 - val_loss: 0.0015\n",
      "Epoch 45/100\n",
      "2048/2048 [==============================] - 16s 8ms/sample - loss: 0.0028 - val_loss: 0.0047\n",
      "Epoch 46/100\n",
      "2048/2048 [==============================] - 16s 8ms/sample - loss: 0.0023 - val_loss: 0.0016\n",
      "Epoch 47/100\n",
      "2048/2048 [==============================] - 16s 8ms/sample - loss: 0.0019 - val_loss: 0.0014\n",
      "Epoch 48/100\n",
      "2048/2048 [==============================] - 16s 8ms/sample - loss: 0.0015 - val_loss: 0.0013\n",
      "Epoch 49/100\n",
      "2048/2048 [==============================] - 16s 8ms/sample - loss: 0.0016 - val_loss: 0.0015\n",
      "Epoch 50/100\n",
      "2048/2048 [==============================] - 16s 8ms/sample - loss: 0.0014 - val_loss: 0.0025\n",
      "Epoch 51/100\n",
      "2048/2048 [==============================] - 16s 8ms/sample - loss: 0.0015 - val_loss: 0.0022\n",
      "Epoch 52/100\n",
      "2048/2048 [==============================] - 16s 8ms/sample - loss: 0.0017 - val_loss: 0.0011\n",
      "Epoch 53/100\n",
      "2048/2048 [==============================] - 16s 8ms/sample - loss: 0.0014 - val_loss: 0.0012\n",
      "Epoch 54/100\n",
      "2048/2048 [==============================] - 16s 8ms/sample - loss: 0.0012 - val_loss: 9.6475e-04\n",
      "Epoch 55/100\n",
      "2048/2048 [==============================] - 16s 8ms/sample - loss: 0.0012 - val_loss: 9.4056e-04\n",
      "Epoch 56/100\n",
      "2048/2048 [==============================] - 16s 8ms/sample - loss: 0.0013 - val_loss: 9.8381e-04\n",
      "Epoch 57/100\n",
      "2048/2048 [==============================] - 16s 8ms/sample - loss: 0.0016 - val_loss: 0.0017\n",
      "Epoch 58/100\n",
      "2048/2048 [==============================] - 16s 8ms/sample - loss: 0.0011 - val_loss: 0.0018\n",
      "Epoch 59/100\n",
      "2048/2048 [==============================] - 16s 8ms/sample - loss: 0.0014 - val_loss: 0.0020\n",
      "Epoch 60/100\n",
      "2048/2048 [==============================] - 16s 8ms/sample - loss: 0.0013 - val_loss: 0.0011\n",
      "Epoch 61/100\n",
      "2048/2048 [==============================] - 16s 8ms/sample - loss: 0.0013 - val_loss: 0.0014\n",
      "Epoch 62/100\n",
      "2048/2048 [==============================] - 16s 8ms/sample - loss: 0.0013 - val_loss: 0.0010\n",
      "Epoch 63/100\n",
      "2048/2048 [==============================] - 16s 8ms/sample - loss: 9.9579e-04 - val_loss: 0.0011\n",
      "Epoch 64/100\n",
      "2048/2048 [==============================] - 16s 8ms/sample - loss: 0.0010 - val_loss: 0.0018\n",
      "Epoch 65/100\n",
      "2048/2048 [==============================] - 16s 8ms/sample - loss: 0.0011 - val_loss: 7.2108e-04\n",
      "Epoch 66/100\n",
      "2048/2048 [==============================] - 16s 8ms/sample - loss: 0.0010 - val_loss: 9.5552e-04\n",
      "Epoch 67/100\n",
      "2048/2048 [==============================] - 16s 8ms/sample - loss: 9.1002e-04 - val_loss: 6.9436e-04\n",
      "Epoch 68/100\n",
      "2048/2048 [==============================] - 16s 8ms/sample - loss: 8.5602e-04 - val_loss: 9.2571e-04\n",
      "Epoch 69/100\n",
      "2048/2048 [==============================] - 16s 8ms/sample - loss: 7.7268e-04 - val_loss: 8.5609e-04\n",
      "Epoch 70/100\n",
      "2048/2048 [==============================] - 16s 8ms/sample - loss: 7.9333e-04 - val_loss: 7.7404e-04\n",
      "Epoch 71/100\n",
      "2048/2048 [==============================] - 16s 8ms/sample - loss: 6.5994e-04 - val_loss: 0.0012\n",
      "Epoch 72/100\n",
      "2048/2048 [==============================] - 16s 8ms/sample - loss: 6.9799e-04 - val_loss: 8.3447e-04\n",
      "Epoch 73/100\n",
      "2048/2048 [==============================] - 16s 8ms/sample - loss: 7.4047e-04 - val_loss: 5.0856e-04\n",
      "Epoch 74/100\n",
      "2048/2048 [==============================] - 16s 8ms/sample - loss: 9.1781e-04 - val_loss: 0.0012\n",
      "Epoch 75/100\n",
      "2048/2048 [==============================] - 16s 8ms/sample - loss: 0.0015 - val_loss: 5.2175e-04\n",
      "Epoch 76/100\n",
      "2048/2048 [==============================] - 16s 8ms/sample - loss: 7.0136e-04 - val_loss: 4.9074e-04\n",
      "Epoch 77/100\n",
      "2048/2048 [==============================] - 16s 8ms/sample - loss: 6.4218e-04 - val_loss: 4.8506e-04\n",
      "Epoch 78/100\n",
      "2048/2048 [==============================] - 16s 8ms/sample - loss: 7.0051e-04 - val_loss: 8.1331e-04\n",
      "Epoch 79/100\n",
      "2048/2048 [==============================] - 16s 8ms/sample - loss: 5.2779e-04 - val_loss: 7.9414e-04\n",
      "Epoch 80/100\n",
      "2048/2048 [==============================] - 16s 8ms/sample - loss: 5.1573e-04 - val_loss: 5.0673e-04\n",
      "Epoch 81/100\n",
      "2048/2048 [==============================] - 16s 8ms/sample - loss: 4.6831e-04 - val_loss: 5.4949e-04\n",
      "Epoch 82/100\n",
      "2048/2048 [==============================] - 16s 8ms/sample - loss: 5.3525e-04 - val_loss: 4.5098e-04\n",
      "Epoch 83/100\n",
      "2048/2048 [==============================] - 16s 8ms/sample - loss: 5.0117e-04 - val_loss: 6.1021e-04\n",
      "Epoch 84/100\n",
      "2048/2048 [==============================] - 16s 8ms/sample - loss: 4.0179e-04 - val_loss: 4.0554e-04\n",
      "Epoch 85/100\n",
      "2048/2048 [==============================] - 16s 8ms/sample - loss: 6.6783e-04 - val_loss: 5.1106e-04\n",
      "Epoch 86/100\n",
      "2048/2048 [==============================] - 16s 8ms/sample - loss: 6.1342e-04 - val_loss: 3.6802e-04\n",
      "Epoch 87/100\n",
      "2048/2048 [==============================] - 16s 8ms/sample - loss: 4.1944e-04 - val_loss: 4.7073e-04\n",
      "Epoch 88/100\n",
      "2048/2048 [==============================] - 16s 8ms/sample - loss: 5.9446e-04 - val_loss: 3.9447e-04\n",
      "Epoch 89/100\n",
      "2048/2048 [==============================] - 16s 8ms/sample - loss: 9.6321e-04 - val_loss: 4.2464e-04\n",
      "Epoch 90/100\n",
      "2048/2048 [==============================] - 16s 8ms/sample - loss: 5.3108e-04 - val_loss: 5.5362e-04\n",
      "Epoch 91/100\n",
      "2048/2048 [==============================] - 16s 8ms/sample - loss: 3.4918e-04 - val_loss: 4.5252e-04\n",
      "Epoch 92/100\n",
      "2048/2048 [==============================] - 16s 8ms/sample - loss: 4.5796e-04 - val_loss: 5.0943e-04\n",
      "Epoch 93/100\n",
      "2048/2048 [==============================] - 16s 8ms/sample - loss: 4.2075e-04 - val_loss: 3.8694e-04\n",
      "Epoch 94/100\n",
      "2048/2048 [==============================] - 16s 8ms/sample - loss: 4.5918e-04 - val_loss: 5.9687e-04\n",
      "Epoch 95/100\n",
      "2048/2048 [==============================] - 16s 8ms/sample - loss: 7.4198e-04 - val_loss: 4.7702e-04\n",
      "Epoch 96/100\n",
      "2048/2048 [==============================] - 16s 8ms/sample - loss: 4.3201e-04 - val_loss: 5.4307e-04\n",
      "Epoch 97/100\n",
      "2048/2048 [==============================] - 16s 8ms/sample - loss: 3.4500e-04 - val_loss: 7.4064e-04\n",
      "Epoch 98/100\n",
      "2048/2048 [==============================] - 16s 8ms/sample - loss: 4.9622e-04 - val_loss: 3.6441e-04\n",
      "Epoch 99/100\n",
      "2048/2048 [==============================] - 16s 8ms/sample - loss: 5.0094e-04 - val_loss: 7.8510e-04\n",
      "Epoch 100/100\n",
      "2048/2048 [==============================] - 16s 8ms/sample - loss: 3.4080e-04 - val_loss: 3.6323e-04\n"
     ]
    }
   ],
   "source": [
    "# 7.12 LSTM 네트워크 학습\n",
    "X = np.array(X)\n",
    "Y = np.array(Y)\n",
    "history = model.fit(X[:2560], Y[:2560], epochs=100, validation_split=0.2)"
   ]
  },
  {
   "cell_type": "code",
   "execution_count": 16,
   "metadata": {},
   "outputs": [
    {
     "data": {
      "image/png": "[encoded data removed]",
      "text/plain": [
       "<Figure size 432x288 with 1 Axes>"
      ]
     },
     "metadata": {
      "needs_background": "light"
     },
     "output_type": "display_data"
    }
   ],
   "source": [
    "# 7.13 LSTM 네트워크 학습 결과 확인\n",
    "import matplotlib.pyplot as plt\n",
    "plt.plot(history.history['loss'], 'b-', label='loss')\n",
    "plt.plot(history.history['val_loss'], 'r--', label='val_loss')\n",
    "plt.xlabel('Epoch')\n",
    "plt.legend()\n",
    "plt.show()"
   ]
  },
  {
   "cell_type": "code",
   "execution_count": 17,
   "metadata": {},
   "outputs": [
    {
     "name": "stdout",
     "output_type": "stream",
     "text": [
      "\r",
      "440/1 [================================================================================================================================================================================================================================================================================================================================================================================================================================================================================================================================================================================================================================================================================================================================================================================================================================================================================================================================================================================================================================================================================================================================================================================================================================================================================================================================================================================================================================================================================================================================================================================================================================================================================================================================================================================================================================================================================================================================================================================================================================================================================================================================================================================================================================================================================================================================================================================================================================================================================================================================================================================================================================================================================================================================================================================================================================================================================================================================================================================================================================================================================================================================================================================================================================================================================================================================================================================================================================================================================================================================================================================================================================================================================================================================================================================================================================================================================================================================================================================================================================================================================================================================================================================================================================================================================================================================================================================================================================================================================================================================================================================================================================================================================================================================================================================================================================================================================================================================================================================================================================================================================================================================================================================================================================================================================================================================================================================================================================================================================================================================================================================================================================================================================================================================================================================================================================================================================================================================================================================================================================================================================================================================================================================================================================================================================================================================================================================================================================================================================================================================================================================================================================================================================================================================================================================================================================================================================================================================================================================================================================================================================================================================================================================================================================================================================================================================================================================================================================================================================================================================================================================================================================================================================================================================================================================================================================================================================================================================================================================================================================================================================================================================================================================================================================================================================================================================================================================================================================================================================================================================================================================================================================================================================================================================================================================================================================================================================================================================================================================================================================================================================================================================================================================================================================================================================================================================================================================================================================================================================================================================================================================================================================================================================================================================================================================================================================================================================================================================================================================================================================================================================================================================================================================================================================================================================================================================================================================================================================================================================================================================================================================================================================================================================================================================================================================================================================================================================================================================================================================================================================================================================================================================================================================================================================================================================================================================================================================================================================================================================================================================================================================================================================================================================================================================================================================================================================================================================================================================================================================================================================================================================================================================================================================================================================================================================================================================================================================================================================================================================================================================================================================================================================================================================================================================================================================================================================================================================================================================================================================================================================================================================================================================================================================================================================================================================================================================================================================================================================================================================================================================================================================================================================================================================================================================================] - 3s 8ms/sample - loss: 4.0695e-04\n"
     ]
    },
    {
     "name": "stdout",
     "output_type": "stream",
     "text": [
      "0.24063509116083537 \t 0.24228548 \tdiff: 0.0016503839740141801\n",
      "0.026515383796123372 \t 0.01775013 \tdiff: 0.008765254692462789\n",
      "0.027100423012126576 \t 0.030017622 \tdiff: 0.0029171988030780444\n",
      "0.11589036024179875 \t 0.0982125 \tdiff: 0.01767785734501301\n",
      "0.36309363378480697 \t 0.35709953 \tdiff: 0.005994100703752281\n",
      "correctness: 96.36363636363636 %\n"
     ]
    }
   ],
   "source": [
    "# 7.14 Test 데이터에 대한 예측 정확도 확인\n",
    "model.evaluate(X[2560:], Y[2560:])\n",
    "prediction = model.predict(X[2560:2560+5])\n",
    "for i in range(5):\n",
    "    print(Y[2560+i], '\\t', prediction[i][0], '\\tdiff:', abs(prediction[i][0] - Y[2560+i]))\n",
    "    \n",
    "prediction = model.predict(X[2560:])\n",
    "cnt = 0\n",
    "for i in range(len(prediction)):\n",
    "    if abs(prediction[i][0] - Y[2560+i]) > 0.04:\n",
    "        cnt += 1\n",
    "print('correctness:', (440 - cnt) / 440 * 100, '%')"
   ]
  },
  {
   "cell_type": "code",
   "execution_count": 18,
   "metadata": {},
   "outputs": [
    {
     "name": "stdout",
     "output_type": "stream",
     "text": [
      "Model: \"sequential_3\"\n",
      "_________________________________________________________________\n",
      "Layer (type)                 Output Shape              Param #   \n",
      "=================================================================\n",
      "gru (GRU)                    (None, 100, 30)           3060      \n",
      "_________________________________________________________________\n",
      "gru_1 (GRU)                  (None, 30)                5580      \n",
      "_________________________________________________________________\n",
      "dense_3 (Dense)              (None, 1)                 31        \n",
      "=================================================================\n",
      "Total params: 8,671\n",
      "Trainable params: 8,671\n",
      "Non-trainable params: 0\n",
      "_________________________________________________________________\n"
     ]
    }
   ],
   "source": [
    "# 7.15 GRU 레이어를 사용한 곱셈 문제 모델 정의\n",
    "model = tf.keras.Sequential([\n",
    "    tf.keras.layers.GRU(units=30, return_sequences=True, input_shape=[100,2]),\n",
    "    tf.keras.layers.GRU(units=30),\n",
    "    tf.keras.layers.Dense(1)\n",
    "])\n",
    "\n",
    "model.compile(optimizer='adam', loss='mse')\n",
    "model.summary()"
   ]
  },
  {
   "cell_type": "code",
   "execution_count": 21,
   "metadata": {},
   "outputs": [
    {
     "name": "stdout",
     "output_type": "stream",
     "text": [
      "Train on 2048 samples, validate on 512 samples\n",
      "Epoch 1/100\n",
      "2048/2048 [==============================] - 12s 6ms/sample - loss: 1.5543e-04 - val_loss: 1.2588e-04\n",
      "Epoch 2/100\n",
      "2048/2048 [==============================] - 12s 6ms/sample - loss: 1.4853e-04 - val_loss: 1.1700e-04\n",
      "Epoch 3/100\n",
      "2048/2048 [==============================] - 12s 6ms/sample - loss: 1.4389e-04 - val_loss: 1.8223e-04\n",
      "Epoch 4/100\n",
      "2048/2048 [==============================] - 12s 6ms/sample - loss: 1.4472e-04 - val_loss: 1.1619e-04\n",
      "Epoch 5/100\n",
      "2048/2048 [==============================] - 12s 6ms/sample - loss: 1.4046e-04 - val_loss: 2.6864e-04\n",
      "Epoch 6/100\n",
      "2048/2048 [==============================] - 12s 6ms/sample - loss: 1.4496e-04 - val_loss: 1.1037e-04\n",
      "Epoch 7/100\n",
      "2048/2048 [==============================] - 12s 6ms/sample - loss: 1.1760e-04 - val_loss: 1.7231e-04\n",
      "Epoch 8/100\n",
      "2048/2048 [==============================] - 12s 6ms/sample - loss: 1.2788e-04 - val_loss: 1.2792e-04\n",
      "Epoch 9/100\n",
      "2048/2048 [==============================] - 12s 6ms/sample - loss: 1.3716e-04 - val_loss: 1.2858e-04\n",
      "Epoch 10/100\n",
      "2048/2048 [==============================] - 12s 6ms/sample - loss: 1.6522e-04 - val_loss: 1.2941e-04\n",
      "Epoch 11/100\n",
      "2048/2048 [==============================] - 12s 6ms/sample - loss: 1.3809e-04 - val_loss: 1.6992e-04\n",
      "Epoch 12/100\n",
      "2048/2048 [==============================] - 12s 6ms/sample - loss: 1.5780e-04 - val_loss: 2.2524e-04\n",
      "Epoch 13/100\n",
      "2048/2048 [==============================] - 12s 6ms/sample - loss: 1.1951e-04 - val_loss: 1.4524e-04\n",
      "Epoch 14/100\n",
      "2048/2048 [==============================] - 12s 6ms/sample - loss: 1.2659e-04 - val_loss: 2.0427e-04\n",
      "Epoch 15/100\n",
      "2048/2048 [==============================] - 12s 6ms/sample - loss: 1.5062e-04 - val_loss: 1.5771e-04\n",
      "Epoch 16/100\n",
      "2048/2048 [==============================] - 12s 6ms/sample - loss: 1.2822e-04 - val_loss: 1.0076e-04\n",
      "Epoch 17/100\n",
      "2048/2048 [==============================] - 12s 6ms/sample - loss: 1.0900e-04 - val_loss: 9.8520e-05\n",
      "Epoch 18/100\n",
      "2048/2048 [==============================] - 12s 6ms/sample - loss: 1.0043e-04 - val_loss: 9.5463e-05\n",
      "Epoch 19/100\n",
      "2048/2048 [==============================] - 12s 6ms/sample - loss: 1.0800e-04 - val_loss: 1.0749e-04\n",
      "Epoch 20/100\n",
      "2048/2048 [==============================] - 12s 6ms/sample - loss: 1.0895e-04 - val_loss: 1.5526e-04\n",
      "Epoch 21/100\n",
      "2048/2048 [==============================] - 12s 6ms/sample - loss: 1.3662e-04 - val_loss: 1.3644e-04\n",
      "Epoch 22/100\n",
      "2048/2048 [==============================] - 12s 6ms/sample - loss: 9.5202e-05 - val_loss: 1.5793e-04\n",
      "Epoch 23/100\n",
      "2048/2048 [==============================] - 12s 6ms/sample - loss: 1.3680e-04 - val_loss: 1.5203e-04\n",
      "Epoch 24/100\n",
      "2048/2048 [==============================] - 12s 6ms/sample - loss: 1.0614e-04 - val_loss: 1.4748e-04\n",
      "Epoch 25/100\n",
      "2048/2048 [==============================] - 12s 6ms/sample - loss: 1.1454e-04 - val_loss: 1.0545e-04\n",
      "Epoch 26/100\n",
      "2048/2048 [==============================] - 12s 6ms/sample - loss: 9.6002e-05 - val_loss: 1.2011e-04\n",
      "Epoch 27/100\n",
      "2048/2048 [==============================] - 12s 6ms/sample - loss: 1.0417e-04 - val_loss: 1.9074e-04\n",
      "Epoch 28/100\n",
      "2048/2048 [==============================] - 12s 6ms/sample - loss: 1.0705e-04 - val_loss: 8.2423e-05\n",
      "Epoch 29/100\n",
      "2048/2048 [==============================] - 12s 6ms/sample - loss: 1.0348e-04 - val_loss: 1.1179e-04\n",
      "Epoch 30/100\n",
      "2048/2048 [==============================] - 12s 6ms/sample - loss: 9.6227e-05 - val_loss: 9.6658e-05\n",
      "Epoch 31/100\n",
      "2048/2048 [==============================] - 12s 6ms/sample - loss: 1.0239e-04 - val_loss: 1.4108e-04\n",
      "Epoch 32/100\n",
      "2048/2048 [==============================] - 12s 6ms/sample - loss: 1.1180e-04 - val_loss: 1.5524e-04\n",
      "Epoch 33/100\n",
      "2048/2048 [==============================] - 12s 6ms/sample - loss: 8.6103e-05 - val_loss: 9.2989e-05\n",
      "Epoch 34/100\n",
      "2048/2048 [==============================] - 12s 6ms/sample - loss: 9.1336e-05 - val_loss: 1.3646e-04\n",
      "Epoch 35/100\n",
      "2048/2048 [==============================] - 12s 6ms/sample - loss: 9.8393e-05 - val_loss: 1.2540e-04\n",
      "Epoch 36/100\n",
      "2048/2048 [==============================] - 12s 6ms/sample - loss: 9.0025e-05 - val_loss: 1.1553e-04\n",
      "Epoch 37/100\n",
      "2048/2048 [==============================] - 12s 6ms/sample - loss: 9.4995e-05 - val_loss: 1.3077e-04\n",
      "Epoch 38/100\n",
      "2048/2048 [==============================] - 12s 6ms/sample - loss: 9.5929e-05 - val_loss: 7.6910e-05\n",
      "Epoch 39/100\n",
      "2048/2048 [==============================] - 12s 6ms/sample - loss: 8.2788e-05 - val_loss: 1.1925e-04\n",
      "Epoch 40/100\n",
      "2048/2048 [==============================] - 12s 6ms/sample - loss: 7.9947e-05 - val_loss: 7.7876e-05\n",
      "Epoch 41/100\n",
      "2048/2048 [==============================] - 12s 6ms/sample - loss: 8.7772e-05 - val_loss: 1.3157e-04\n",
      "Epoch 42/100\n",
      "2048/2048 [==============================] - 12s 6ms/sample - loss: 9.0678e-05 - val_loss: 1.2941e-04\n",
      "Epoch 43/100\n",
      "2048/2048 [==============================] - 12s 6ms/sample - loss: 7.6719e-05 - val_loss: 1.0813e-04\n",
      "Epoch 44/100\n",
      "2048/2048 [==============================] - 12s 6ms/sample - loss: 7.7725e-05 - val_loss: 8.8582e-05\n",
      "Epoch 45/100\n",
      "2048/2048 [==============================] - 12s 6ms/sample - loss: 7.6068e-05 - val_loss: 1.3162e-04\n",
      "Epoch 46/100\n",
      "2048/2048 [==============================] - 12s 6ms/sample - loss: 8.6356e-05 - val_loss: 7.8004e-05\n",
      "Epoch 47/100\n",
      "2048/2048 [==============================] - 12s 6ms/sample - loss: 7.5937e-05 - val_loss: 8.7341e-05\n",
      "Epoch 48/100\n",
      "2048/2048 [==============================] - 12s 6ms/sample - loss: 8.3881e-05 - val_loss: 1.6533e-04\n",
      "Epoch 49/100\n",
      "2048/2048 [==============================] - 12s 6ms/sample - loss: 9.0877e-05 - val_loss: 7.4039e-05\n",
      "Epoch 50/100\n",
      "2048/2048 [==============================] - 12s 6ms/sample - loss: 8.4877e-05 - val_loss: 1.2928e-04\n",
      "Epoch 51/100\n",
      "2048/2048 [==============================] - 12s 6ms/sample - loss: 6.8262e-05 - val_loss: 8.0416e-05\n",
      "Epoch 52/100\n",
      "2048/2048 [==============================] - 12s 6ms/sample - loss: 8.6853e-05 - val_loss: 9.0881e-05\n",
      "Epoch 53/100\n",
      "2048/2048 [==============================] - 12s 6ms/sample - loss: 7.4963e-05 - val_loss: 1.1601e-04\n",
      "Epoch 54/100\n",
      "2048/2048 [==============================] - 12s 6ms/sample - loss: 7.9292e-05 - val_loss: 1.0731e-04\n",
      "Epoch 55/100\n",
      "2048/2048 [==============================] - 12s 6ms/sample - loss: 6.6165e-05 - val_loss: 9.4950e-05\n",
      "Epoch 56/100\n",
      "2048/2048 [==============================] - 12s 6ms/sample - loss: 5.8186e-05 - val_loss: 7.4688e-05\n",
      "Epoch 57/100\n",
      "2048/2048 [==============================] - 12s 6ms/sample - loss: 6.0707e-05 - val_loss: 8.2332e-05\n",
      "Epoch 58/100\n",
      "2048/2048 [==============================] - 12s 6ms/sample - loss: 7.8034e-05 - val_loss: 7.0997e-05\n",
      "Epoch 59/100\n",
      "2048/2048 [==============================] - 12s 6ms/sample - loss: 5.6321e-05 - val_loss: 5.9609e-05\n",
      "Epoch 60/100\n",
      "2048/2048 [==============================] - 12s 6ms/sample - loss: 6.5404e-05 - val_loss: 1.4111e-04\n",
      "Epoch 61/100\n",
      "2048/2048 [==============================] - 12s 6ms/sample - loss: 9.8184e-05 - val_loss: 6.5000e-05\n",
      "Epoch 62/100\n",
      "2048/2048 [==============================] - 12s 6ms/sample - loss: 6.1654e-05 - val_loss: 6.3435e-05\n",
      "Epoch 63/100\n",
      "2048/2048 [==============================] - 12s 6ms/sample - loss: 6.6937e-05 - val_loss: 1.3162e-04\n",
      "Epoch 64/100\n",
      "2048/2048 [==============================] - 12s 6ms/sample - loss: 8.3088e-05 - val_loss: 2.4637e-04\n",
      "Epoch 65/100\n",
      "2048/2048 [==============================] - 12s 6ms/sample - loss: 9.1499e-05 - val_loss: 1.3670e-04\n",
      "Epoch 66/100\n",
      "2048/2048 [==============================] - 12s 6ms/sample - loss: 5.9035e-05 - val_loss: 8.2679e-05\n",
      "Epoch 67/100\n",
      "2048/2048 [==============================] - 12s 6ms/sample - loss: 4.6905e-05 - val_loss: 6.3120e-05\n",
      "Epoch 68/100\n",
      "2048/2048 [==============================] - 12s 6ms/sample - loss: 5.6883e-05 - val_loss: 1.7374e-04\n",
      "Epoch 69/100\n",
      "2048/2048 [==============================] - 12s 6ms/sample - loss: 7.7875e-05 - val_loss: 6.7262e-05\n",
      "Epoch 70/100\n",
      "2048/2048 [==============================] - 12s 6ms/sample - loss: 8.6249e-05 - val_loss: 1.8702e-04\n",
      "Epoch 71/100\n",
      "2048/2048 [==============================] - 12s 6ms/sample - loss: 6.8055e-05 - val_loss: 7.2866e-05\n"
     ]
    },
    {
     "name": "stdout",
     "output_type": "stream",
     "text": [
      "Epoch 72/100\n",
      "2048/2048 [==============================] - 12s 6ms/sample - loss: 4.8860e-05 - val_loss: 5.7056e-05\n",
      "Epoch 73/100\n",
      "2048/2048 [==============================] - 12s 6ms/sample - loss: 4.5399e-05 - val_loss: 7.0985e-05\n",
      "Epoch 74/100\n",
      "2048/2048 [==============================] - 12s 6ms/sample - loss: 6.0032e-05 - val_loss: 6.8310e-05\n",
      "Epoch 75/100\n",
      "2048/2048 [==============================] - 12s 6ms/sample - loss: 6.5779e-05 - val_loss: 8.5351e-05\n",
      "Epoch 76/100\n",
      "2048/2048 [==============================] - 12s 6ms/sample - loss: 5.8391e-05 - val_loss: 7.5951e-05\n",
      "Epoch 77/100\n",
      "2048/2048 [==============================] - 12s 6ms/sample - loss: 6.5748e-05 - val_loss: 1.2399e-04\n",
      "Epoch 78/100\n",
      "2048/2048 [==============================] - 12s 6ms/sample - loss: 4.8569e-05 - val_loss: 9.0847e-05\n",
      "Epoch 79/100\n",
      "2048/2048 [==============================] - 12s 6ms/sample - loss: 5.2923e-05 - val_loss: 7.6379e-05\n",
      "Epoch 80/100\n",
      "2048/2048 [==============================] - 12s 6ms/sample - loss: 3.8834e-05 - val_loss: 7.1887e-05\n",
      "Epoch 81/100\n",
      "2048/2048 [==============================] - 12s 6ms/sample - loss: 5.1514e-05 - val_loss: 6.3219e-05\n",
      "Epoch 82/100\n",
      "2048/2048 [==============================] - 12s 6ms/sample - loss: 7.5603e-05 - val_loss: 8.4947e-05\n",
      "Epoch 83/100\n",
      "2048/2048 [==============================] - 12s 6ms/sample - loss: 7.6855e-05 - val_loss: 7.3743e-05\n",
      "Epoch 84/100\n",
      "2048/2048 [==============================] - 12s 6ms/sample - loss: 5.1957e-05 - val_loss: 5.7528e-05\n",
      "Epoch 85/100\n",
      "2048/2048 [==============================] - 12s 6ms/sample - loss: 4.7042e-05 - val_loss: 5.2871e-05\n",
      "Epoch 86/100\n",
      "2048/2048 [==============================] - 12s 6ms/sample - loss: 4.5207e-05 - val_loss: 6.7877e-05\n",
      "Epoch 87/100\n",
      "2048/2048 [==============================] - 12s 6ms/sample - loss: 3.7645e-05 - val_loss: 7.8581e-05\n",
      "Epoch 88/100\n",
      "2048/2048 [==============================] - 12s 6ms/sample - loss: 4.6260e-05 - val_loss: 7.6939e-05\n",
      "Epoch 89/100\n",
      "2048/2048 [==============================] - 12s 6ms/sample - loss: 4.1458e-05 - val_loss: 5.7002e-05\n",
      "Epoch 90/100\n",
      "2048/2048 [==============================] - 12s 6ms/sample - loss: 4.3121e-05 - val_loss: 5.4589e-05\n",
      "Epoch 91/100\n",
      "2048/2048 [==============================] - 12s 6ms/sample - loss: 4.7924e-05 - val_loss: 4.7394e-05\n",
      "Epoch 92/100\n",
      "2048/2048 [==============================] - 12s 6ms/sample - loss: 5.7369e-05 - val_loss: 6.1966e-05\n",
      "Epoch 93/100\n",
      "2048/2048 [==============================] - 12s 6ms/sample - loss: 4.3001e-05 - val_loss: 8.7003e-05\n",
      "Epoch 94/100\n",
      "2048/2048 [==============================] - 12s 6ms/sample - loss: 4.0263e-05 - val_loss: 5.1241e-05\n",
      "Epoch 95/100\n",
      "2048/2048 [==============================] - 12s 6ms/sample - loss: 5.0424e-05 - val_loss: 8.3644e-05\n",
      "Epoch 96/100\n",
      "2048/2048 [==============================] - 12s 6ms/sample - loss: 4.3985e-05 - val_loss: 9.0150e-05\n",
      "Epoch 97/100\n",
      "2048/2048 [==============================] - 12s 6ms/sample - loss: 5.6020e-05 - val_loss: 1.1254e-04\n",
      "Epoch 98/100\n",
      "2048/2048 [==============================] - 12s 6ms/sample - loss: 5.0934e-05 - val_loss: 5.8453e-05\n",
      "Epoch 99/100\n",
      "2048/2048 [==============================] - 12s 6ms/sample - loss: 6.4140e-05 - val_loss: 8.4008e-05\n",
      "Epoch 100/100\n",
      "2048/2048 [==============================] - 12s 6ms/sample - loss: 3.8916e-05 - val_loss: 5.9779e-05\n"
     ]
    }
   ],
   "source": [
    "# 7.16 GRU 네트워크 학습\n",
    "X = np.array(X)\n",
    "Y = np.array(Y)\n",
    "history = model.fit(X[:2560], Y[:2560], epochs=100, validation_split=0.2)"
   ]
  },
  {
   "cell_type": "code",
   "execution_count": 23,
   "metadata": {},
   "outputs": [
    {
     "data": {
      "image/png": "[encoded data removed]",
      "text/plain": [
       "<Figure size 432x288 with 1 Axes>"
      ]
     },
     "metadata": {
      "needs_background": "light"
     },
     "output_type": "display_data"
    }
   ],
   "source": [
    "# 7.17 GRU 네트워크 학습 결과 확인\n",
    "import matplotlib.pyplot as plt\n",
    "plt.plot(history.history['loss'], 'b-', label='loss')\n",
    "plt.plot(history.history['val_loss'], 'r--', label='val_loss')\n",
    "plt.xlabel('Epoch')\n",
    "plt.legend()\n",
    "plt.show()"
   ]
  },
  {
   "cell_type": "code",
   "execution_count": 24,
   "metadata": {},
   "outputs": [
    {
     "name": "stdout",
     "output_type": "stream",
     "text": [
      "\r",
      "440/1 [================================================================================================================================================================================================================================================================================================================================================================================================================================================================================================================================================================================================================================================================================================================================================================================================================================================================================================================================================================================================================================================================================================================================================================================================================================================================================================================================================================================================================================================================================================================================================================================================================================================================================================================================================================================================================================================================================================================================================================================================================================================================================================================================================================================================================================================================================================================================================================================================================================================================================================================================================================================================================================================================================================================================================================================================================================================================================================================================================================================================================================================================================================================================================================================================================================================================================================================================================================================================================================================================================================================================================================================================================================================================================================================================================================================================================================================================================================================================================================================================================================================================================================================================================================================================================================================================================================================================================================================================================================================================================================================================================================================================================================================================================================================================================================================================================================================================================================================================================================================================================================================================================================================================================================================================================================================================================================================================================================================================================================================================================================================================================================================================================================================================================================================================================================================================================================================================================================================================================================================================================================================================================================================================================================================================================================================================================================================================================================================================================================================================================================================================================================================================================================================================================================================================================================================================================================================================================================================================================================================================================================================================================================================================================================================================================================================================================================================================================================================================================================================================================================================================================================================================================================================================================================================================================================================================================================================================================================================================================================================================================================================================================================================================================================================================================================================================================================================================================================================================================================================================================================================================================================================================================================================================================================================================================================================================================================================================================================================================================================================================================================================================================================================================================================================================================================================================================================================================================================================================================================================================================================================================================================================================================================================================================================================================================================================================================================================================================================================================================================================================================================================================================================================================================================================================================================================================================================================================================================================================================================================================================================================================================================================================================================================================================================================================================================================================================================================================================================================================================================================================================================================================================================================================================================================================================================================================================================================================================================================================================================================================================================================================================================================================================================================================================================================================================================================================================================================================================================================================================================================================================================================================================================================================================================================================================================================================================================================================================================================================================================================================================================================================================================================================================================================================================================================================================================================================================================================================================================================================================================================================================================================================================================================================================================================================================================================================================================================================================================================================================================================================================================================================================================================================================================================================================================================================================] - 3s 6ms/sample - loss: 6.2307e-05\n"
     ]
    },
    {
     "name": "stdout",
     "output_type": "stream",
     "text": [
      "0.24063509116083537 \t 0.23908082 \tdiff: 0.0015542746534958907\n",
      "0.026515383796123372 \t 0.020210147 \tdiff: 0.006305236892131673\n",
      "0.027100423012126576 \t 0.027117208 \tdiff: 1.6784634243358076e-05\n",
      "0.11589036024179875 \t 0.111892946 \tdiff: 0.003997414177326547\n",
      "0.36309363378480697 \t 0.36296794 \tdiff: 0.0001256956000688092\n",
      "correctness: 100.0 %\n"
     ]
    }
   ],
   "source": [
    "# 7.18 Test 데이터에 대한 예측 정확도 확인\n",
    "model.evaluate(X[2560:], Y[2560:])\n",
    "prediction = model.predict(X[2560:2560+5])\n",
    "for i in range(5):\n",
    "    print(Y[2560+i], '\\t', prediction[i][0], '\\tdiff:', abs(prediction[i][0] - Y[2560+i]))\n",
    "    \n",
    "prediction = model.predict(X[2560:])\n",
    "cnt = 0\n",
    "for i in range(len(prediction)):\n",
    "    if abs(prediction[i][0] - Y[2560+i]) > 0.04:\n",
    "        cnt += 1\n",
    "print('correctness:', (440 - cnt) / 440 * 100, '%')"
   ]
  },
  {
   "cell_type": "code",
   "execution_count": 25,
   "metadata": {},
   "outputs": [
    {
     "name": "stdout",
     "output_type": "stream",
     "text": [
      "Downloading data from https://raw.githubusercontent.com/e9t/nsmc/master/ratings_train.txt\n",
      "14630912/14628807 [==============================] - 2s 0us/step\n",
      "Downloading data from https://raw.githubusercontent.com/e9t/nsmc/master/ratings_test.txt\n",
      "4898816/4893335 [==============================] - 1s 0us/step\n"
     ]
    }
   ],
   "source": [
    "# 7.19 Naver Sentiment Movie Corpus v1.0 다운로드\n",
    "path_to_train_file = tf.keras.utils.get_file('train.txt', 'https://raw.githubusercontent.com/e9t/nsmc/master/ratings_train.txt')\n",
    "path_to_test_file = tf.keras.utils.get_file('test.txt', 'https://raw.githubusercontent.com/e9t/nsmc/master/ratings_test.txt')"
   ]
  },
  {
   "cell_type": "code",
   "execution_count": 26,
   "metadata": {},
   "outputs": [
    {
     "name": "stdout",
     "output_type": "stream",
     "text": [
      "Length of text: 6937271 characters\n",
      "Length of text: 2318260 characters\n",
      "\n",
      "id\tdocument\tlabel\n",
      "9976970\t아 더빙.. 진짜 짜증나네요 목소리\t0\n",
      "3819312\t흠...포스터보고 초딩영화줄....오버연기조차 가볍지 않구나\t1\n",
      "10265843\t너무재밓었다그래서보는것을추천한다\t0\n",
      "9045019\t교도소 이야기구먼 ..솔직히 재미는 없다..평점 조정\t0\n",
      "6483659\t사이몬페그의 익살스런 연기가 돋보였던 영화!스파이더맨에서 늙어보이기만 했던 커스틴 던스트가 너무나도 이뻐보였다\t1\n",
      "5403919\t막 걸음마 뗀 3세부터 초등학교 1학년생인 8살용영화.ㅋㅋㅋ...별반개도 아까움.\t0\n",
      "7797314\t원작의\n"
     ]
    }
   ],
   "source": [
    "# 7.20 데이터 로드 및 확인\n",
    "# 데이터를 메모리에 불러옵니다. encoding 형식으로 utf-8 을 지정해야합니다.\n",
    "train_text = open(path_to_train_file, 'rb').read().decode(encoding='utf-8')\n",
    "test_text = open(path_to_test_file, 'rb').read().decode(encoding='utf-8')\n",
    "\n",
    "# 텍스트가 총 몇 자인지 확인합니다.\n",
    "print('Length of text: {} characters'.format(len(train_text)))\n",
    "print('Length of text: {} characters'.format(len(test_text)))\n",
    "print()\n",
    "\n",
    "# 처음 300 자를 확인해봅니다.\n",
    "print(train_text[:300])"
   ]
  },
  {
   "cell_type": "code",
   "execution_count": 27,
   "metadata": {},
   "outputs": [
    {
     "name": "stdout",
     "output_type": "stream",
     "text": [
      "(150000, 1) (50000, 1)\n",
      "[[0]\n",
      " [1]\n",
      " [0]\n",
      " [0]\n",
      " [1]]\n"
     ]
    }
   ],
   "source": [
    "# 7.21 학습을 위한 정답 데이터(Y) 만들기\n",
    "train_Y = np.array([[int(row.split('\\t')[2])] for row in train_text.split('\\n')[1:] if row.count('\\t') > 0])\n",
    "test_Y = np.array([[int(row.split('\\t')[2])] for row in test_text.split('\\n')[1:] if row.count('\\t') > 0])\n",
    "print(train_Y.shape, test_Y.shape)\n",
    "print(train_Y[:5])"
   ]
  },
  {
   "cell_type": "code",
   "execution_count": 28,
   "metadata": {},
   "outputs": [
    {
     "name": "stdout",
     "output_type": "stream",
     "text": [
      "['아', '더빙', '진짜', '짜증나네요', '목소리']\n",
      "['흠', '포스터보고', '초딩영화줄', '오버연기조차', '가볍지', '않구나']\n",
      "['너무재밓었다그래서보는것을추천한다']\n",
      "['교도소', '이야기구먼', '솔직히', '재미는', '없다', '평점', '조정']\n",
      "['사이몬페그의', '익살스런', '연기가', '돋보였던', '영화', '!', '스파이더맨에서', '늙어보이기만', '했던', '커스틴', '던스트가', '너무나도', '이뻐보였다']\n"
     ]
    }
   ],
   "source": [
    "# 7.22 train 데이터의 입력(X)에 대한 정제(Cleaning)\n",
    "import re\n",
    "# From https://github.com/yoonkim/CNN_sentence/blob/master/process_data.py\n",
    "def clean_str(string):    \n",
    "    string = re.sub(r\"[^가-힣A-Za-z0-9(),!?\\'\\`]\", \" \", string)\n",
    "    string = re.sub(r\"\\'s\", \" \\'s\", string)\n",
    "    string = re.sub(r\"\\'ve\", \" \\'ve\", string)\n",
    "    string = re.sub(r\"n\\'t\", \" n\\'t\", string)\n",
    "    string = re.sub(r\"\\'re\", \" \\'re\", string)\n",
    "    string = re.sub(r\"\\'d\", \" \\'d\", string)\n",
    "    string = re.sub(r\"\\'ll\", \" \\'ll\", string)\n",
    "    string = re.sub(r\",\", \" , \", string)\n",
    "    string = re.sub(r\"!\", \" ! \", string)\n",
    "    string = re.sub(r\"\\(\", \" \\( \", string)\n",
    "    string = re.sub(r\"\\)\", \" \\) \", string)\n",
    "    string = re.sub(r\"\\?\", \" \\? \", string)\n",
    "    string = re.sub(r\"\\s{2,}\", \" \", string)\n",
    "    string = re.sub(r\"\\'{2,}\", \"\\'\", string)\n",
    "    string = re.sub(r\"\\'\", \"\", string)\n",
    "\n",
    "    return string.lower()\n",
    "\n",
    "\n",
    "train_text_X = [row.split('\\t')[1] for row in train_text.split('\\n')[1:] if row.count('\\t') > 0]\n",
    "train_text_X = [clean_str(sentence) for sentence in train_text_X]\n",
    "# 문장을 띄어쓰기 단위로 단어 분리\n",
    "sentences = [sentence.split(' ') for sentence in train_text_X]\n",
    "for i in range(5):\n",
    "    print(sentences[i])"
   ]
  },
  {
   "cell_type": "code",
   "execution_count": 29,
   "metadata": {},
   "outputs": [
    {
     "data": {
      "image/png": "[encoded data removed]",
      "text/plain": [
       "<Figure size 432x288 with 1 Axes>"
      ]
     },
     "metadata": {
      "needs_background": "light"
     },
     "output_type": "display_data"
    },
    {
     "name": "stdout",
     "output_type": "stream",
     "text": [
      "142587\n"
     ]
    }
   ],
   "source": [
    "# 7.23 각 문장의 단어 길이 확인\n",
    "import matplotlib.pyplot as plt\n",
    "sentence_len = [len(sentence) for sentence in sentences]\n",
    "sentence_len.sort()\n",
    "plt.plot(sentence_len)\n",
    "plt.show()\n",
    "\n",
    "print(sum([int(l<=25) for l in sentence_len]))"
   ]
  },
  {
   "cell_type": "code",
   "execution_count": 30,
   "metadata": {},
   "outputs": [
    {
     "name": "stdout",
     "output_type": "stream",
     "text": [
      "['아', '더빙', '진짜', '짜증나네요', '목소리']\n",
      "['흠', '포스터보고', '초딩영화줄', '오버연기조', '가볍지', '않구나']\n",
      "['너무재밓었']\n",
      "['교도소', '이야기구먼', '솔직히', '재미는', '없다', '평점', '조정']\n",
      "['사이몬페그', '익살스런', '연기가', '돋보였던', '영화', '!', '스파이더맨', '늙어보이기', '했던', '커스틴', '던스트가', '너무나도', '이뻐보였다']\n"
     ]
    }
   ],
   "source": [
    "# 7.24 단어 정제 및 문장 길이 줄임\n",
    "sentences_new = []\n",
    "for sentence in sentences:\n",
    "    sentences_new.append([word[:5] for word in sentence][:25])\n",
    "sentences = sentences_new\n",
    "for i in range(5):\n",
    "    print(sentences[i])"
   ]
  },
  {
   "cell_type": "code",
   "execution_count": 31,
   "metadata": {},
   "outputs": [
    {
     "name": "stdout",
     "output_type": "stream",
     "text": [
      "[[   25   884     8  5795  1111     0     0     0     0     0     0     0\n",
      "      0     0     0     0     0     0     0     0     0     0     0     0\n",
      "      0]\n",
      " [  588  5796  6697     0     0     0     0     0     0     0     0     0\n",
      "      0     0     0     0     0     0     0     0     0     0     0     0\n",
      "      0]\n",
      " [    0     0     0     0     0     0     0     0     0     0     0     0\n",
      "      0     0     0     0     0     0     0     0     0     0     0     0\n",
      "      0]\n",
      " [   71   346    31    35 10468     0     0     0     0     0     0     0\n",
      "      0     0     0     0     0     0     0     0     0     0     0     0\n",
      "      0]\n",
      " [  106  5338     4     2  2169   869   573     0     0     0     0     0\n",
      "      0     0     0     0     0     0     0     0     0     0     0     0\n",
      "      0]]\n"
     ]
    }
   ],
   "source": [
    "# 7.25 Tokenizer와 pad_sequences를 사용한 문장 전처리\n",
    "from tensorflow.keras.preprocessing.text import Tokenizer\n",
    "from tensorflow.keras.preprocessing.sequence import pad_sequences\n",
    "\n",
    "tokenizer = Tokenizer(num_words=20000)\n",
    "tokenizer.fit_on_texts(sentences)\n",
    "train_X = tokenizer.texts_to_sequences(sentences)\n",
    "train_X = pad_sequences(train_X, padding='post')\n",
    "\n",
    "print(train_X[:5])"
   ]
  },
  {
   "cell_type": "code",
   "execution_count": 32,
   "metadata": {},
   "outputs": [
    {
     "name": "stdout",
     "output_type": "stream",
     "text": [
      "경우는\n",
      "잊혀질\n",
      "[[], [19999], [], [106]]\n",
      "[[    0]\n",
      " [19999]\n",
      " [    0]\n",
      " [  106]]\n"
     ]
    }
   ],
   "source": [
    "# 7.26 Tokenizer의 동작 확인\n",
    "print(tokenizer.index_word[19999])\n",
    "print(tokenizer.index_word[20000])\n",
    "temp = tokenizer.texts_to_sequences(['#$#$#', '경우는', '잊혀질', '연기가'])\n",
    "print(temp)\n",
    "temp = pad_sequences(temp, padding='post')\n",
    "print(temp)"
   ]
  },
  {
   "cell_type": "code",
   "execution_count": 33,
   "metadata": {},
   "outputs": [
    {
     "name": "stdout",
     "output_type": "stream",
     "text": [
      "Model: \"sequential_4\"\n",
      "_________________________________________________________________\n",
      "Layer (type)                 Output Shape              Param #   \n",
      "=================================================================\n",
      "embedding (Embedding)        (None, 25, 300)           6000000   \n",
      "_________________________________________________________________\n",
      "lstm_2 (LSTM)                (None, 50)                70200     \n",
      "_________________________________________________________________\n",
      "dense_4 (Dense)              (None, 2)                 102       \n",
      "=================================================================\n",
      "Total params: 6,070,302\n",
      "Trainable params: 6,070,302\n",
      "Non-trainable params: 0\n",
      "_________________________________________________________________\n"
     ]
    }
   ],
   "source": [
    "# 7.27 감성 분석을 위한 모델 정의\n",
    "model = tf.keras.Sequential([\n",
    "    tf.keras.layers.Embedding(20000, 300, input_length=25),\n",
    "    tf.keras.layers.LSTM(units=50),\n",
    "    tf.keras.layers.Dense(2, activation='softmax')\n",
    "])\n",
    "\n",
    "model.compile(optimizer='adam', loss='sparse_categorical_crossentropy', metrics=['accuracy'])\n",
    "model.summary()"
   ]
  },
  {
   "cell_type": "code",
   "execution_count": null,
   "metadata": {},
   "outputs": [
    {
     "name": "stdout",
     "output_type": "stream",
     "text": [
      "Train on 120000 samples, validate on 30000 samples\n",
      "Epoch 1/5\n",
      " 18688/120000 [===>..........................] - ETA: 7:06 - loss: 0.5535 - accuracy: 0.6855"
     ]
    }
   ],
   "source": [
    "# 7.28 감성 분석 모델 학습\n",
    "history = model.fit(train_X, train_Y, epochs=5, batch_size=128, validation_split=0.2)"
   ]
  },
  {
   "cell_type": "code",
   "execution_count": null,
   "metadata": {},
   "outputs": [],
   "source": [
    "# 7.29 감성 분석 모델 학습 결과 확인\n",
    "import matplotlib.pyplot as plt\n",
    "plt.figure(figsize=(12, 4))\n",
    "\n",
    "plt.subplot(1, 2, 1)\n",
    "plt.plot(history.history['loss'], 'b-', label='loss')\n",
    "plt.plot(history.history['val_loss'], 'r--', label='val_loss')\n",
    "plt.xlabel('Epoch')\n",
    "plt.legend()\n",
    "\n",
    "plt.subplot(1, 2, 2)\n",
    "plt.plot(history.history['accuracy'], 'g-', label='accuracy')\n",
    "plt.plot(history.history['val_accuracy'], 'k--', label='val_accuracy')\n",
    "plt.xlabel('Epoch')\n",
    "plt.ylim(0.7, 1)\n",
    "plt.legend()\n",
    "\n",
    "plt.show()"
   ]
  },
  {
   "cell_type": "code",
   "execution_count": null,
   "metadata": {},
   "outputs": [],
   "source": [
    "# 7.30 테스트 데이터 평가\n",
    "test_text_X = [row.split('\\t')[1] for row in test_text.split('\\n')[1:] if row.count('\\t') > 0]\n",
    "test_text_X = [clean_str(sentence) for sentence in test_text_X]\n",
    "sentences = [sentence.split(' ') for sentence in test_text_X]\n",
    "sentences_new = []\n",
    "for sentence in sentences:\n",
    "    sentences_new.append([word[:5] for word in sentence][:25])\n",
    "sentences = sentences_new\n",
    "\n",
    "test_X = tokenizer.texts_to_sequences(sentences)\n",
    "test_X = pad_sequences(test_X, padding='post')\n",
    "\n",
    "model.evaluate(test_X, test_Y, verbose=0)"
   ]
  },
  {
   "cell_type": "code",
   "execution_count": null,
   "metadata": {},
   "outputs": [],
   "source": [
    "# 7.31 임의의 문장 감성 분석 결과 확인\n",
    "test_sentence = '재미있을 줄 알았는데 완전 실망했다. 너무 졸리고 돈이 아까웠다.'\n",
    "test_sentence = test_sentence.split(' ')\n",
    "test_sentences = []\n",
    "now_sentence = []\n",
    "for word in test_sentence:\n",
    "    now_sentence.append(word)\n",
    "    test_sentences.append(now_sentence[:])\n",
    "    \n",
    "test_X_1 = tokenizer.texts_to_sequences(test_sentences)\n",
    "test_X_1 = pad_sequences(test_X_1, padding='post', maxlen=25)\n",
    "prediction = model.predict(test_X_1)\n",
    "for idx, sentence in enumerate(test_sentences):\n",
    "    print(sentence)\n",
    "    print(prediction[idx])"
   ]
  }
 ],
 "metadata": {
  "kernelspec": {
   "display_name": "Python 3",
   "language": "python",
   "name": "python3"
  },
  "language_info": {
   "codemirror_mode": {
    "name": "ipython",
    "version": 3
   },
   "file_extension": ".py",
   "mimetype": "text/x-python",
   "name": "python",
   "nbconvert_exporter": "python",
   "pygments_lexer": "ipython3",
   "version": "3.6.8"
  }
 },
 "nbformat": 4,
 "nbformat_minor": 2
}
