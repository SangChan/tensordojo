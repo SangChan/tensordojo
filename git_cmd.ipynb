{
 "cells": [
  {
   "cell_type": "code",
   "execution_count": 14,
   "metadata": {},
   "outputs": [
    {
     "name": "stdout",
     "output_type": "stream",
     "text": [
      "On branch master\r\n",
      "Your branch is up to date with 'origin/master'.\r\n",
      "\r\n",
      "nothing to commit, working tree clean\r\n"
     ]
    }
   ],
   "source": [
    "# check git status\n",
    "!git status"
   ]
  },
  {
   "cell_type": "code",
   "execution_count": 15,
   "metadata": {},
   "outputs": [
    {
     "name": "stdout",
     "output_type": "stream",
     "text": [
      "remote: Enumerating objects: 4, done.\u001b[K\n",
      "remote: Counting objects: 100% (4/4), done.\u001b[K\n",
      "remote: Compressing objects: 100% (2/2), done.\u001b[K\n",
      "remote: Total 3 (delta 1), reused 3 (delta 1), pack-reused 0\u001b[K\n",
      "Unpacking objects: 100% (3/3), done.\n",
      "From https://github.com/SangChan/tensordojo\n",
      "   d412564..06a9bde  master     -> origin/master\n",
      "Updating d412564..06a9bde\n",
      "Fast-forward\n",
      " jul_2020.py | 5 \u001b[32m+++++\u001b[m\n",
      " 1 file changed, 5 insertions(+)\n",
      " create mode 100644 jul_2020.py\n"
     ]
    }
   ],
   "source": [
    "# pull git\n",
    "!git pull"
   ]
  },
  {
   "cell_type": "code",
   "execution_count": 4,
   "metadata": {},
   "outputs": [
    {
     "name": "stdout",
     "output_type": "stream",
     "text": [
      "[master 77eb92f] add new\n",
      " 2 files changed, 64 insertions(+), 232 deletions(-)\n",
      "Counting objects: 4, done.\n",
      "Delta compression using up to 4 threads.\n",
      "Compressing objects: 100% (4/4), done.\n",
      "Writing objects: 100% (4/4), 902 bytes | 902.00 KiB/s, done.\n",
      "Total 4 (delta 3), reused 0 (delta 0)\n",
      "remote: Resolving deltas: 100% (3/3), completed with 3 local objects.\u001b[K\n",
      "To https://github.com/SangChan/tensordojo.git\n",
      "   7ffbb9d..77eb92f  master -> master\n"
     ]
    }
   ],
   "source": [
    "# git add all with commit message and push it\n",
    "!git add .\n",
    "!git commit -m \"add new\"\n",
    "!git push"
   ]
  },
  {
   "cell_type": "code",
   "execution_count": null,
   "metadata": {},
   "outputs": [],
   "source": []
  }
 ],
 "metadata": {
  "kernelspec": {
   "display_name": "Python 3",
   "language": "python",
   "name": "python3"
  },
  "language_info": {
   "codemirror_mode": {
    "name": "ipython",
    "version": 3
   },
   "file_extension": ".py",
   "mimetype": "text/x-python",
   "name": "python",
   "nbconvert_exporter": "python",
   "pygments_lexer": "ipython3",
   "version": "3.6.8"
  }
 },
 "nbformat": 4,
 "nbformat_minor": 2
}
