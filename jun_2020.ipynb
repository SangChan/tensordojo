{
 "cells": [
  {
   "cell_type": "code",
   "execution_count": 1,
   "metadata": {},
   "outputs": [
    {
     "name": "stdout",
     "output_type": "stream",
     "text": [
      "Linux-4.4.59+-x86_64-with-Ubuntu-18.04-bionic\n",
      "2.0.0\n"
     ]
    }
   ],
   "source": [
    "import platform\n",
    "print(platform.platform())\n",
    "\n",
    "import tensorflow as tf\n",
    "print(tf.__version__)"
   ]
  },
  {
   "cell_type": "code",
   "execution_count": 2,
   "metadata": {},
   "outputs": [
    {
     "name": "stdout",
     "output_type": "stream",
     "text": [
      "tf.Tensor([0.20760262], shape=(1,), dtype=float32)\n",
      "tf.Tensor([0.844273   0.72946465 0.4197023  0.8909888 ], shape=(4,), dtype=float32)\n",
      "tf.Tensor([ 0.017139  -1.1202171  0.5301106  0.8177472], shape=(4,), dtype=float32)\n"
     ]
    }
   ],
   "source": [
    "rand = tf.random.uniform([1],0,1)\n",
    "print(rand)\n",
    "rand = tf.random.uniform([4],0,1)\n",
    "print(rand)\n",
    "rand = tf.random.normal([4],0,1)\n",
    "print(rand)"
   ]
  },
  {
   "cell_type": "code",
   "execution_count": 3,
   "metadata": {},
   "outputs": [],
   "source": [
    "import math\n",
    "def sigmoid(x):\n",
    "    return 1 / (1 + math.exp(-x))"
   ]
  },
  {
   "cell_type": "code",
   "execution_count": 4,
   "metadata": {},
   "outputs": [
    {
     "name": "stdout",
     "output_type": "stream",
     "text": [
      "0.08100954180201261\n"
     ]
    }
   ],
   "source": [
    "# 3.11 뉴런의 입력과 출력 정의\n",
    "x = 1\n",
    "y = 0\n",
    "w = tf.random.normal([1],0,1)\n",
    "output = sigmoid(x * w)\n",
    "print(output)"
   ]
  },
  {
   "cell_type": "code",
   "execution_count": null,
   "metadata": {},
   "outputs": [],
   "source": []
  }
 ],
 "metadata": {
  "kernelspec": {
   "display_name": "Python 3",
   "language": "python",
   "name": "python3"
  },
  "language_info": {
   "codemirror_mode": {
    "name": "ipython",
    "version": 3
   },
   "file_extension": ".py",
   "mimetype": "text/x-python",
   "name": "python",
   "nbconvert_exporter": "python",
   "pygments_lexer": "ipython3",
   "version": "3.6.8"
  }
 },
 "nbformat": 4,
 "nbformat_minor": 2
}
