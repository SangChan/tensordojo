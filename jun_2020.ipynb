{
 "cells": [
  {
   "cell_type": "code",
   "execution_count": 1,
   "metadata": {},
   "outputs": [
    {
     "name": "stdout",
     "output_type": "stream",
     "text": [
      "Linux-4.4.59+-x86_64-with-Ubuntu-18.04-bionic\n",
      "2.0.0\n"
     ]
    }
   ],
   "source": [
    "import platform\n",
    "print(platform.platform())\n",
    "\n",
    "import tensorflow as tf\n",
    "print(tf.__version__)"
   ]
  },
  {
   "cell_type": "code",
   "execution_count": 2,
   "metadata": {},
   "outputs": [
    {
     "name": "stdout",
     "output_type": "stream",
     "text": [
      "tf.Tensor([0.20760262], shape=(1,), dtype=float32)\n",
      "tf.Tensor([0.844273   0.72946465 0.4197023  0.8909888 ], shape=(4,), dtype=float32)\n",
      "tf.Tensor([ 0.017139  -1.1202171  0.5301106  0.8177472], shape=(4,), dtype=float32)\n"
     ]
    }
   ],
   "source": [
    "rand = tf.random.uniform([1],0,1)\n",
    "print(rand)\n",
    "rand = tf.random.uniform([4],0,1)\n",
    "print(rand)\n",
    "rand = tf.random.normal([4],0,1)\n",
    "print(rand)"
   ]
  },
  {
   "cell_type": "code",
   "execution_count": 3,
   "metadata": {},
   "outputs": [],
   "source": [
    "import math\n",
    "def sigmoid(x):\n",
    "    return 1 / (1 + math.exp(-x))"
   ]
  },
  {
   "cell_type": "code",
   "execution_count": 4,
   "metadata": {},
   "outputs": [
    {
     "name": "stdout",
     "output_type": "stream",
     "text": [
      "0.08100954180201261\n"
     ]
    }
   ],
   "source": [
    "# 3.11 뉴런의 입력과 출력 정의\n",
    "x = 1\n",
    "y = 0\n",
    "w = tf.random.normal([1],0,1)\n",
    "output = sigmoid(x * w)\n",
    "print(output)"
   ]
  },
  {
   "cell_type": "code",
   "execution_count": 5,
   "metadata": {},
   "outputs": [
    {
     "name": "stdout",
     "output_type": "stream",
     "text": [
      "99 -0.04614175979767944 0.04614175979767944\n",
      "199 -0.0319405687886069 0.0319405687886069\n",
      "299 -0.02436460173917474 0.02436460173917474\n",
      "399 -0.01967142938993524 0.01967142938993524\n",
      "499 -0.01648424747839317 0.01648424747839317\n",
      "599 -0.014180656276373651 0.014180656276373651\n",
      "699 -0.01243898827774887 0.01243898827774887\n",
      "799 -0.011076552040373942 0.011076552040373942\n",
      "899 -0.009981944342081259 0.009981944342081259\n",
      "999 -0.009083440556517343 0.009083440556517343\n"
     ]
    }
   ],
   "source": [
    "# 3.12 경사 하강법을 이용한 뉴런의 학습\n",
    "for i in range(1000):\n",
    "    output = sigmoid(x * w)\n",
    "    error = y - output\n",
    "    w = w + x * 0.1 * error\n",
    "    \n",
    "    if i % 100 == 99:\n",
    "        print(i, error, output)"
   ]
  },
  {
   "cell_type": "code",
   "execution_count": 7,
   "metadata": {},
   "outputs": [
    {
     "name": "stdout",
     "output_type": "stream",
     "text": [
      "99 0.5 0.5\n",
      "199 0.5 0.5\n",
      "299 0.5 0.5\n",
      "399 0.5 0.5\n",
      "499 0.5 0.5\n",
      "599 0.5 0.5\n",
      "699 0.5 0.5\n",
      "799 0.5 0.5\n",
      "899 0.5 0.5\n",
      "999 0.5 0.5\n"
     ]
    }
   ],
   "source": [
    "# 3.13 x=0 일 때 y=1 을 얻는 뉴런의 학습\n",
    "x = 0\n",
    "y = 1\n",
    "w = tf.random.normal([1],0,1)\n",
    "\n",
    "for i in range(1000):\n",
    "    output = sigmoid(x * w)\n",
    "    error = y - output\n",
    "    w = w + x * 0.1 * error\n",
    "    \n",
    "    if i % 100 == 99:\n",
    "        print(i, error, output)"
   ]
  },
  {
   "cell_type": "code",
   "execution_count": 8,
   "metadata": {},
   "outputs": [
    {
     "name": "stdout",
     "output_type": "stream",
     "text": [
      "99 0.10958253290666986 0.8904174670933301\n",
      "199 0.05435000001148804 0.945649999988512\n",
      "299 0.035737880921979825 0.9642621190780202\n",
      "399 0.026532845922579207 0.9734671540774208\n",
      "499 0.021068381679894888 0.9789316183201051\n",
      "599 0.017457421535932216 0.9825425784640678\n",
      "699 0.014896725031731117 0.9851032749682689\n",
      "799 0.012987606416125508 0.9870123935838745\n",
      "899 0.0115101019983741 0.9884898980016259\n",
      "999 0.010333091031408337 0.9896669089685917\n"
     ]
    }
   ],
   "source": [
    "# 3.14 x=0 일 때 y=1 을 얻는 뉴런의 학습에 편향을 더함\n",
    "x = 0\n",
    "y = 1\n",
    "w = tf.random.normal([1],0,1)\n",
    "b = tf.random.normal([1],0,1)\n",
    "\n",
    "for i in range(1000):\n",
    "    output = sigmoid(x * w + 1 * b)\n",
    "    error = y - output\n",
    "    w = w + x * 0.1 * error\n",
    "    b = b + 1 * 0.1 * error\n",
    "    \n",
    "    if i % 100 == 99:\n",
    "        print(i, error, output)"
   ]
  },
  {
   "cell_type": "code",
   "execution_count": 9,
   "metadata": {},
   "outputs": [
    {
     "name": "stdout",
     "output_type": "stream",
     "text": [
      "1\n",
      "0\n"
     ]
    }
   ],
   "source": [
    "# 3.15 True, False 의 정수값 확인\n",
    "print(int(True))\n",
    "print(int(False))"
   ]
  },
  {
   "cell_type": "code",
   "execution_count": 10,
   "metadata": {},
   "outputs": [
    {
     "name": "stdout",
     "output_type": "stream",
     "text": [
      "199 -0.10235426809930537\n",
      "399 -0.06280844588954392\n",
      "599 -0.04517638730089037\n",
      "799 -0.03517554417752886\n",
      "999 -0.02875054698832628\n",
      "1199 -0.0242836052892662\n",
      "1399 -0.021002724023855987\n",
      "1599 -0.01849318829058225\n",
      "1799 -0.016514460406546642\n",
      "1999 -0.014913180723078371\n"
     ]
    }
   ],
   "source": [
    "# 3.16 첫번째 신경망 네트워크 : AND\n",
    "import numpy as np\n",
    "x = np.array([[1,1], [1,0], [0,1], [0,0]])\n",
    "y = np.array([[1], [0], [0], [0]])\n",
    "w = tf.random.normal([2],0,1)\n",
    "b = tf.random.normal([1],0,1)\n",
    "b_x = 1\n",
    "\n",
    "for i in range(2000):\n",
    "    error_sum = 0\n",
    "    for j in range(4):\n",
    "        output = sigmoid(np.sum(x[j]*w)+b_x*b)\n",
    "        error = y[j][0] - output\n",
    "        w = w + x[j] * 0.1 * error\n",
    "        b = b + b_x * 0.1 * error\n",
    "        error_sum += error\n",
    "        \n",
    "    if i % 200 == 199:\n",
    "        print(i, error_sum)"
   ]
  },
  {
   "cell_type": "code",
   "execution_count": 2,
   "metadata": {
    "tags": []
   },
   "outputs": [
    {
     "name": "stdout",
     "output_type": "stream",
     "text": [
      "[1, 2, 3, 1, 2, 3]\n",
      "[]\n",
      "[]\n"
     ]
    }
   ],
   "source": [
    "# 3.17 파이썬에서 리스트에 정수를 곱하기\n",
    "print([1,2,3]*2)\n",
    "print([1,2,3]*0)\n",
    "print([1,2,3]*-1)"
   ]
  },
  {
   "cell_type": "code",
   "execution_count": 11,
   "metadata": {},
   "outputs": [
    {
     "ename": "TypeError",
     "evalue": "can't multiply sequence by non-int of type 'float'",
     "output_type": "error",
     "traceback": [
      "\u001b[0;31m---------------------------------------------------------------------------\u001b[0m",
      "\u001b[0;31mTypeError\u001b[0m                                 Traceback (most recent call last)",
      "\u001b[0;32m<ipython-input-11-9324b729b044>\u001b[0m in \u001b[0;36m<module>\u001b[0;34m\u001b[0m\n\u001b[1;32m      1\u001b[0m \u001b[0;31m# 3.18 파이썬에서 리스트에 실수를 곱하기\u001b[0m\u001b[0;34m\u001b[0m\u001b[0;34m\u001b[0m\u001b[0;34m\u001b[0m\u001b[0m\n\u001b[0;32m----> 2\u001b[0;31m \u001b[0mprint\u001b[0m\u001b[0;34m(\u001b[0m\u001b[0;34m[\u001b[0m\u001b[0;36m1\u001b[0m\u001b[0;34m,\u001b[0m\u001b[0;36m2\u001b[0m\u001b[0;34m,\u001b[0m\u001b[0;36m3\u001b[0m\u001b[0;34m]\u001b[0m\u001b[0;34m*\u001b[0m\u001b[0;36m0.01\u001b[0m\u001b[0;34m)\u001b[0m\u001b[0;34m\u001b[0m\u001b[0;34m\u001b[0m\u001b[0m\n\u001b[0m",
      "\u001b[0;31mTypeError\u001b[0m: can't multiply sequence by non-int of type 'float'"
     ]
    }
   ],
   "source": [
    "# 3.18 파이썬에서 리스트에 실수를 곱하기\n",
    "print([1,2,3]*0.01)"
   ]
  },
  {
   "cell_type": "code",
   "execution_count": 12,
   "metadata": {},
   "outputs": [
    {
     "name": "stdout",
     "output_type": "stream",
     "text": [
      "[2 4 6]\n",
      "[0 0 0]\n",
      "[-1 -2 -3]\n",
      "[0.01 0.02 0.03]\n"
     ]
    }
   ],
   "source": [
    "# 3.19 넘파이 array 에 정수, 실수를 곱하기\n",
    "import numpy as np\n",
    "print(np.array([1,2,3])*2)\n",
    "print(np.array([1,2,3])*0)\n",
    "print(np.array([1,2,3])*-1)\n",
    "print(np.array([1,2,3])*0.01)"
   ]
  },
  {
   "cell_type": "code",
   "execution_count": 13,
   "metadata": {},
   "outputs": [
    {
     "name": "stdout",
     "output_type": "stream",
     "text": [
      "X: [1 1] Y: [1] Output: 0.9651857651576546\n",
      "X: [1 0] Y: [0] Output: 0.02467281173493674\n",
      "X: [0 1] Y: [0] Output: 0.024747817610596995\n",
      "X: [0 0] Y: [0] Output: 2.3153890413797382e-05\n"
     ]
    }
   ],
   "source": [
    "# 3.20 AND 네트워크의 평가\n",
    "for i in range(4):\n",
    "    print('X:', x[i], 'Y:', y[i], 'Output:', sigmoid(np.sum(x[i]*w)+b))"
   ]
  },
  {
   "cell_type": "code",
   "execution_count": 14,
   "metadata": {},
   "outputs": [
    {
     "name": "stdout",
     "output_type": "stream",
     "text": [
      "199 -0.05181867854091646\n",
      "399 -0.0265140187364519\n",
      "599 -0.017689960494844392\n",
      "799 -0.013224234235224758\n",
      "999 -0.010538628398548362\n",
      "1199 -0.008750279625324105\n",
      "1399 -0.0074759650683648635\n",
      "1599 -0.006522756462595321\n",
      "1799 -0.005783566031108942\n",
      "1999 -0.005192648194256553\n"
     ]
    }
   ],
   "source": [
    "# 3.21 두번째 신경망 네트워크 : OR\n",
    "import numpy as np\n",
    "x = np.array([[1,1], [1,0], [0,1], [0,0]])\n",
    "y = np.array([[1], [1], [1], [0]])\n",
    "w = tf.random.normal([2],0,1)\n",
    "b = tf.random.normal([1],0,1)\n",
    "b_x = 1\n",
    "\n",
    "for i in range(2000):\n",
    "    error_sum = 0\n",
    "    for j in range(4):\n",
    "        output = sigmoid(np.sum(x[j]*w)+b_x*b)\n",
    "        error = y[j][0] - output\n",
    "        w = w + x[j] * 0.1 * error\n",
    "        b = b + b_x * 0.1 * error\n",
    "        error_sum += error\n",
    "        \n",
    "    if i % 200 == 199:\n",
    "        print(i, error_sum)"
   ]
  },
  {
   "cell_type": "code",
   "execution_count": 16,
   "metadata": {},
   "outputs": [
    {
     "name": "stdout",
     "output_type": "stream",
     "text": [
      "X: [1 1] Y: [1] Output: 0.9999971345767832\n",
      "X: [1 0] Y: [1] Output: 0.9897064926049183\n",
      "X: [0 1] Y: [1] Output: 0.9896809481096922\n",
      "X: [0 0] Y: [0] Output: 0.025743170569263306\n"
     ]
    }
   ],
   "source": [
    "# 3.22 OR 네트워크의 평가\n",
    "for i in range(4):\n",
    "    print('X:', x[i], 'Y:', y[i], 'Output:', sigmoid(np.sum(x[i]*w)+b))"
   ]
  },
  {
   "cell_type": "code",
   "execution_count": 17,
   "metadata": {},
   "outputs": [
    {
     "name": "stdout",
     "output_type": "stream",
     "text": [
      "199 -0.00508763852284444\n",
      "399 -0.00020686283853244003\n",
      "599 -8.410817891935096e-06\n",
      "799 -3.573928256672687e-07\n",
      "999 3.722842367714918e-09\n",
      "1199 3.722842145670313e-09\n",
      "1399 3.722842145670313e-09\n",
      "1599 3.722842145670313e-09\n",
      "1799 3.722842145670313e-09\n",
      "1999 3.722842145670313e-09\n"
     ]
    }
   ],
   "source": [
    "# 3.23 세번째 신경망 네트워크 : XOR\n",
    "import numpy as np\n",
    "x = np.array([[1,1], [1,0], [0,1], [0,0]])\n",
    "y = np.array([[0], [1], [1], [0]])\n",
    "w = tf.random.normal([2],0,1)\n",
    "b = tf.random.normal([1],0,1)\n",
    "b_x = 1\n",
    "\n",
    "for i in range(2000):\n",
    "    error_sum = 0\n",
    "    for j in range(4):\n",
    "        output = sigmoid(np.sum(x[j]*w)+b_x*b)\n",
    "        error = y[j][0] - output\n",
    "        w = w + x[j] * 0.1 * error\n",
    "        b = b + b_x * 0.1 * error\n",
    "        error_sum += error\n",
    "        \n",
    "    if i % 200 == 199:\n",
    "        print(i, error_sum)"
   ]
  },
  {
   "cell_type": "code",
   "execution_count": 1,
   "metadata": {},
   "outputs": [
    {
     "output_type": "error",
     "ename": "NameError",
     "evalue": "name 'x' is not defined",
     "traceback": [
      "\u001b[0;31m---------------------------------------------------------------------------\u001b[0m",
      "\u001b[0;31mNameError\u001b[0m                                 Traceback (most recent call last)",
      "\u001b[0;32m<ipython-input-1-9968a768e55b>\u001b[0m in \u001b[0;36m<module>\u001b[0;34m\u001b[0m\n\u001b[1;32m      1\u001b[0m \u001b[0;31m# 3.24 XOR 네트워크의 평가\u001b[0m\u001b[0;34m\u001b[0m\u001b[0;34m\u001b[0m\u001b[0;34m\u001b[0m\u001b[0m\n\u001b[1;32m      2\u001b[0m \u001b[0;32mfor\u001b[0m \u001b[0mi\u001b[0m \u001b[0;32min\u001b[0m \u001b[0mrange\u001b[0m\u001b[0;34m(\u001b[0m\u001b[0;36m4\u001b[0m\u001b[0;34m)\u001b[0m\u001b[0;34m:\u001b[0m\u001b[0;34m\u001b[0m\u001b[0;34m\u001b[0m\u001b[0m\n\u001b[0;32m----> 3\u001b[0;31m     \u001b[0mprint\u001b[0m\u001b[0;34m(\u001b[0m\u001b[0;34m'X:'\u001b[0m\u001b[0;34m,\u001b[0m \u001b[0mx\u001b[0m\u001b[0;34m[\u001b[0m\u001b[0mi\u001b[0m\u001b[0;34m]\u001b[0m\u001b[0;34m,\u001b[0m \u001b[0;34m'Y:'\u001b[0m\u001b[0;34m,\u001b[0m \u001b[0my\u001b[0m\u001b[0;34m[\u001b[0m\u001b[0mi\u001b[0m\u001b[0;34m]\u001b[0m\u001b[0;34m,\u001b[0m \u001b[0;34m'Output:'\u001b[0m\u001b[0;34m,\u001b[0m \u001b[0msigmoid\u001b[0m\u001b[0;34m(\u001b[0m\u001b[0mnp\u001b[0m\u001b[0;34m.\u001b[0m\u001b[0msum\u001b[0m\u001b[0;34m(\u001b[0m\u001b[0mx\u001b[0m\u001b[0;34m[\u001b[0m\u001b[0mi\u001b[0m\u001b[0;34m]\u001b[0m\u001b[0;34m*\u001b[0m\u001b[0mw\u001b[0m\u001b[0;34m)\u001b[0m\u001b[0;34m+\u001b[0m\u001b[0mb\u001b[0m\u001b[0;34m)\u001b[0m\u001b[0;34m)\u001b[0m\u001b[0;31m# 3.24 XOR 네트워크의 평가\u001b[0m\u001b[0;34m\u001b[0m\u001b[0;34m\u001b[0m\u001b[0m\n\u001b[0m\u001b[1;32m      4\u001b[0m \u001b[0;32mfor\u001b[0m \u001b[0mi\u001b[0m \u001b[0;32min\u001b[0m \u001b[0mrange\u001b[0m\u001b[0;34m(\u001b[0m\u001b[0;36m4\u001b[0m\u001b[0;34m)\u001b[0m\u001b[0;34m:\u001b[0m\u001b[0;34m\u001b[0m\u001b[0;34m\u001b[0m\u001b[0m\n\u001b[1;32m      5\u001b[0m     \u001b[0mprint\u001b[0m\u001b[0;34m(\u001b[0m\u001b[0;34m'X:'\u001b[0m\u001b[0;34m,\u001b[0m \u001b[0mx\u001b[0m\u001b[0;34m[\u001b[0m\u001b[0mi\u001b[0m\u001b[0;34m]\u001b[0m\u001b[0;34m,\u001b[0m \u001b[0;34m'Y:'\u001b[0m\u001b[0;34m,\u001b[0m \u001b[0my\u001b[0m\u001b[0;34m[\u001b[0m\u001b[0mi\u001b[0m\u001b[0;34m]\u001b[0m\u001b[0;34m,\u001b[0m \u001b[0;34m'Output:'\u001b[0m\u001b[0;34m,\u001b[0m \u001b[0msigmoid\u001b[0m\u001b[0;34m(\u001b[0m\u001b[0mnp\u001b[0m\u001b[0;34m.\u001b[0m\u001b[0msum\u001b[0m\u001b[0;34m(\u001b[0m\u001b[0mx\u001b[0m\u001b[0;34m[\u001b[0m\u001b[0mi\u001b[0m\u001b[0;34m]\u001b[0m\u001b[0;34m*\u001b[0m\u001b[0mw\u001b[0m\u001b[0;34m)\u001b[0m\u001b[0;34m+\u001b[0m\u001b[0mb\u001b[0m\u001b[0;34m)\u001b[0m\u001b[0;34m)\u001b[0m\u001b[0;34m\u001b[0m\u001b[0;34m\u001b[0m\u001b[0m\n",
      "\u001b[0;31mNameError\u001b[0m: name 'x' is not defined"
     ]
    }
   ],
   "source": [
    "# 3.24 XOR 네트워크의 평가\n",
    "for i in range(4):\n",
    "    print('X:', x[i], 'Y:', y[i], 'Output:', sigmoid(np.sum(x[i]*w)+b))"
   ]
  },
  {
   "cell_type": "code",
   "execution_count": null,
   "metadata": {},
   "outputs": [],
   "source": []
  }
 ],
 "metadata": {
  "kernelspec": {
   "display_name": "Python 3",
   "language": "python",
   "name": "python3"
  },
  "language_info": {
   "codemirror_mode": {
    "name": "ipython",
    "version": 3
   },
   "file_extension": ".py",
   "mimetype": "text/x-python",
   "name": "python",
   "nbconvert_exporter": "python",
   "pygments_lexer": "ipython3",
   "version": "3.6.8"
  }
 },
 "nbformat": 4,
 "nbformat_minor": 2
}