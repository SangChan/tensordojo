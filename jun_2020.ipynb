{
 "cells": [
  {
   "cell_type": "code",
   "execution_count": 19,
   "metadata": {},
   "outputs": [
    {
     "name": "stdout",
     "output_type": "stream",
     "text": [
      "Linux-4.4.59+-x86_64-with-Ubuntu-18.04-bionic\n",
      "2.0.0\n"
     ]
    }
   ],
   "source": [
    "import platform\n",
    "print(platform.platform())\n",
    "\n",
    "import tensorflow as tf\n",
    "print(tf.__version__)"
   ]
  },
  {
   "cell_type": "code",
   "execution_count": 20,
   "metadata": {},
   "outputs": [
    {
     "name": "stdout",
     "output_type": "stream",
     "text": [
      "tf.Tensor([0.6823361], shape=(1,), dtype=float32)\n",
      "tf.Tensor([0.6415732  0.06022656 0.8785373  0.6913433 ], shape=(4,), dtype=float32)\n",
      "tf.Tensor([-0.03335258 -0.38798696 -1.3710227   0.5458356 ], shape=(4,), dtype=float32)\n"
     ]
    }
   ],
   "source": [
    "rand = tf.random.uniform([1],0,1)\n",
    "print(rand)\n",
    "rand = tf.random.uniform([4],0,1)\n",
    "print(rand)\n",
    "rand = tf.random.normal([4],0,1)\n",
    "print(rand)"
   ]
  },
  {
   "cell_type": "code",
   "execution_count": 21,
   "metadata": {},
   "outputs": [],
   "source": [
    "import math\n",
    "def sigmoid(x):\n",
    "    return 1 / (1 + math.exp(-x))"
   ]
  },
  {
   "cell_type": "code",
   "execution_count": 22,
   "metadata": {},
   "outputs": [
    {
     "name": "stdout",
     "output_type": "stream",
     "text": [
      "0.41743708926487333\n"
     ]
    }
   ],
   "source": [
    "# 3.11 뉴런의 입력과 출력 정의\n",
    "x = 1\n",
    "y = 0\n",
    "w = tf.random.normal([1],0,1)\n",
    "output = sigmoid(x * w)\n",
    "print(output)"
   ]
  },
  {
   "cell_type": "code",
   "execution_count": 23,
   "metadata": {},
   "outputs": [
    {
     "name": "stdout",
     "output_type": "stream",
     "text": [
      "99 -0.09563690490567413 0.09563690490567413\n",
      "199 -0.05050255360633716 0.05050255360633716\n",
      "299 -0.03400432675079942 0.03400432675079942\n",
      "399 -0.02555716133705129 0.02555716133705129\n",
      "499 -0.020445392799688652 0.020445392799688652\n",
      "599 -0.01702607372509271 0.01702607372509271\n",
      "699 -0.014580735457996883 0.014580735457996883\n",
      "799 -0.012746328350603055 0.012746328350603055\n",
      "899 -0.011319905380917103 0.011319905380917103\n",
      "999 -0.010179387066534738 0.010179387066534738\n"
     ]
    }
   ],
   "source": [
    "# 3.12 경사 하강법을 이용한 뉴런의 학습\n",
    "for i in range(1000):\n",
    "    output = sigmoid(x * w)\n",
    "    error = y - output\n",
    "    w = w + x * 0.1 * error\n",
    "    \n",
    "    if i % 100 == 99:\n",
    "        print(i, error, output)"
   ]
  },
  {
   "cell_type": "code",
   "execution_count": 24,
   "metadata": {},
   "outputs": [
    {
     "name": "stdout",
     "output_type": "stream",
     "text": [
      "99 0.5 0.5\n",
      "199 0.5 0.5\n",
      "299 0.5 0.5\n",
      "399 0.5 0.5\n",
      "499 0.5 0.5\n",
      "599 0.5 0.5\n",
      "699 0.5 0.5\n",
      "799 0.5 0.5\n",
      "899 0.5 0.5\n",
      "999 0.5 0.5\n"
     ]
    }
   ],
   "source": [
    "# 3.13 x=0 일 때 y=1 을 얻는 뉴런의 학습\n",
    "x = 0\n",
    "y = 1\n",
    "w = tf.random.normal([1],0,1)\n",
    "\n",
    "for i in range(1000):\n",
    "    output = sigmoid(x * w)\n",
    "    error = y - output\n",
    "    w = w + x * 0.1 * error\n",
    "    \n",
    "    if i % 100 == 99:\n",
    "        print(i, error, output)"
   ]
  },
  {
   "cell_type": "code",
   "execution_count": 25,
   "metadata": {},
   "outputs": [
    {
     "name": "stdout",
     "output_type": "stream",
     "text": [
      "99 0.09040500194303192 0.9095949980569681\n",
      "199 0.048938578083359 0.951061421916641\n",
      "299 0.03327674044321616 0.9667232595567838\n",
      "399 0.025140604096765773 0.9748593959032342\n",
      "499 0.020176658432014993 0.979823341567985\n",
      "599 0.016838692357164176 0.9831613076428358\n",
      "699 0.014442781476612154 0.9855572185233878\n",
      "799 0.01264056191466445 0.9873594380853356\n",
      "899 0.011236309228345509 0.9887636907716545\n",
      "999 0.010111646678578112 0.9898883533214219\n"
     ]
    }
   ],
   "source": [
    "# 3.14 x=0 일 때 y=1 을 얻는 뉴런의 학습에 편향을 더함\n",
    "x = 0\n",
    "y = 1\n",
    "w = tf.random.normal([1],0,1)\n",
    "b = tf.random.normal([1],0,1)\n",
    "\n",
    "for i in range(1000):\n",
    "    output = sigmoid(x * w + 1 * b)\n",
    "    error = y - output\n",
    "    w = w + x * 0.1 * error\n",
    "    b = b + 1 * 0.1 * error\n",
    "    \n",
    "    if i % 100 == 99:\n",
    "        print(i, error, output)"
   ]
  },
  {
   "cell_type": "code",
   "execution_count": 26,
   "metadata": {},
   "outputs": [
    {
     "name": "stdout",
     "output_type": "stream",
     "text": [
      "1\n",
      "0\n"
     ]
    }
   ],
   "source": [
    "# 3.15 True, False 의 정수값 확인\n",
    "print(int(True))\n",
    "print(int(False))"
   ]
  },
  {
   "cell_type": "code",
   "execution_count": 27,
   "metadata": {},
   "outputs": [
    {
     "name": "stdout",
     "output_type": "stream",
     "text": [
      "199 -0.11219290844922701\n",
      "399 -0.06636376162197924\n",
      "599 -0.04701086340761888\n",
      "799 -0.036291604700209146\n",
      "999 -0.02949887451346868\n",
      "1199 -0.024818166971645007\n",
      "1399 -0.0214032135296459\n",
      "1599 -0.01880517967283648\n",
      "1799 -0.016761602035586885\n",
      "1999 -0.015114938628399287\n"
     ]
    }
   ],
   "source": [
    "# 3.16 첫번째 신경망 네트워크 : AND\n",
    "import numpy as np\n",
    "x = np.array([[1,1], [1,0], [0,1], [0,0]])\n",
    "y = np.array([[1], [0], [0], [0]])\n",
    "w = tf.random.normal([2],0,1)\n",
    "b = tf.random.normal([1],0,1)\n",
    "b_x = 1\n",
    "\n",
    "for i in range(2000):\n",
    "    error_sum = 0\n",
    "    for j in range(4):\n",
    "        output = sigmoid(np.sum(x[j]*w)+b_x*b)\n",
    "        error = y[j][0] - output\n",
    "        w = w + x[j] * 0.1 * error\n",
    "        b = b + b_x * 0.1 * error\n",
    "        error_sum += error\n",
    "        \n",
    "    if i % 200 == 199:\n",
    "        print(i, error_sum)"
   ]
  },
  {
   "cell_type": "code",
   "execution_count": 28,
   "metadata": {
    "tags": []
   },
   "outputs": [
    {
     "name": "stdout",
     "output_type": "stream",
     "text": [
      "[1, 2, 3, 1, 2, 3]\n",
      "[]\n",
      "[]\n"
     ]
    }
   ],
   "source": [
    "# 3.17 파이썬에서 리스트에 정수를 곱하기\n",
    "print([1,2,3]*2)\n",
    "print([1,2,3]*0)\n",
    "print([1,2,3]*-1)"
   ]
  },
  {
   "cell_type": "code",
   "execution_count": 29,
   "metadata": {},
   "outputs": [
    {
     "ename": "TypeError",
     "evalue": "can't multiply sequence by non-int of type 'float'",
     "output_type": "error",
     "traceback": [
      "\u001b[0;31m---------------------------------------------------------------------------\u001b[0m",
      "\u001b[0;31mTypeError\u001b[0m                                 Traceback (most recent call last)",
      "\u001b[0;32m<ipython-input-29-9324b729b044>\u001b[0m in \u001b[0;36m<module>\u001b[0;34m\u001b[0m\n\u001b[1;32m      1\u001b[0m \u001b[0;31m# 3.18 파이썬에서 리스트에 실수를 곱하기\u001b[0m\u001b[0;34m\u001b[0m\u001b[0;34m\u001b[0m\u001b[0;34m\u001b[0m\u001b[0m\n\u001b[0;32m----> 2\u001b[0;31m \u001b[0mprint\u001b[0m\u001b[0;34m(\u001b[0m\u001b[0;34m[\u001b[0m\u001b[0;36m1\u001b[0m\u001b[0;34m,\u001b[0m\u001b[0;36m2\u001b[0m\u001b[0;34m,\u001b[0m\u001b[0;36m3\u001b[0m\u001b[0;34m]\u001b[0m\u001b[0;34m*\u001b[0m\u001b[0;36m0.01\u001b[0m\u001b[0;34m)\u001b[0m\u001b[0;34m\u001b[0m\u001b[0;34m\u001b[0m\u001b[0m\n\u001b[0m",
      "\u001b[0;31mTypeError\u001b[0m: can't multiply sequence by non-int of type 'float'"
     ]
    }
   ],
   "source": [
    "# 3.18 파이썬에서 리스트에 실수를 곱하기\n",
    "# print([1,2,3]*0.01)"
   ]
  },
  {
   "cell_type": "code",
   "execution_count": 30,
   "metadata": {},
   "outputs": [
    {
     "name": "stdout",
     "output_type": "stream",
     "text": [
      "[2 4 6]\n",
      "[0 0 0]\n",
      "[-1 -2 -3]\n",
      "[0.01 0.02 0.03]\n"
     ]
    }
   ],
   "source": [
    "# 3.19 넘파이 array 에 정수, 실수를 곱하기\n",
    "import numpy as np\n",
    "print(np.array([1,2,3])*2)\n",
    "print(np.array([1,2,3])*0)\n",
    "print(np.array([1,2,3])*-1)\n",
    "print(np.array([1,2,3])*0.01)"
   ]
  },
  {
   "cell_type": "code",
   "execution_count": 31,
   "metadata": {},
   "outputs": [
    {
     "name": "stdout",
     "output_type": "stream",
     "text": [
      "X: [1 1] Y: [1] Output: 0.9647119032316477\n",
      "X: [1 0] Y: [0] Output: 0.02500536608142539\n",
      "X: [0 1] Y: [0] Output: 0.02508223142803273\n",
      "X: [0 0] Y: [0] Output: 2.4135110588939226e-05\n"
     ]
    }
   ],
   "source": [
    "# 3.20 AND 네트워크의 평가\n",
    "for i in range(4):\n",
    "    print('X:', x[i], 'Y:', y[i], 'Output:', sigmoid(np.sum(x[i]*w)+b))"
   ]
  },
  {
   "cell_type": "code",
   "execution_count": 32,
   "metadata": {},
   "outputs": [
    {
     "name": "stdout",
     "output_type": "stream",
     "text": [
      "199 -0.045106277654469035\n",
      "399 -0.024488171987079282\n",
      "599 -0.01673981907231341\n",
      "799 -0.012678439686562022\n",
      "999 -0.010186409803206516\n",
      "1199 -0.00850483245179913\n",
      "1399 -0.007295249227830786\n",
      "1599 -0.006384149303774206\n",
      "1799 -0.005674280020675378\n",
      "1999 -0.005104123872069228\n"
     ]
    }
   ],
   "source": [
    "# 3.21 두번째 신경망 네트워크 : OR\n",
    "import numpy as np\n",
    "x = np.array([[1,1], [1,0], [0,1], [0,0]])\n",
    "y = np.array([[1], [1], [1], [0]])\n",
    "w = tf.random.normal([2],0,1)\n",
    "b = tf.random.normal([1],0,1)\n",
    "b_x = 1\n",
    "\n",
    "for i in range(2000):\n",
    "    error_sum = 0\n",
    "    for j in range(4):\n",
    "        output = sigmoid(np.sum(x[j]*w)+b_x*b)\n",
    "        error = y[j][0] - output\n",
    "        w = w + x[j] * 0.1 * error\n",
    "        b = b + b_x * 0.1 * error\n",
    "        error_sum += error\n",
    "        \n",
    "    if i % 200 == 199:\n",
    "        print(i, error_sum)"
   ]
  },
  {
   "cell_type": "code",
   "execution_count": 33,
   "metadata": {},
   "outputs": [
    {
     "name": "stdout",
     "output_type": "stream",
     "text": [
      "X: [1 1] Y: [1] Output: 0.9999972794308919\n",
      "X: [1 0] Y: [1] Output: 0.9898632794344967\n",
      "X: [0 1] Y: [1] Output: 0.9898721748665975\n",
      "X: [0 0] Y: [0] Output: 0.025308646835730267\n"
     ]
    }
   ],
   "source": [
    "# 3.22 OR 네트워크의 평가\n",
    "for i in range(4):\n",
    "    print('X:', x[i], 'Y:', y[i], 'Output:', sigmoid(np.sum(x[i]*w)+b))"
   ]
  },
  {
   "cell_type": "code",
   "execution_count": 35,
   "metadata": {},
   "outputs": [
    {
     "name": "stdout",
     "output_type": "stream",
     "text": [
      "199 0.002264964074130016\n",
      "399 9.205257900513075e-05\n",
      "599 3.7358747346782906e-06\n",
      "799 1.3588374314643659e-07\n",
      "999 1.8614211283463078e-09\n",
      "1199 1.8614210173240053e-09\n",
      "1399 1.8614210173240053e-09\n",
      "1599 1.8614210173240053e-09\n",
      "1799 1.8614210173240053e-09\n",
      "1999 1.8614210173240053e-09\n"
     ]
    }
   ],
   "source": [
    "# 3.23 세번째 신경망 네트워크 : XOR\n",
    "import numpy as np\n",
    "x = np.array([[1,1], [1,0], [0,1], [0,0]])\n",
    "y = np.array([[0], [1], [1], [0]])\n",
    "w = tf.random.normal([2],0,1)\n",
    "b = tf.random.normal([1],0,1)\n",
    "b_x = 1\n",
    "\n",
    "for i in range(2000):\n",
    "    error_sum = 0\n",
    "    for j in range(4):\n",
    "        output = sigmoid(np.sum(x[j]*w)+b_x*b)\n",
    "        error = y[j][0] - output\n",
    "        w = w + x[j] * 0.1 * error\n",
    "        b = b + b_x * 0.1 * error\n",
    "        error_sum += error\n",
    "        \n",
    "    if i % 200 == 199:\n",
    "        print(i, error_sum)"
   ]
  },
  {
   "cell_type": "code",
   "execution_count": 36,
   "metadata": {},
   "outputs": [
    {
     "name": "stdout",
     "output_type": "stream",
     "text": [
      "X: [1 1] Y: [0] Output: 0.5128176323940516\n",
      "X: [1 0] Y: [1] Output: 0.5128176314633411\n",
      "X: [0 1] Y: [1] Output: 0.4999999990686774\n",
      "X: [0 0] Y: [0] Output: 0.49999999813735485\n"
     ]
    }
   ],
   "source": [
    "# 3.24 XOR 네트워크의 평가\n",
    "for i in range(4):\n",
    "    print('X:', x[i], 'Y:', y[i], 'Output:', sigmoid(np.sum(x[i]*w)+b))"
   ]
  },
  {
   "cell_type": "code",
   "execution_count": null,
   "metadata": {},
   "outputs": [],
   "source": []
  }
 ],
 "metadata": {
  "kernelspec": {
   "display_name": "Python 3",
   "language": "python",
   "name": "python3"
  },
  "language_info": {
   "codemirror_mode": {
    "name": "ipython",
    "version": 3
   },
   "file_extension": ".py",
   "mimetype": "text/x-python",
   "name": "python",
   "nbconvert_exporter": "python",
   "pygments_lexer": "ipython3",
   "version": "3.6.8"
  }
 },
 "nbformat": 4,
 "nbformat_minor": 2
}
